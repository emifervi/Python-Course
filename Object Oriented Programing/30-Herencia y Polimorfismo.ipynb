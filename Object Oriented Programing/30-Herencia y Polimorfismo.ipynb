{
 "cells": [
  {
   "cell_type": "markdown",
   "metadata": {},
   "source": [
    "# Herencia y Polimorfismo\n",
    "\n",
    "## Herencia \n",
    "\n",
    "Es una forma de crear clases apartir de clases que ya habíamos creado ayudando así a reutilizar código previamente hecho y reducir la complejidad de un programa.\n",
    "    Para esto es necesario primero crear una _clase base_ o _clase padre_ con los atributos generales que compartirán las _clases hijas_ y luego desarrollar las _clases heredadas o hijas_. "
   ]
  },
  {
   "cell_type": "code",
   "execution_count": 3,
   "metadata": {},
   "outputs": [],
   "source": [
    "# Clase padre\n",
    "\n",
    "class Animal():\n",
    "    \n",
    "    def __init__(self):\n",
    "        print('ANIMAL CREATED')\n",
    "        \n",
    "    def quien_soy(self):\n",
    "        print('Soy un animal')\n",
    "    \n",
    "    def comer(self):\n",
    "        print('Estoy comiendo')"
   ]
  },
  {
   "cell_type": "code",
   "execution_count": 4,
   "metadata": {},
   "outputs": [
    {
     "name": "stdout",
     "output_type": "stream",
     "text": [
      "ANIMAL CREATED\n"
     ]
    }
   ],
   "source": [
    "myanimal = Animal()"
   ]
  },
  {
   "cell_type": "code",
   "execution_count": 5,
   "metadata": {},
   "outputs": [
    {
     "name": "stdout",
     "output_type": "stream",
     "text": [
      "Soy un animal\n"
     ]
    }
   ],
   "source": [
    "myanimal.quien_soy()"
   ]
  },
  {
   "cell_type": "code",
   "execution_count": 6,
   "metadata": {},
   "outputs": [
    {
     "name": "stdout",
     "output_type": "stream",
     "text": [
      "Estoy comiendo\n"
     ]
    }
   ],
   "source": [
    "myanimal.comer()"
   ]
  },
  {
   "cell_type": "markdown",
   "metadata": {},
   "source": [
    "Ahora que ya definimos la clase padre podremos desarrollar una clase hija que haga uso de los métodos de la clase padre para simplificar su funcionalidad. \n",
    "\n",
    "En este caso por ejemplo, volveremos a tratar con la clase _Perro()_ de la lección pasada. Para declarar que una clase hereda de otra, a la hora de declarar la clase usaremos la siguiente sintáxis:\n",
    "\n",
    "> ### class ClaseHija(ClasePadre):\n",
    "\n",
    "- Ej.-"
   ]
  },
  {
   "cell_type": "code",
   "execution_count": 7,
   "metadata": {},
   "outputs": [],
   "source": [
    "# Clase hija\n",
    "class Perro(Animal):\n",
    "    \n",
    "    def __init__(self):\n",
    "        Animal.__init__(self)  # Crea instancia de la clase animal al crear un Perro\n",
    "        print('Dog created')\n"
   ]
  },
  {
   "cell_type": "code",
   "execution_count": 9,
   "metadata": {},
   "outputs": [
    {
     "name": "stdout",
     "output_type": "stream",
     "text": [
      "ANIMAL CREATED\n",
      "Dog created\n"
     ]
    }
   ],
   "source": [
    "mydog = Perro()"
   ]
  },
  {
   "cell_type": "markdown",
   "metadata": {},
   "source": [
    "Como podemos ver, se imprimen los mensajes de animal y de perro, debido a que la clase _Perro()_ hereda de animal y al hacer la llamada del \\_\\_init()\\_\\_ de animal en el \\_\\_init()\\_\\_ de perro, este objeto es un perro que a su vez es un animal.\n",
    "\n",
    "De esta manera podemos ver como el objeto de la clase _Perro_ puede utilizar también los métodos de la clase _Animal_"
   ]
  },
  {
   "cell_type": "code",
   "execution_count": 11,
   "metadata": {},
   "outputs": [
    {
     "name": "stdout",
     "output_type": "stream",
     "text": [
      "Estoy comiendo\n"
     ]
    }
   ],
   "source": [
    "mydog.comer()"
   ]
  },
  {
   "cell_type": "code",
   "execution_count": 12,
   "metadata": {},
   "outputs": [
    {
     "name": "stdout",
     "output_type": "stream",
     "text": [
      "Soy un animal\n"
     ]
    }
   ],
   "source": [
    "mydog.quien_soy()"
   ]
  },
  {
   "cell_type": "markdown",
   "metadata": {},
   "source": [
    "Si por alguna razón quisieramos sobre escribir uno de los métodos de la clase padre en la clase hija no habría problema debido a que a la hora de llamar a un método, el _alcance_ de la llamada a método es al primer método con ese nombre desde la clase hija a la padre.\n",
    "\n",
    "- Ej."
   ]
  },
  {
   "cell_type": "code",
   "execution_count": 15,
   "metadata": {},
   "outputs": [],
   "source": [
    "# Clase Hija 2\n",
    "class Gato(Animal):\n",
    "    \n",
    "    def __init__(self):\n",
    "        Animal.__init__(self)\n",
    "        print('Gato creado')\n",
    "        \n",
    "    def quien_soy(self):\n",
    "        print('Soy un gato')"
   ]
  },
  {
   "cell_type": "code",
   "execution_count": 16,
   "metadata": {},
   "outputs": [
    {
     "name": "stdout",
     "output_type": "stream",
     "text": [
      "ANIMAL CREATED\n",
      "Gato creado\n"
     ]
    }
   ],
   "source": [
    "mycat = Gato()"
   ]
  },
  {
   "cell_type": "code",
   "execution_count": 17,
   "metadata": {},
   "outputs": [
    {
     "name": "stdout",
     "output_type": "stream",
     "text": [
      "Soy un gato\n"
     ]
    }
   ],
   "source": [
    "mycat.quien_soy()"
   ]
  },
  {
   "cell_type": "markdown",
   "metadata": {},
   "source": [
    "Incluso es posible agregar métodos sólo a la clase hija que no sean de la clase padre."
   ]
  },
  {
   "cell_type": "code",
   "execution_count": 18,
   "metadata": {},
   "outputs": [],
   "source": [
    "# Clase Hija 3\n",
    "class Pajaro(Animal):\n",
    "    \n",
    "    def __init__(self):\n",
    "        Animal.__init__(self)\n",
    "        print('Pajaro creado')\n",
    "        \n",
    "    def comer(self):\n",
    "        print('Soy pajaro y estoy comiendo')\n",
    "        \n",
    "    def cantar(self):\n",
    "        print('Tweet tweet')"
   ]
  },
  {
   "cell_type": "code",
   "execution_count": 19,
   "metadata": {},
   "outputs": [
    {
     "name": "stdout",
     "output_type": "stream",
     "text": [
      "ANIMAL CREATED\n",
      "Pajaro creado\n"
     ]
    }
   ],
   "source": [
    "mybird = Pajaro()"
   ]
  },
  {
   "cell_type": "code",
   "execution_count": 20,
   "metadata": {},
   "outputs": [
    {
     "name": "stdout",
     "output_type": "stream",
     "text": [
      "Soy pajaro y estoy comiendo\n"
     ]
    }
   ],
   "source": [
    "mybird.comer()"
   ]
  },
  {
   "cell_type": "code",
   "execution_count": 21,
   "metadata": {},
   "outputs": [
    {
     "name": "stdout",
     "output_type": "stream",
     "text": [
      "Tweet tweet\n"
     ]
    }
   ],
   "source": [
    "mybird.cantar()"
   ]
  },
  {
   "cell_type": "markdown",
   "metadata": {},
   "source": [
    "## Polimorfismo\n",
    "\n",
    "En Python, polimorfísmo es la manera en la que se llama al evento en el que dos o más clases tienen métodos con el mismo nombre. Sin embargo, a la hora de llamar al método con un objeto de cada tipo se llama al método correspondiente a esa clase.\n",
    "\n",
    "- Ej.-"
   ]
  },
  {
   "cell_type": "code",
   "execution_count": 25,
   "metadata": {},
   "outputs": [],
   "source": [
    "# Re definimos clase Perro\n",
    "\n",
    "class Perro():\n",
    "    \n",
    "    def __init__(self, name):\n",
    "        self.name = name\n",
    "    \n",
    "    def speak(self):\n",
    "        return self.name + ' hace woof!'"
   ]
  },
  {
   "cell_type": "code",
   "execution_count": 32,
   "metadata": {},
   "outputs": [],
   "source": [
    "# Re definimos clase Gato\n",
    "\n",
    "class Gato():\n",
    "    \n",
    "    def __init__(self,name):\n",
    "        self.name = name\n",
    "    \n",
    "    def speak(self):\n",
    "        return self.name + ' hace miaw!' "
   ]
  },
  {
   "cell_type": "code",
   "execution_count": 33,
   "metadata": {},
   "outputs": [],
   "source": [
    "niko = Perro('niko')\n",
    "felix = Gato('felix')"
   ]
  },
  {
   "cell_type": "code",
   "execution_count": 34,
   "metadata": {},
   "outputs": [
    {
     "name": "stdout",
     "output_type": "stream",
     "text": [
      "niko hace woof!\n"
     ]
    }
   ],
   "source": [
    "print(niko.speak())"
   ]
  },
  {
   "cell_type": "code",
   "execution_count": 35,
   "metadata": {},
   "outputs": [
    {
     "name": "stdout",
     "output_type": "stream",
     "text": [
      "felix hace miaw!\n"
     ]
    }
   ],
   "source": [
    "print(felix.speak())"
   ]
  },
  {
   "cell_type": "markdown",
   "metadata": {},
   "source": [
    "Una manera común de probar/usar polimorfismo es usando un loop con objetos de diferentes tipos:"
   ]
  },
  {
   "cell_type": "code",
   "execution_count": 38,
   "metadata": {},
   "outputs": [
    {
     "name": "stdout",
     "output_type": "stream",
     "text": [
      "<class '__main__.Perro'>\n",
      "niko hace woof!\n",
      "<class '__main__.Gato'>\n",
      "felix hace miaw!\n"
     ]
    }
   ],
   "source": [
    "for mascota in [niko,felix]:\n",
    "    print(type(mascota))\n",
    "    print(mascota.speak())"
   ]
  },
  {
   "cell_type": "markdown",
   "metadata": {},
   "source": [
    "Como podemos ver mascota al principio es clase _Perro_ y llama al método _speak()_ y ladra, y después es tipo gato y llama al método _speak()_ y maulla.\n",
    "\n",
    "Otra manera común de aprovechar polimorfismo es con funciones:"
   ]
  },
  {
   "cell_type": "code",
   "execution_count": 39,
   "metadata": {},
   "outputs": [],
   "source": [
    "def mascota_habla(mascota):\n",
    "    print(mascota.speak())"
   ]
  },
  {
   "cell_type": "code",
   "execution_count": 40,
   "metadata": {},
   "outputs": [
    {
     "name": "stdout",
     "output_type": "stream",
     "text": [
      "niko hace woof!\n"
     ]
    }
   ],
   "source": [
    "mascota_habla(niko)"
   ]
  },
  {
   "cell_type": "code",
   "execution_count": 41,
   "metadata": {},
   "outputs": [
    {
     "name": "stdout",
     "output_type": "stream",
     "text": [
      "felix hace miaw!\n"
     ]
    }
   ],
   "source": [
    "mascota_habla(felix)"
   ]
  },
  {
   "cell_type": "markdown",
   "metadata": {},
   "source": [
    "Por último es posible crear _clases abstractas_ estas son clases (generalmente padres) que creamos como apoyo para crear las clases hijas pero no se espera crear un objeto de esta clase base. Más adelante veremos esto a detalle.\n",
    "\n",
    "- Ej.-"
   ]
  },
  {
   "cell_type": "code",
   "execution_count": 52,
   "metadata": {},
   "outputs": [],
   "source": [
    "# Redefinimos la clase Animal como clase abstracta\n",
    "class Animal():\n",
    "    \n",
    "    def __init__(self, name):\n",
    "        self.name = name\n",
    "        \n",
    "    def speak(self):\n",
    "        raise NotImplementedError('Una sublclase debe implementar este método abstacto')"
   ]
  },
  {
   "cell_type": "code",
   "execution_count": 43,
   "metadata": {},
   "outputs": [],
   "source": [
    "myanimal = Animal('Fred')"
   ]
  },
  {
   "cell_type": "code",
   "execution_count": 44,
   "metadata": {},
   "outputs": [
    {
     "ename": "NotImplementedError",
     "evalue": "Una sublclase debe implementar este método abstacto",
     "output_type": "error",
     "traceback": [
      "\u001b[0;31m---------------------------------------------------------------------------\u001b[0m",
      "\u001b[0;31mNotImplementedError\u001b[0m                       Traceback (most recent call last)",
      "\u001b[0;32m<ipython-input-44-188713a00ef6>\u001b[0m in \u001b[0;36m<module>\u001b[0;34m()\u001b[0m\n\u001b[0;32m----> 1\u001b[0;31m \u001b[0mmyanimal\u001b[0m\u001b[0;34m.\u001b[0m\u001b[0mspeak\u001b[0m\u001b[0;34m(\u001b[0m\u001b[0;34m)\u001b[0m\u001b[0;34m\u001b[0m\u001b[0m\n\u001b[0m",
      "\u001b[0;32m<ipython-input-42-a78c558390f2>\u001b[0m in \u001b[0;36mspeak\u001b[0;34m(self)\u001b[0m\n\u001b[1;32m      6\u001b[0m \u001b[0;34m\u001b[0m\u001b[0m\n\u001b[1;32m      7\u001b[0m     \u001b[0;32mdef\u001b[0m \u001b[0mspeak\u001b[0m\u001b[0;34m(\u001b[0m\u001b[0mself\u001b[0m\u001b[0;34m)\u001b[0m\u001b[0;34m:\u001b[0m\u001b[0;34m\u001b[0m\u001b[0m\n\u001b[0;32m----> 8\u001b[0;31m         \u001b[0;32mraise\u001b[0m \u001b[0mNotImplementedError\u001b[0m\u001b[0;34m(\u001b[0m\u001b[0;34m'Una sublclase debe implementar este método abstacto'\u001b[0m\u001b[0;34m)\u001b[0m\u001b[0;34m\u001b[0m\u001b[0m\n\u001b[0m",
      "\u001b[0;31mNotImplementedError\u001b[0m: Una sublclase debe implementar este método abstacto"
     ]
    }
   ],
   "source": [
    "myanimal.speak()"
   ]
  },
  {
   "cell_type": "code",
   "execution_count": 46,
   "metadata": {},
   "outputs": [],
   "source": [
    "# Re definimos clase perro\n",
    "\n",
    "class Perro(Animal):\n",
    "    \n",
    "    def speak(self):\n",
    "        return self.name + ' hace woof!'"
   ]
  },
  {
   "cell_type": "code",
   "execution_count": 47,
   "metadata": {},
   "outputs": [],
   "source": [
    "# Re definimos clase gato\n",
    "\n",
    "class Gato(Animal):\n",
    "    \n",
    "    def speak(self):\n",
    "        return self.name + ' hace miaw!'"
   ]
  },
  {
   "cell_type": "code",
   "execution_count": 48,
   "metadata": {},
   "outputs": [],
   "source": [
    "fido = Perro('Fido')"
   ]
  },
  {
   "cell_type": "code",
   "execution_count": 49,
   "metadata": {},
   "outputs": [],
   "source": [
    "nefertiti = Gato('Nefertiti')"
   ]
  },
  {
   "cell_type": "code",
   "execution_count": 50,
   "metadata": {},
   "outputs": [
    {
     "name": "stdout",
     "output_type": "stream",
     "text": [
      "Fido hace woof!\n"
     ]
    }
   ],
   "source": [
    "print(fido.speak())"
   ]
  },
  {
   "cell_type": "code",
   "execution_count": 51,
   "metadata": {},
   "outputs": [
    {
     "name": "stdout",
     "output_type": "stream",
     "text": [
      "Nefertiti hace miaw!\n"
     ]
    }
   ],
   "source": [
    "print(nefertiti.speak())"
   ]
  }
 ],
 "metadata": {
  "kernelspec": {
   "display_name": "Python 3",
   "language": "python",
   "name": "python3"
  },
  "language_info": {
   "codemirror_mode": {
    "name": "ipython",
    "version": 3
   },
   "file_extension": ".py",
   "mimetype": "text/x-python",
   "name": "python",
   "nbconvert_exporter": "python",
   "pygments_lexer": "ipython3",
   "version": "3.6.4"
  }
 },
 "nbformat": 4,
 "nbformat_minor": 2
}
