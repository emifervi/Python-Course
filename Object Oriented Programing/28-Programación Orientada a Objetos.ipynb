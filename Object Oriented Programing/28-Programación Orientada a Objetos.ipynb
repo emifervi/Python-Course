{
 "cells": [
  {
   "cell_type": "markdown",
   "metadata": {},
   "source": [
    "# Programación Orientada a Objetos (OOP)\n",
    "\n",
    "Cuando empezamos a ver los tipos de datos y estructuras de datos con los que cuenta nativamente Pythons, vimos como utilizamos _métodos_ con la notación:\n",
    "\n",
    "> ## _objeto_.nombre_metodo()\n",
    "\n",
    "Estos métodos son funciones que utilizan atributos de los objetos para llevar a cabo sus funciones. Aquí es cuando OOP se vuelve útil, esto debido a que este tipo de programación permite a los desarrolladores crear sus propios tipos de objetos. Al principio el formato puede ser algo confuso y parecer no muy útil.\n",
    "\n",
    "Sin embargo, a medida que utilicemos este tipo de programación nos daremos cuenta de como permite crear código repetible y organizado.\n",
    "\n",
    "A continuación la sintaxis:\n",
    "\n",
    "```\n",
    "class NombreDeClase():\n",
    "\n",
    "     def __init__(self,param1,param2):\n",
    "          self.param1 = param1\n",
    "          self.param2 = param2\n",
    "          \n",
    "     def un_metodo(self):\n",
    "         # realizar accion\n",
    "         print(self.param1)\n",
    "```\n",
    "\n",
    "Primero veremos un ejemplo de objeto predefinido para intentar entender cómo funcionan OOP.\n",
    "\n",
    "En este ejemplo tenemos una lista y podemos ver como tiene _métodos_ como _.sort()_ el cual nos ayuda a order la lista y como al poner la lista en la función _type()_ esta nos retorna el tipo de objeto"
   ]
  },
  {
   "cell_type": "code",
   "execution_count": 1,
   "metadata": {},
   "outputs": [],
   "source": [
    "myList = [5,8,2,6,3]"
   ]
  },
  {
   "cell_type": "code",
   "execution_count": 2,
   "metadata": {},
   "outputs": [],
   "source": [
    "myList.sort()"
   ]
  },
  {
   "cell_type": "code",
   "execution_count": 3,
   "metadata": {},
   "outputs": [
    {
     "data": {
      "text/plain": [
       "[2, 3, 5, 6, 8]"
      ]
     },
     "execution_count": 3,
     "metadata": {},
     "output_type": "execute_result"
    }
   ],
   "source": [
    "myList"
   ]
  },
  {
   "cell_type": "code",
   "execution_count": 4,
   "metadata": {},
   "outputs": [
    {
     "data": {
      "text/plain": [
       "list"
      ]
     },
     "execution_count": 4,
     "metadata": {},
     "output_type": "execute_result"
    }
   ],
   "source": [
    "type(myList)"
   ]
  },
  {
   "cell_type": "markdown",
   "metadata": {},
   "source": [
    "A continuación haremos uso de la sintaxis vista previamente para crear clases y objetos\n",
    "\n",
    "En este caso crearemos la clase más simple posible."
   ]
  },
  {
   "cell_type": "code",
   "execution_count": 5,
   "metadata": {},
   "outputs": [],
   "source": [
    "class Sample():\n",
    "    pass"
   ]
  },
  {
   "cell_type": "markdown",
   "metadata": {},
   "source": [
    "Una vez creada esta clase podemos crear _instancias_ de ella. Una instancia es la manera de referirse a cada objeto creado de una clase."
   ]
  },
  {
   "cell_type": "code",
   "execution_count": 6,
   "metadata": {},
   "outputs": [],
   "source": [
    "my_sample = Sample()"
   ]
  },
  {
   "cell_type": "code",
   "execution_count": 7,
   "metadata": {},
   "outputs": [
    {
     "data": {
      "text/plain": [
       "__main__.Sample"
      ]
     },
     "execution_count": 7,
     "metadata": {},
     "output_type": "execute_result"
    }
   ],
   "source": [
    "type(my_sample)"
   ]
  },
  {
   "cell_type": "markdown",
   "metadata": {},
   "source": [
    "Esta clase no es útil para nada así que ahora agregaremos atributos a esta clase."
   ]
  },
  {
   "cell_type": "code",
   "execution_count": 8,
   "metadata": {},
   "outputs": [],
   "source": [
    "class Dog():\n",
    "    \n",
    "    def __init__(self, raza): # Siempre debemos iniciar la función __init__() con self\n",
    "        self.raza = raza"
   ]
  },
  {
   "cell_type": "markdown",
   "metadata": {},
   "source": [
    "Ahora que tenemos nuestra función _\\_\\_init()\\_\\__ la cual tiene argumentos posicionales, es necesario, a la hora de crear una instacia de la clase, pasar dichos argumentos."
   ]
  },
  {
   "cell_type": "code",
   "execution_count": 12,
   "metadata": {},
   "outputs": [],
   "source": [
    "my_dog = Dog(raza = \"Schnawzer\")"
   ]
  },
  {
   "cell_type": "code",
   "execution_count": 13,
   "metadata": {},
   "outputs": [
    {
     "data": {
      "text/plain": [
       "__main__.Dog"
      ]
     },
     "execution_count": 13,
     "metadata": {},
     "output_type": "execute_result"
    }
   ],
   "source": [
    "type(my_dog)"
   ]
  },
  {
   "cell_type": "code",
   "execution_count": 14,
   "metadata": {},
   "outputs": [
    {
     "data": {
      "text/plain": [
       "'Schnawzer'"
      ]
     },
     "execution_count": 14,
     "metadata": {},
     "output_type": "execute_result"
    }
   ],
   "source": [
    "my_dog.raza"
   ]
  },
  {
   "cell_type": "markdown",
   "metadata": {},
   "source": [
    "Una vez visto esto podemos explicar un poco más. La función _\\_\\_init()\\_\\__ es lo que en otros idiomas de programación se conoce como el _constructor_ y este se llama automaticamente cuando uno crea una instancia de la clase. \n",
    "\n",
    "La palabra _self_ representa a la instancia del objeto por ejemplo cuando tenemos:\n",
    "\n",
    "``` def __init()__ (self,raza): ```\n",
    "\n",
    "En esta situación la función init está tomando al mismo objeto que construye como un argumento para poder pasarle los valores a sus atributos.\n",
    "\n",
    "Si revisamos una vez más la función \\_\\_init()\\_\\_ que creamos previamente procederemos a desglozarla:\n",
    "\n",
    "```\n",
    "def __init__(self,raza):\n",
    "    self.raza = raza\n",
    "```\n",
    "\n",
    "Lo que realmente está pasando en: ```(self,raza)``` es que pasamos el objeto con self y una variable llamada raza que utilizaremos para dar un valor al atributo de nuestro objeto. No obstante en la sección: ```self.raza = raza``` ambas apariciones de la palabra _raza_ hacen referencia a distintas cosas.\n",
    "\n",
    "- En: ```self.raza``` la palabra raza sirve para definir el nombre del atributo de nuestro objeto\n",
    "\n",
    "- En: ```= raza ``` la palabra raza es la variable que pasamos a la función \\_\\_init()\\_\\_\n",
    "\n",
    "En realidad es posible hacer algo como esto:\n",
    "\n",
    "```\n",
    "def __init__(self,mi_raza):\n",
    "    self.raza = mi_raza\n",
    "```\n",
    "\n",
    "En este caso el atributo _raza_ del objeto sería igualado a la variable _mi\\_raza_. Sin embargo, debido a convencionalismos siempre es conveniente poner los nombres de las variables y de los atributos iguales para que no haya lugar a confusiones a la hora de trabajar con las clases.\n",
    "\n",
    "Una vez visto esto podemos hacer nuestra clase un poco más complicada, hasta ahora sólo vimos que podemos pasar de atributos strings. Sin embargo, los atributos de nuestra clase pueden ser de distintos tipos floats, ints, lists, bools, etc."
   ]
  },
  {
   "cell_type": "code",
   "execution_count": 15,
   "metadata": {},
   "outputs": [],
   "source": [
    "class Dog():\n",
    "    \n",
    "    def __init__(self,raza,edad,manchas):\n",
    "        # String\n",
    "        self.raza = raza\n",
    "        \n",
    "        # Int\n",
    "        self.edad = edad\n",
    "        \n",
    "        # Boolean\n",
    "        self.manchas = manchas"
   ]
  },
  {
   "cell_type": "code",
   "execution_count": 16,
   "metadata": {},
   "outputs": [],
   "source": [
    "my_dog = Dog('Chihuahua', 3, False)"
   ]
  },
  {
   "cell_type": "code",
   "execution_count": 17,
   "metadata": {},
   "outputs": [
    {
     "data": {
      "text/plain": [
       "'Chihuahua'"
      ]
     },
     "execution_count": 17,
     "metadata": {},
     "output_type": "execute_result"
    }
   ],
   "source": [
    "my_dog.raza"
   ]
  },
  {
   "cell_type": "code",
   "execution_count": 18,
   "metadata": {},
   "outputs": [
    {
     "data": {
      "text/plain": [
       "3"
      ]
     },
     "execution_count": 18,
     "metadata": {},
     "output_type": "execute_result"
    }
   ],
   "source": [
    "my_dog.edad"
   ]
  },
  {
   "cell_type": "code",
   "execution_count": 19,
   "metadata": {},
   "outputs": [
    {
     "data": {
      "text/plain": [
       "False"
      ]
     },
     "execution_count": 19,
     "metadata": {},
     "output_type": "execute_result"
    }
   ],
   "source": [
    "my_dog.manchas"
   ]
  }
 ],
 "metadata": {
  "kernelspec": {
   "display_name": "Python 3",
   "language": "python",
   "name": "python3"
  },
  "language_info": {
   "codemirror_mode": {
    "name": "ipython",
    "version": 3
   },
   "file_extension": ".py",
   "mimetype": "text/x-python",
   "name": "python",
   "nbconvert_exporter": "python",
   "pygments_lexer": "ipython3",
   "version": "3.6.4"
  }
 },
 "nbformat": 4,
 "nbformat_minor": 2
}
