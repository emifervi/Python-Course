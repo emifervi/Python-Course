{
 "cells": [
  {
   "cell_type": "markdown",
   "metadata": {},
   "source": [
    "# Reto de Programación Orientada a Objetos\n",
    "\n",
    "Para este reto, crea una clase cuenta de banco que tenga dos atributos:\n",
    "\n",
    "- dueño\n",
    "\n",
    "- balance\n",
    "\n",
    "y dos métodos:\n",
    "\n",
    "- depositar\n",
    "\n",
    "- retirar\n",
    "\n",
    "Como requerimiento agregado, los retiros no deben exceder el balance disponible.\n",
    "\n",
    "Crea tu clase y realiza varios depositos y retiros, por último prueba que la cuenta no pueda ser sobre retirada."
   ]
  },
  {
   "cell_type": "code",
   "execution_count": 102,
   "metadata": {},
   "outputs": [],
   "source": [
    "class Account:\n",
    "    \n",
    "    # Constructor\n",
    "    def __init__(self,owner,balance = 0): # dueño,balance\n",
    "        \n",
    "        self.owner = owner\n",
    "        self.balance = balance\n",
    "    \n",
    "    # Método Especial\n",
    "    def __str__(self):\n",
    "        return 'Account owner:   ' + str(self.owner) + '\\nAccount balance: $' + str(self.balance)\n",
    "    \n",
    "    # Métodos funcionales\n",
    "    def deposit(self, dep_ammount):\n",
    "        \n",
    "        print('Deposit Accepted')\n",
    "        self.balance += dep_ammount\n",
    "        \n",
    "    def withdraw(self, with_ammount):\n",
    "        \n",
    "        if with_ammount <= self.balance:\n",
    "            print('Withdrawal Accepted')\n",
    "            self.balance -= with_ammount\n",
    "        else:\n",
    "            print('Funds Unavailable!')\n",
    "        "
   ]
  },
  {
   "cell_type": "code",
   "execution_count": 95,
   "metadata": {},
   "outputs": [],
   "source": [
    "# 1.- Instanciación de la clase\n",
    "acct1 = Account('Jose', 100)"
   ]
  },
  {
   "cell_type": "code",
   "execution_count": 96,
   "metadata": {},
   "outputs": [
    {
     "name": "stdout",
     "output_type": "stream",
     "text": [
      "Account owner:   Jose\n",
      "Account balance: $100\n"
     ]
    }
   ],
   "source": [
    "# 2.- Imprimir objeto\n",
    "print(acct1)"
   ]
  },
  {
   "cell_type": "code",
   "execution_count": 97,
   "metadata": {},
   "outputs": [
    {
     "data": {
      "text/plain": [
       "'Jose'"
      ]
     },
     "execution_count": 97,
     "metadata": {},
     "output_type": "execute_result"
    }
   ],
   "source": [
    "# 3.- Muestra el atributo dueño de la cuenta\n",
    "acct1.owner"
   ]
  },
  {
   "cell_type": "code",
   "execution_count": 98,
   "metadata": {},
   "outputs": [
    {
     "data": {
      "text/plain": [
       "100"
      ]
     },
     "execution_count": 98,
     "metadata": {},
     "output_type": "execute_result"
    }
   ],
   "source": [
    "# 4.- Muestra el atributo balance de la cuenta\n",
    "acct1.balance"
   ]
  },
  {
   "cell_type": "code",
   "execution_count": 99,
   "metadata": {},
   "outputs": [
    {
     "name": "stdout",
     "output_type": "stream",
     "text": [
      "Deposit Accepted\n"
     ]
    }
   ],
   "source": [
    "# 5.- Hacer una serie de depositos y retiros\n",
    "acct1.deposit(50)"
   ]
  },
  {
   "cell_type": "code",
   "execution_count": 100,
   "metadata": {},
   "outputs": [
    {
     "name": "stdout",
     "output_type": "stream",
     "text": [
      "Withdrawal Accepted\n"
     ]
    }
   ],
   "source": [
    "acct1.withdraw(75)"
   ]
  },
  {
   "cell_type": "code",
   "execution_count": 101,
   "metadata": {},
   "outputs": [
    {
     "name": "stdout",
     "output_type": "stream",
     "text": [
      "Funds Unavailable!\n"
     ]
    }
   ],
   "source": [
    "# 6.- Hacer un retiro que exceda el balance disponible\n",
    "acct1.withdraw(500)"
   ]
  },
  {
   "cell_type": "markdown",
   "metadata": {},
   "source": [
    "# Buen Trabajo!"
   ]
  }
 ],
 "metadata": {
  "kernelspec": {
   "display_name": "Python 3",
   "language": "python",
   "name": "python3"
  },
  "language_info": {
   "codemirror_mode": {
    "name": "ipython",
    "version": 3
   },
   "file_extension": ".py",
   "mimetype": "text/x-python",
   "name": "python",
   "nbconvert_exporter": "python",
   "pygments_lexer": "ipython3",
   "version": "3.6.4"
  }
 },
 "nbformat": 4,
 "nbformat_minor": 2
}
