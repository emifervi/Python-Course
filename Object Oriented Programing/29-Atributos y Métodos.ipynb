{
 "cells": [
  {
   "cell_type": "markdown",
   "metadata": {},
   "source": [
    "# Atributos y Métodos de una clase\n",
    "\n",
    "Previamente vimos como con el método \\_\\_init()\\_\\_ podíamos asignar valores a los atributos definidos de la clase dentro de este método. Pero, habrá situaciones en las que algún atributo que sea igual en todas las instancias y para eso creamos lo que se llaman _atributos de objeto clase_\n",
    "\n",
    "Veamos un ejemplo:"
   ]
  },
  {
   "cell_type": "code",
   "execution_count": 2,
   "metadata": {},
   "outputs": [],
   "source": [
    "class Dog():\n",
    "    \n",
    "    # CLASS OBJECT ATTRIBUTE\n",
    "    # ESTE ATRIBUTO SERÁ IGUAL PARA TODAS LAS INSTACIAS DE LA CLASE\n",
    "    especie = 'mamifero' # Nota: no se usa la palabra \"self\" por que al estar dentro de la clase\n",
    "                         # pero fuera de los métodos automaticamente es un atributo\n",
    "    \n",
    "    def __init__(self,raza,edad,manchas):\n",
    "        # String\n",
    "        self.raza = raza\n",
    "        # Int\n",
    "        self.edad = edad\n",
    "        # Boolean\n",
    "        self.manchas = manchas"
   ]
  },
  {
   "cell_type": "code",
   "execution_count": 3,
   "metadata": {},
   "outputs": [],
   "source": [
    "my_dog = Dog(raza = 'Schnawzer', edad = 6, manchas = False)"
   ]
  },
  {
   "cell_type": "code",
   "execution_count": 4,
   "metadata": {},
   "outputs": [
    {
     "data": {
      "text/plain": [
       "__main__.Dog"
      ]
     },
     "execution_count": 4,
     "metadata": {},
     "output_type": "execute_result"
    }
   ],
   "source": [
    "type(my_dog)"
   ]
  },
  {
   "cell_type": "code",
   "execution_count": 6,
   "metadata": {},
   "outputs": [
    {
     "data": {
      "text/plain": [
       "'Schnawzer'"
      ]
     },
     "execution_count": 6,
     "metadata": {},
     "output_type": "execute_result"
    }
   ],
   "source": [
    "my_dog.raza"
   ]
  },
  {
   "cell_type": "code",
   "execution_count": 7,
   "metadata": {},
   "outputs": [
    {
     "data": {
      "text/plain": [
       "6"
      ]
     },
     "execution_count": 7,
     "metadata": {},
     "output_type": "execute_result"
    }
   ],
   "source": [
    "my_dog.edad"
   ]
  },
  {
   "cell_type": "code",
   "execution_count": 8,
   "metadata": {},
   "outputs": [
    {
     "data": {
      "text/plain": [
       "False"
      ]
     },
     "execution_count": 8,
     "metadata": {},
     "output_type": "execute_result"
    }
   ],
   "source": [
    "my_dog.manchas"
   ]
  },
  {
   "cell_type": "code",
   "execution_count": 9,
   "metadata": {},
   "outputs": [
    {
     "data": {
      "text/plain": [
       "'mamifero'"
      ]
     },
     "execution_count": 9,
     "metadata": {},
     "output_type": "execute_result"
    }
   ],
   "source": [
    "my_dog.especie"
   ]
  },
  {
   "cell_type": "markdown",
   "metadata": {},
   "source": [
    "Hasta ahorita hemos visto solamente el \"método\" \\_\\_init()\\_\\_ el cual realmente no utilizamos directamente. A continuación veremos como crear y útilizar métodos para nuestras clases.\n",
    "\n",
    "Primero que nada es necesario definir qué es un método.\n",
    "\n",
    "Los métodos son funciones definidas dentro de la clase y sirven para realizar operaciones, estas puede o no utilizar los atributos definidos dentro de la clase. Así que podemos ver los métodos como funciónes que actuan sobre el objeto tomando en cuenta el objeto através del uso de la palabra _self_\n",
    "\n",
    "- Ej.-"
   ]
  },
  {
   "cell_type": "code",
   "execution_count": 17,
   "metadata": {},
   "outputs": [],
   "source": [
    "class Dog():\n",
    "    \n",
    "    # CLASS OBJECT ATTRIBUTE\n",
    "    # ESTE ATRIBUTO SERÁ IGUAL PARA TODAS LAS INSTACIAS DE LA CLASE\n",
    "    especie = 'mamifero' # Nota: no se usa la palabra \"self\" por que al estar dentro de la clase\n",
    "                         # pero fuera de los métodos automaticamente es un atributo\n",
    "    \n",
    "    def __init__(self,raza,edad):\n",
    "        # String\n",
    "        self.raza = raza\n",
    "        # Int\n",
    "        self.edad = edad\n",
    "        \n",
    "    # Operaciones/Acciones ----> Métodos\n",
    "    def ladrar(self):\n",
    "        print('Woof')"
   ]
  },
  {
   "cell_type": "code",
   "execution_count": 24,
   "metadata": {},
   "outputs": [],
   "source": [
    "my_dog = Dog('Chihuahua', 2) #Nota: se pueden pasar los argumento en orden o con el nombre de las variables"
   ]
  },
  {
   "cell_type": "code",
   "execution_count": 25,
   "metadata": {},
   "outputs": [
    {
     "data": {
      "text/plain": [
       "__main__.Dog"
      ]
     },
     "execution_count": 25,
     "metadata": {},
     "output_type": "execute_result"
    }
   ],
   "source": [
    "type(my_dog)"
   ]
  },
  {
   "cell_type": "code",
   "execution_count": 26,
   "metadata": {},
   "outputs": [
    {
     "data": {
      "text/plain": [
       "'Chihuahua'"
      ]
     },
     "execution_count": 26,
     "metadata": {},
     "output_type": "execute_result"
    }
   ],
   "source": [
    "my_dog.raza"
   ]
  },
  {
   "cell_type": "code",
   "execution_count": 27,
   "metadata": {},
   "outputs": [
    {
     "data": {
      "text/plain": [
       "2"
      ]
     },
     "execution_count": 27,
     "metadata": {},
     "output_type": "execute_result"
    }
   ],
   "source": [
    "my_dog.edad"
   ]
  },
  {
   "cell_type": "code",
   "execution_count": 28,
   "metadata": {},
   "outputs": [
    {
     "data": {
      "text/plain": [
       "'mamifero'"
      ]
     },
     "execution_count": 28,
     "metadata": {},
     "output_type": "execute_result"
    }
   ],
   "source": [
    "my_dog.especie"
   ]
  },
  {
   "cell_type": "code",
   "execution_count": 29,
   "metadata": {},
   "outputs": [
    {
     "name": "stdout",
     "output_type": "stream",
     "text": [
      "Woof\n"
     ]
    }
   ],
   "source": [
    "my_dog.ladrar() # Llamda a método ladrar"
   ]
  },
  {
   "cell_type": "markdown",
   "metadata": {},
   "source": [
    "Como podemos ver, los atributos pueden ser accesados usando la sintaxis:\n",
    "\n",
    "> ## objeto.atributo\n",
    "\n",
    "Pero los métodos deben ser llamados con la sintaxis:\n",
    "\n",
    "> ## objeto.metodo()\n",
    "\n",
    "A continuación modificaremso un poco lo que acabamos de hacer para ver como una función puede utilizar atributos de la clase haciendo que el perro ladre su propio nombre y al mismo tiempo le pasaremos un argumento externo para que tambien imprima dicho argumento."
   ]
  },
  {
   "cell_type": "code",
   "execution_count": 38,
   "metadata": {},
   "outputs": [],
   "source": [
    "class Dog():\n",
    "    \n",
    "    # CLASS OBJECT ATTRIBUTE\n",
    "    # ESTE ATRIBUTO SERÁ IGUAL PARA TODAS LAS INSTACIAS DE LA CLASE\n",
    "    especie = 'mamifero' # Nota: no se usa la palabra \"self\" por que al estar dentro de la clase\n",
    "                         # pero fuera de los métodos automaticamente es un atributo\n",
    "    \n",
    "    def __init__(self,nombre,edad):\n",
    "        # String\n",
    "        self.nombre = nombre\n",
    "        # Int\n",
    "        self.edad = edad\n",
    "        \n",
    "    # Operaciones/Acciones ----> Métodos\n",
    "    def ladrar(self, amo):\n",
    "        print(f'WOOF!, mi nombre es {self.nombre} y mi amo es {amo}')"
   ]
  },
  {
   "cell_type": "code",
   "execution_count": 39,
   "metadata": {},
   "outputs": [],
   "source": [
    "nuevo_perro = Dog('Eduardo', 5)"
   ]
  },
  {
   "cell_type": "code",
   "execution_count": 40,
   "metadata": {},
   "outputs": [
    {
     "data": {
      "text/plain": [
       "'Eduardo'"
      ]
     },
     "execution_count": 40,
     "metadata": {},
     "output_type": "execute_result"
    }
   ],
   "source": [
    "nuevo_perro.nombre"
   ]
  },
  {
   "cell_type": "code",
   "execution_count": 41,
   "metadata": {},
   "outputs": [
    {
     "data": {
      "text/plain": [
       "5"
      ]
     },
     "execution_count": 41,
     "metadata": {},
     "output_type": "execute_result"
    }
   ],
   "source": [
    "nuevo_perro.edad"
   ]
  },
  {
   "cell_type": "code",
   "execution_count": 42,
   "metadata": {},
   "outputs": [
    {
     "data": {
      "text/plain": [
       "'mamifero'"
      ]
     },
     "execution_count": 42,
     "metadata": {},
     "output_type": "execute_result"
    }
   ],
   "source": [
    "nuevo_perro.especie"
   ]
  },
  {
   "cell_type": "code",
   "execution_count": 45,
   "metadata": {},
   "outputs": [
    {
     "name": "stdout",
     "output_type": "stream",
     "text": [
      "WOOF!, mi nombre es Eduardo y mi amo es Tucker\n"
     ]
    }
   ],
   "source": [
    "nuevo_perro.ladrar('Tucker') # Nota, como el método ladrar tiene un argumento, es necesario pasar uno"
   ]
  },
  {
   "cell_type": "markdown",
   "metadata": {},
   "source": [
    "Probemos otros ejemplos"
   ]
  },
  {
   "cell_type": "code",
   "execution_count": 79,
   "metadata": {},
   "outputs": [],
   "source": [
    "class Circle():\n",
    "    \n",
    "    # ATRIBUTO GENERAL\n",
    "    pi = 3.14\n",
    "    \n",
    "    # INIT\n",
    "    def __init__(self, radio = 1):\n",
    "        self.radio = radio\n",
    "        \n",
    "    # MÉTODOS\n",
    "    def get_perimetro(self):\n",
    "        return self.radio * self.pi * 2"
   ]
  },
  {
   "cell_type": "code",
   "execution_count": 80,
   "metadata": {},
   "outputs": [],
   "source": [
    "my_circle = Circle() # Se crea con valor de 1 por default para radio"
   ]
  },
  {
   "cell_type": "code",
   "execution_count": 81,
   "metadata": {},
   "outputs": [
    {
     "data": {
      "text/plain": [
       "3.14"
      ]
     },
     "execution_count": 81,
     "metadata": {},
     "output_type": "execute_result"
    }
   ],
   "source": [
    "my_circle.pi"
   ]
  },
  {
   "cell_type": "code",
   "execution_count": 82,
   "metadata": {},
   "outputs": [
    {
     "data": {
      "text/plain": [
       "1"
      ]
     },
     "execution_count": 82,
     "metadata": {},
     "output_type": "execute_result"
    }
   ],
   "source": [
    "my_circle.radio"
   ]
  },
  {
   "cell_type": "code",
   "execution_count": 83,
   "metadata": {},
   "outputs": [
    {
     "data": {
      "text/plain": [
       "6.28"
      ]
     },
     "execution_count": 83,
     "metadata": {},
     "output_type": "execute_result"
    }
   ],
   "source": [
    "my_circle.get_perimetro()"
   ]
  },
  {
   "cell_type": "code",
   "execution_count": 84,
   "metadata": {},
   "outputs": [],
   "source": [
    "new_circle = Circle(10) # Radio toma valor de 10 por que es el valor que pasamos como argumento"
   ]
  },
  {
   "cell_type": "code",
   "execution_count": 85,
   "metadata": {},
   "outputs": [
    {
     "data": {
      "text/plain": [
       "3.14"
      ]
     },
     "execution_count": 85,
     "metadata": {},
     "output_type": "execute_result"
    }
   ],
   "source": [
    "new_circle.pi"
   ]
  },
  {
   "cell_type": "code",
   "execution_count": 86,
   "metadata": {},
   "outputs": [
    {
     "data": {
      "text/plain": [
       "10"
      ]
     },
     "execution_count": 86,
     "metadata": {},
     "output_type": "execute_result"
    }
   ],
   "source": [
    "new_circle.radio"
   ]
  },
  {
   "cell_type": "code",
   "execution_count": 88,
   "metadata": {},
   "outputs": [
    {
     "data": {
      "text/plain": [
       "62.800000000000004"
      ]
     },
     "execution_count": 88,
     "metadata": {},
     "output_type": "execute_result"
    }
   ],
   "source": [
    "new_circle.get_perimetro()"
   ]
  },
  {
   "cell_type": "markdown",
   "metadata": {},
   "source": [
    "Por último vale la pena aclarar un par de tips. \n",
    "\n",
    "1. No los atributos de un objeto no siempre tienen que ser definidos por argumentos en la función\n",
    "\n",
    "2. Para utilizar atributos de objeto de clase también es posible y preferible usar la notación NombreClase.atributo\n",
    "\n",
    "\n",
    "- Ej.-"
   ]
  },
  {
   "cell_type": "code",
   "execution_count": 89,
   "metadata": {},
   "outputs": [],
   "source": [
    "class Circle():\n",
    "    \n",
    "    # ATRIBUTO GENERAL\n",
    "    pi = 3.14\n",
    "    \n",
    "    # INIT\n",
    "    def __init__(self, radio = 1):\n",
    "        self.radio = radio\n",
    "        self.area = self.radio ** 2 * Circle.pi # NombreClase.AtributoGeneral\n",
    "        \n",
    "    # MÉTODOS\n",
    "    def get_perimetro(self):\n",
    "        return self.radio * self.pi * 2"
   ]
  },
  {
   "cell_type": "code",
   "execution_count": 90,
   "metadata": {},
   "outputs": [],
   "source": [
    "ultimo_circulo = Circle(30)"
   ]
  },
  {
   "cell_type": "code",
   "execution_count": 91,
   "metadata": {},
   "outputs": [
    {
     "data": {
      "text/plain": [
       "30"
      ]
     },
     "execution_count": 91,
     "metadata": {},
     "output_type": "execute_result"
    }
   ],
   "source": [
    "ultimo_circulo.radio"
   ]
  },
  {
   "cell_type": "code",
   "execution_count": 92,
   "metadata": {},
   "outputs": [
    {
     "data": {
      "text/plain": [
       "2826.0"
      ]
     },
     "execution_count": 92,
     "metadata": {},
     "output_type": "execute_result"
    }
   ],
   "source": [
    "ultimo_circulo.area"
   ]
  },
  {
   "cell_type": "code",
   "execution_count": 93,
   "metadata": {},
   "outputs": [
    {
     "data": {
      "text/plain": [
       "188.4"
      ]
     },
     "execution_count": 93,
     "metadata": {},
     "output_type": "execute_result"
    }
   ],
   "source": [
    "ultimo_circulo.get_perimetro()"
   ]
  }
 ],
 "metadata": {
  "kernelspec": {
   "display_name": "Python 3",
   "language": "python",
   "name": "python3"
  },
  "language_info": {
   "codemirror_mode": {
    "name": "ipython",
    "version": 3
   },
   "file_extension": ".py",
   "mimetype": "text/x-python",
   "name": "python",
   "nbconvert_exporter": "python",
   "pygments_lexer": "ipython3",
   "version": "3.6.4"
  }
 },
 "nbformat": 4,
 "nbformat_minor": 2
}
