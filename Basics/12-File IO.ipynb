{
 "cells": [
  {
   "cell_type": "markdown",
   "metadata": {},
   "source": [
    "# Inputs y Outpus Basicos de Archivos de Texto\n",
    "\n",
    "En esta lección primero veremos como abrir archivos de texto (.txt) para trabajar con ellos en Python. Para ello nos apoyaremos en la función con sintaxis:\n",
    "\n",
    "> ## open('NombreArchivo.txt')\n",
    "nota: el nombre del archivo debe ser un string y contener el tipo de archivo, en este caso _.txt_\n"
   ]
  },
  {
   "cell_type": "code",
   "execution_count": 1,
   "metadata": {},
   "outputs": [
    {
     "name": "stdout",
     "output_type": "stream",
     "text": [
      "Writing myfile.txt\n"
     ]
    }
   ],
   "source": [
    "%%writefile myfile.txt\n",
    "Hello this is a text file\n",
    "this is the second line\n",
    "this is the third line"
   ]
  },
  {
   "cell_type": "code",
   "execution_count": 2,
   "metadata": {},
   "outputs": [],
   "source": [
    "myFile = open('myfile.txt')"
   ]
  },
  {
   "cell_type": "markdown",
   "metadata": {},
   "source": [
    "## Métodos.\n",
    "\n",
    "Al igual que otros tipos de datos y estructuras, los archivos también tienen métodos que nos sirven para trabajar con ellos.\n",
    "\n",
    "Uno de ellos es el método _.read()_ el cual nos arroja el archivo de texto abierto como un sólo string.\n",
    "\n",
    "- Ej.-"
   ]
  },
  {
   "cell_type": "code",
   "execution_count": 4,
   "metadata": {},
   "outputs": [
    {
     "data": {
      "text/plain": [
       "'Hello this is a text file\\nthis is the second line\\nthis is the third line'"
      ]
     },
     "execution_count": 4,
     "metadata": {},
     "output_type": "execute_result"
    }
   ],
   "source": [
    "myFile.read()"
   ]
  },
  {
   "cell_type": "markdown",
   "metadata": {},
   "source": [
    "Nota: los caractéres _\\n_ que vemos en el string representan los saltos de linea que exiten en nuestro archivo original.\n",
    "\n",
    "Una vez hecho esto nosotros quisieramos volver a leer el archivo, la reacción natural sería volver a llamar el método _.read()_:"
   ]
  },
  {
   "cell_type": "code",
   "execution_count": 5,
   "metadata": {},
   "outputs": [
    {
     "data": {
      "text/plain": [
       "''"
      ]
     },
     "execution_count": 5,
     "metadata": {},
     "output_type": "execute_result"
    }
   ],
   "source": [
    "myFile.read()"
   ]
  },
  {
   "cell_type": "markdown",
   "metadata": {},
   "source": [
    "Pero como podemos ver esto nos arroja un caractér vacío, eso es por de alguna manera el \"cursor\" que utilizó el programa para leer el archivo se encuentra en la última posición del mismo y por ende no hay nada más que leer, para poder regresar nuestro cursor a una posición deseada podemos usar el métodos _.seek(**index**)_ con que podemos volver a colocar el cursor en una posición específica, por ejemplo al inicio del archivos:"
   ]
  },
  {
   "cell_type": "code",
   "execution_count": 10,
   "metadata": {},
   "outputs": [
    {
     "data": {
      "text/plain": [
       "0"
      ]
     },
     "execution_count": 10,
     "metadata": {},
     "output_type": "execute_result"
    }
   ],
   "source": [
    "myFile.seek(0)"
   ]
  },
  {
   "cell_type": "code",
   "execution_count": 11,
   "metadata": {},
   "outputs": [
    {
     "data": {
      "text/plain": [
       "'Hello this is a text file\\nthis is the second line\\nthis is the third line'"
      ]
     },
     "execution_count": 11,
     "metadata": {},
     "output_type": "execute_result"
    }
   ],
   "source": [
    "myFile.read()"
   ]
  },
  {
   "cell_type": "markdown",
   "metadata": {},
   "source": [
    "Incluso a la mitad del texto, por ejemplo al iniciar la segunda linea."
   ]
  },
  {
   "cell_type": "code",
   "execution_count": 13,
   "metadata": {},
   "outputs": [
    {
     "data": {
      "text/plain": [
       "26"
      ]
     },
     "execution_count": 13,
     "metadata": {},
     "output_type": "execute_result"
    }
   ],
   "source": [
    "myFile.seek(26)"
   ]
  },
  {
   "cell_type": "code",
   "execution_count": 14,
   "metadata": {},
   "outputs": [
    {
     "data": {
      "text/plain": [
       "'this is the second line\\nthis is the third line'"
      ]
     },
     "execution_count": 14,
     "metadata": {},
     "output_type": "execute_result"
    }
   ],
   "source": [
    "myFile.read()"
   ]
  },
  {
   "cell_type": "markdown",
   "metadata": {},
   "source": [
    "Por otro lado existe un método muy útil en el caso de que quisieramos guardar cada linea del texto como un elemento de una lista de strings conocido como _.readlines()_ el cual nos arroja dicho resultado.\n",
    "\n",
    "- Ej.-"
   ]
  },
  {
   "cell_type": "code",
   "execution_count": 16,
   "metadata": {},
   "outputs": [
    {
     "data": {
      "text/plain": [
       "0"
      ]
     },
     "execution_count": 16,
     "metadata": {},
     "output_type": "execute_result"
    }
   ],
   "source": [
    "myFile.seek(0)"
   ]
  },
  {
   "cell_type": "code",
   "execution_count": 17,
   "metadata": {},
   "outputs": [
    {
     "data": {
      "text/plain": [
       "['Hello this is a text file\\n',\n",
       " 'this is the second line\\n',\n",
       " 'this is the third line']"
      ]
     },
     "execution_count": 17,
     "metadata": {},
     "output_type": "execute_result"
    }
   ],
   "source": [
    "myFile.readlines()"
   ]
  },
  {
   "cell_type": "markdown",
   "metadata": {},
   "source": [
    "Cabe aclarar que este método también nos regresa los caractéres especiales _\\n_ con cada string y que al llamar las funciones no se guarda lo que estas arrojan, para ello sería necesario asginar el resultado a una variable.\n",
    "\n",
    "Hasta ahora hemos visto como abrir un archivo que se encuentra en la misma carpeta que el programa que nos encontramos desarrollando, pero si quisieramos abrir un archivo de nuestra computadora cuya localización está en otra carpeta sería necesario pasar como argumento un string con toda la dirección.\n",
    "\n",
    "- Ej.-\n",
    "\n",
    "> ### Windows\n",
    "> > miArchivo = open('C:\\\\Usuarios\\\\NombreUsuario\\\\Folder\\\\nombreArch.txt')\n",
    "\n",
    "> ### MacOS y Linux\n",
    "> > miArchivo = open('/Usuarios/NombreUsuaro/Folder/nombreArch.txt')\n",
    "\n",
    "Por último, una buena práctica que debe ser siempre llevada a cabo cuando trabajamos con archivos, es necesario que una vez que terminémos de trabajar con un archivo, debemos de cerrarlo, para eso utilizaremos el método _.close()_\n",
    "\n",
    "- Ej.-"
   ]
  },
  {
   "cell_type": "code",
   "execution_count": 19,
   "metadata": {},
   "outputs": [],
   "source": [
    "myFile.close()"
   ]
  },
  {
   "cell_type": "markdown",
   "metadata": {},
   "source": [
    "De manera paralela Python posee otra metodología con la cuál podemos trabajar con archivos cuya sintaxis es la siguiente:\n",
    "\n",
    "> **with** open('nombreArch.txt') **as** nombreVariable:\n",
    "> > _TRABAJA AQUÍ_\n",
    "\n",
    "- Ej.-"
   ]
  },
  {
   "cell_type": "code",
   "execution_count": 23,
   "metadata": {},
   "outputs": [],
   "source": [
    "with open('myfile.txt') as newFile:\n",
    "    ## Nota: la indentación a la izquiera es importante\n",
    "    contents = newFile.read()"
   ]
  },
  {
   "cell_type": "code",
   "execution_count": 24,
   "metadata": {},
   "outputs": [
    {
     "data": {
      "text/plain": [
       "'Hello this is a text file\\nthis is the second line\\nthis is the third line'"
      ]
     },
     "execution_count": 24,
     "metadata": {},
     "output_type": "execute_result"
    }
   ],
   "source": [
    "contents"
   ]
  },
  {
   "cell_type": "markdown",
   "metadata": {},
   "source": [
    "La ventaja de esta notación es que este formato automáticamente utiliza el nombre de la variable del archivo como la variable que contiene los contenidos del archivo, y por ende podemos trabajar con los métodos previamente vistos. No obstante, al terminar el bloque de código, como podemos ver al llamar la variable contenidos, ésta guarda lo que le pedímos aun terminado el bloque y no es necesario cerrar el archivo ya que este formato se encarga de hacerlo sólo."
   ]
  },
  {
   "cell_type": "markdown",
   "metadata": {},
   "source": [
    "# Escritura y Sobreescritura de archivos\n",
    "\n",
    "Así como pudimos abrir un archivo y leerlo, en también nos es posible escribir un archivo o sobreescribir un archivo através de código.\n",
    "\n",
    "Para esto utilizaremos la función _open('nombreArch.txt_)_ previamente vista, pero con una ligera variación, agregaremos un \"modo\". Por default este modo en la función es _r_ osea _read_ pero podemos cambiarlo a:\n",
    "\n",
    "- **mode='r'** -> read only (sólo leer)\n",
    "- **mode='w'** -> write only (sólo escribir) [sobre escribe o crea nuevos archivos]\n",
    "- **mode='a'** -> append (agregar lineas de texto al final del archivo)\n",
    "- **mode='r+'**-> read and write\n",
    "- **mode='w+'**-> write and read (sobre escribe archivos existentes o crea nuevos archivos)\n",
    "\n",
    "\n",
    "- Ej.-"
   ]
  },
  {
   "cell_type": "code",
   "execution_count": 40,
   "metadata": {},
   "outputs": [
    {
     "name": "stdout",
     "output_type": "stream",
     "text": [
      "Overwriting secondFile.txt\n"
     ]
    }
   ],
   "source": [
    "%%writefile secondFile.txt\n",
    "UNO EN PRIMERA\n",
    "DOS EN SEGUNDA\n",
    "TRES EN TERCERA"
   ]
  },
  {
   "cell_type": "markdown",
   "metadata": {},
   "source": [
    "### Read"
   ]
  },
  {
   "cell_type": "code",
   "execution_count": 41,
   "metadata": {},
   "outputs": [
    {
     "name": "stdout",
     "output_type": "stream",
     "text": [
      "UNO EN PRIMERA\n",
      "DOS EN SEGUNDA\n",
      "TRES EN TERCERA\n"
     ]
    }
   ],
   "source": [
    "with open('secondFile.txt', mode = 'r') as f:\n",
    "    print(f.read())"
   ]
  },
  {
   "cell_type": "markdown",
   "metadata": {},
   "source": [
    "### Append"
   ]
  },
  {
   "cell_type": "code",
   "execution_count": 42,
   "metadata": {},
   "outputs": [],
   "source": [
    "with open('secondFile.txt', mode = 'a') as f:\n",
    "    f.write('\\nCUATRO EN CUARTA') # Se utiliza el \\n para que haga el salto de linea"
   ]
  },
  {
   "cell_type": "code",
   "execution_count": 43,
   "metadata": {},
   "outputs": [
    {
     "name": "stdout",
     "output_type": "stream",
     "text": [
      "UNO EN PRIMERA\n",
      "DOS EN SEGUNDA\n",
      "TRES EN TERCERA\n",
      "CUATRO EN CUARTA\n"
     ]
    }
   ],
   "source": [
    "with open('secondFile.txt', mode = 'r') as f:\n",
    "    print(f.read())"
   ]
  },
  {
   "cell_type": "markdown",
   "metadata": {},
   "source": [
    "### Write"
   ]
  },
  {
   "cell_type": "code",
   "execution_count": 44,
   "metadata": {},
   "outputs": [],
   "source": [
    "with open('writtenFile.txt', mode = 'w') as f:\n",
    "    f.write('Yo cree este archivo')"
   ]
  },
  {
   "cell_type": "code",
   "execution_count": 45,
   "metadata": {},
   "outputs": [
    {
     "name": "stdout",
     "output_type": "stream",
     "text": [
      "Yo cree este archivo\n"
     ]
    }
   ],
   "source": [
    "with open('writtenFile.txt', mode='r') as f:\n",
    "    print(f.read())"
   ]
  }
 ],
 "metadata": {
  "kernelspec": {
   "display_name": "Python 3",
   "language": "python",
   "name": "python3"
  },
  "language_info": {
   "codemirror_mode": {
    "name": "ipython",
    "version": 3
   },
   "file_extension": ".py",
   "mimetype": "text/x-python",
   "name": "python",
   "nbconvert_exporter": "python",
   "pygments_lexer": "ipython3",
   "version": "3.6.4"
  }
 },
 "nbformat": 4,
 "nbformat_minor": 2
}
