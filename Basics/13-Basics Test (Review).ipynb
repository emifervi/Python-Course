{
 "cells": [
  {
   "cell_type": "markdown",
   "metadata": {},
   "source": [
    "# Examen de prueba de Objetos y Estructuras de Datos básicos\n",
    "\n",
    "## Prueba tu conocimiento\n",
    "\n",
    "**Contesta las siguientes preguntas**\n",
    "\n",
    "Escribe una pequeña descripción de los siguientes tipos de objetos y estructuras de datos:\n",
    "\n",
    "Numeros: existen dos tipos integros y flotantes, son mezclables entre ellos.\n",
    "\n",
    "Strings: cadenas inmutables de caractéres se pueden indexar y cortar.\n",
    "\n",
    "Listas: son como arreglos, pueden contener múltiples tipos de datos\n",
    "\n",
    "Tuples: son muy parecidas a las listas. Sin embargo, no son mutables.\n",
    "\n",
    "Diccionarios: no tienen orden o indice y se basan en palabras clave.\n",
    "\n",
    "## Números\n",
    "\n",
    "Escribe una ecuación que utilice multiplicación, división, un exponente, suma y resta que sea igual a 100.25"
   ]
  },
  {
   "cell_type": "code",
   "execution_count": 3,
   "metadata": {},
   "outputs": [
    {
     "data": {
      "text/plain": [
       "100.25"
      ]
     },
     "execution_count": 3,
     "metadata": {},
     "output_type": "execute_result"
    }
   ],
   "source": [
    "10 * 10 ** 1 + (1 - .5)/2"
   ]
  },
  {
   "cell_type": "markdown",
   "metadata": {},
   "source": [
    "Responde estas trés preguntas sin escribir código. Después escribe código para revisar tus respuestas.\n",
    "\n",
    "> ¿Cuál es el valor de la expresión 4 * (6 + 5)? = 44\n",
    "\n",
    "> ¿Cuál es el valor de la expresión 4 * 6 + 5? = 29\n",
    "\n",
    "> ¿Cuál es el valor de la expresión 4 + 6 * 5? = 34"
   ]
  },
  {
   "cell_type": "code",
   "execution_count": 5,
   "metadata": {},
   "outputs": [
    {
     "data": {
      "text/plain": [
       "44"
      ]
     },
     "execution_count": 5,
     "metadata": {},
     "output_type": "execute_result"
    }
   ],
   "source": [
    "4 * (6 + 5)"
   ]
  },
  {
   "cell_type": "code",
   "execution_count": 6,
   "metadata": {},
   "outputs": [
    {
     "data": {
      "text/plain": [
       "29"
      ]
     },
     "execution_count": 6,
     "metadata": {},
     "output_type": "execute_result"
    }
   ],
   "source": [
    "4 * 6 + 5"
   ]
  },
  {
   "cell_type": "code",
   "execution_count": 7,
   "metadata": {},
   "outputs": [
    {
     "data": {
      "text/plain": [
       "34"
      ]
     },
     "execution_count": 7,
     "metadata": {},
     "output_type": "execute_result"
    }
   ],
   "source": [
    "4 + 6 * 5"
   ]
  },
  {
   "cell_type": "markdown",
   "metadata": {},
   "source": [
    "¿Cuál es el _tipo_ de la expresión 3 + 1.5 + 4? float\n",
    "\n",
    "¿Qué utilizarías para encontrar la raíz cuadrada y el cuadrado de un número?"
   ]
  },
  {
   "cell_type": "code",
   "execution_count": 15,
   "metadata": {},
   "outputs": [
    {
     "data": {
      "text/plain": [
       "2.0"
      ]
     },
     "execution_count": 15,
     "metadata": {},
     "output_type": "execute_result"
    }
   ],
   "source": [
    "# Raiz cuadrada:\n",
    "4 ** 0.5"
   ]
  },
  {
   "cell_type": "code",
   "execution_count": 16,
   "metadata": {},
   "outputs": [
    {
     "data": {
      "text/plain": [
       "4"
      ]
     },
     "execution_count": 16,
     "metadata": {},
     "output_type": "execute_result"
    }
   ],
   "source": [
    "# Cuadrado:\n",
    "2  ** 2"
   ]
  },
  {
   "cell_type": "markdown",
   "metadata": {},
   "source": [
    "## Strings\n",
    "\n",
    "Dado el string \"hello\" da un comando de indices que retorne 'e'. Pon el código abajo:"
   ]
  },
  {
   "cell_type": "code",
   "execution_count": 17,
   "metadata": {},
   "outputs": [
    {
     "name": "stdout",
     "output_type": "stream",
     "text": [
      "e\n"
     ]
    }
   ],
   "source": [
    "s = 'hello'\n",
    "# Imprime 'e' usando un indice\n",
    "print(s[1])"
   ]
  },
  {
   "cell_type": "markdown",
   "metadata": {},
   "source": [
    "Pon en reversa el string 'hello' usando cortes y pasos:"
   ]
  },
  {
   "cell_type": "code",
   "execution_count": 21,
   "metadata": {},
   "outputs": [
    {
     "name": "stdout",
     "output_type": "stream",
     "text": [
      "olleh\n"
     ]
    }
   ],
   "source": [
    "s = 'hello'\n",
    "# String en reversa\n",
    "print(s[::-1])"
   ]
  },
  {
   "cell_type": "markdown",
   "metadata": {},
   "source": [
    "Dado el string 'hello', utiliza dos métodos para producir la letra 'o' usando índices."
   ]
  },
  {
   "cell_type": "code",
   "execution_count": 20,
   "metadata": {},
   "outputs": [
    {
     "name": "stdout",
     "output_type": "stream",
     "text": [
      "o\n"
     ]
    }
   ],
   "source": [
    "s = 'hello'\n",
    "# Imprime 'o'\n",
    "\n",
    "# Método 1:\n",
    "print(s[-1])"
   ]
  },
  {
   "cell_type": "code",
   "execution_count": 22,
   "metadata": {},
   "outputs": [
    {
     "name": "stdout",
     "output_type": "stream",
     "text": [
      "o\n"
     ]
    }
   ],
   "source": [
    "# Método 2:\n",
    "print(s[4])"
   ]
  },
  {
   "cell_type": "markdown",
   "metadata": {},
   "source": [
    "## Listas\n",
    "\n",
    "Construye esta lista [0, 0, 0] con dos métodos diferentes"
   ]
  },
  {
   "cell_type": "code",
   "execution_count": 29,
   "metadata": {},
   "outputs": [],
   "source": [
    "# Método 1:\n",
    "miLista = [0, 0, 0]"
   ]
  },
  {
   "cell_type": "code",
   "execution_count": 30,
   "metadata": {},
   "outputs": [
    {
     "data": {
      "text/plain": [
       "[0, 0, 0]"
      ]
     },
     "execution_count": 30,
     "metadata": {},
     "output_type": "execute_result"
    }
   ],
   "source": [
    "miLista"
   ]
  },
  {
   "cell_type": "code",
   "execution_count": 71,
   "metadata": {},
   "outputs": [
    {
     "data": {
      "text/plain": [
       "[0, 0, 0]"
      ]
     },
     "execution_count": 71,
     "metadata": {},
     "output_type": "execute_result"
    }
   ],
   "source": [
    "# Método 2:\n",
    "[0] * 3"
   ]
  },
  {
   "cell_type": "markdown",
   "metadata": {},
   "source": [
    "Reasigna \"hello\" adentro de la lista anidada a \"goodbye\":"
   ]
  },
  {
   "cell_type": "code",
   "execution_count": 47,
   "metadata": {},
   "outputs": [],
   "source": [
    "list3 = [1,2,[3,4,'hello']]"
   ]
  },
  {
   "cell_type": "code",
   "execution_count": 48,
   "metadata": {},
   "outputs": [
    {
     "data": {
      "text/plain": [
       "[1, 2, [3, 4, 'hello']]"
      ]
     },
     "execution_count": 48,
     "metadata": {},
     "output_type": "execute_result"
    }
   ],
   "source": [
    "list3"
   ]
  },
  {
   "cell_type": "code",
   "execution_count": 49,
   "metadata": {},
   "outputs": [],
   "source": [
    "list3[2][2] = 'goodbye'"
   ]
  },
  {
   "cell_type": "code",
   "execution_count": 50,
   "metadata": {},
   "outputs": [
    {
     "data": {
      "text/plain": [
       "[1, 2, [3, 4, 'goodbye']]"
      ]
     },
     "execution_count": 50,
     "metadata": {},
     "output_type": "execute_result"
    }
   ],
   "source": [
    "list3"
   ]
  },
  {
   "cell_type": "markdown",
   "metadata": {},
   "source": [
    "Arregla de manera ascendente la lista de abajo:"
   ]
  },
  {
   "cell_type": "code",
   "execution_count": 51,
   "metadata": {},
   "outputs": [],
   "source": [
    "list4 = [5, 3, 4, 6, 1]"
   ]
  },
  {
   "cell_type": "code",
   "execution_count": 72,
   "metadata": {},
   "outputs": [
    {
     "data": {
      "text/plain": [
       "[1, 3, 4, 5, 6]"
      ]
     },
     "execution_count": 72,
     "metadata": {},
     "output_type": "execute_result"
    }
   ],
   "source": [
    "# Método 1\n",
    "sorted(list4)"
   ]
  },
  {
   "cell_type": "code",
   "execution_count": 52,
   "metadata": {},
   "outputs": [],
   "source": [
    "# Método 2\n",
    "list4.sort()"
   ]
  },
  {
   "cell_type": "code",
   "execution_count": 53,
   "metadata": {},
   "outputs": [
    {
     "data": {
      "text/plain": [
       "[1, 3, 4, 5, 6]"
      ]
     },
     "execution_count": 53,
     "metadata": {},
     "output_type": "execute_result"
    }
   ],
   "source": [
    "list4"
   ]
  },
  {
   "cell_type": "markdown",
   "metadata": {},
   "source": [
    "## Diccionarios\n",
    "\n",
    "Usando llaves e indices recupera el 'hello' de los sigientes diccionarios:"
   ]
  },
  {
   "cell_type": "code",
   "execution_count": 55,
   "metadata": {},
   "outputs": [
    {
     "data": {
      "text/plain": [
       "'hello'"
      ]
     },
     "execution_count": 55,
     "metadata": {},
     "output_type": "execute_result"
    }
   ],
   "source": [
    "d = {'simple_key':'hello'}\n",
    "\n",
    "# Recupera 'hello'\n",
    "d['simple_key']"
   ]
  },
  {
   "cell_type": "code",
   "execution_count": 57,
   "metadata": {},
   "outputs": [
    {
     "data": {
      "text/plain": [
       "'hello'"
      ]
     },
     "execution_count": 57,
     "metadata": {},
     "output_type": "execute_result"
    }
   ],
   "source": [
    "d = {'k1': {'k2':'hello'}}\n",
    "\n",
    "# Recupera 'hello'\n",
    "d['k1']['k2']"
   ]
  },
  {
   "cell_type": "code",
   "execution_count": 58,
   "metadata": {},
   "outputs": [
    {
     "data": {
      "text/plain": [
       "'hello'"
      ]
     },
     "execution_count": 58,
     "metadata": {},
     "output_type": "execute_result"
    }
   ],
   "source": [
    "# Se vuelve más tricky\n",
    "d = {'k1':[{'nest_key':['this is deep', ['hello']]}]}\n",
    "\n",
    "# Recupera 'hello'\n",
    "d['k1'][0]['nest_key'][1][0]"
   ]
  },
  {
   "cell_type": "code",
   "execution_count": 61,
   "metadata": {},
   "outputs": [
    {
     "data": {
      "text/plain": [
       "'hello'"
      ]
     },
     "execution_count": 61,
     "metadata": {},
     "output_type": "execute_result"
    }
   ],
   "source": [
    "# Se vuelve difícil y molesto!\n",
    "d = {'k1':[1,2,{'k2':['this is tricky',{'tough':[1,2,['hello']]}]}]}\n",
    "\n",
    "#Recupera 'hello'\n",
    "d['k1'][2]['k2'][1]['tough'][2][0]"
   ]
  },
  {
   "cell_type": "markdown",
   "metadata": {},
   "source": [
    "¿Se puede acomodar un diccionario?¿Por qué o por qué no?\n",
    "No se puede debido a que son estructuras sin indice de acomodo o posición, éstas se basan sólamente en llaves\n",
    "\n",
    "## Tuples\n",
    "\n",
    "¿Cuál es la diferencia principal entre tuples y listas?\n",
    "las listas son mutables y los tuples no.\n",
    "\n",
    "¿Cómo se crea un tuple?\n",
    "la sintaxis es parecida a la de una lista pero en lugar de usar braquets cuadrados usas parentesis:\n",
    "mituple = (1,2,3)\n",
    "\n",
    "## Sets\n",
    "\n",
    "¿Cuál es la particularidad de un set?\n",
    "los datos que guarda, sólo cuarda uno de cada dato (no se repite aunque tu le agregues varias veces lo mismo).\n",
    "\n",
    "Usa un set para encontrar los valores unicos de la lista de abajo:"
   ]
  },
  {
   "cell_type": "code",
   "execution_count": 62,
   "metadata": {},
   "outputs": [
    {
     "data": {
      "text/plain": [
       "{1, 2, 3, 4, 11, 22, 33}"
      ]
     },
     "execution_count": 62,
     "metadata": {},
     "output_type": "execute_result"
    }
   ],
   "source": [
    "list5 = [1,2,2,33,4,4,11,22,3,3,2]\n",
    "set(list5)"
   ]
  },
  {
   "cell_type": "markdown",
   "metadata": {},
   "source": [
    "## Booleanos\n",
    "\n",
    "Para las siguientes preguntas de tipo quiz veremos un _preview_ de los operadores booleanos (en la tabla = 3 y b = 4)\n",
    "\n",
    "\n",
    " Operador | Decription                                                                              | Example                  |\n",
    "----------|-----------------------------------------------------------------------------------------|--------------------------\n",
    " ==       | Si ambos valores son iguales, la condición es verdadera                                 | (a==b) no es  verdadero  \n",
    " !=       | Si ambos valores son diferentes, la condición es verdadera                              | (a != b)  es verdadero   \n",
    " >        | Si el valor del lado izquierdo es mayor al derecho, la condición es verdadera           | (a > b) no es  verdadero \n",
    " <        | Si el valor del lado izquierdo es menor al derecho, la condición verdadera              | (a < b)  es verdadero    \n",
    " >=       | Si el valor de la izquiera es mayor o igual al de la derecha, la condición es verdadera | (a >= b)no es verdadero  \n",
    " <=       | Si el valor de la izquiera es menor o igual al de la derecha, la condición es verdadera | (a <= b) es verdadero    \n",
    "\n",
    "\n",
    "¿Cuál sería el resultado booleano de los siguientes pedázos de código ?(contesta y después prueba con código)"
   ]
  },
  {
   "cell_type": "code",
   "execution_count": 63,
   "metadata": {},
   "outputs": [
    {
     "data": {
      "text/plain": [
       "False"
      ]
     },
     "execution_count": 63,
     "metadata": {},
     "output_type": "execute_result"
    }
   ],
   "source": [
    "# Contesta antes de correr la celda \n",
    "# Respuesta: False\n",
    "2 > 3"
   ]
  },
  {
   "cell_type": "code",
   "execution_count": 64,
   "metadata": {},
   "outputs": [
    {
     "data": {
      "text/plain": [
       "False"
      ]
     },
     "execution_count": 64,
     "metadata": {},
     "output_type": "execute_result"
    }
   ],
   "source": [
    "# Contesta antes de correr la celda\n",
    "# Respuesta: False\n",
    "3 <= 2"
   ]
  },
  {
   "cell_type": "code",
   "execution_count": 65,
   "metadata": {},
   "outputs": [
    {
     "data": {
      "text/plain": [
       "False"
      ]
     },
     "execution_count": 65,
     "metadata": {},
     "output_type": "execute_result"
    }
   ],
   "source": [
    "# Contesta antes de correr la celda\n",
    "# Respuesta: False\n",
    "3 == 2.0"
   ]
  },
  {
   "cell_type": "code",
   "execution_count": 66,
   "metadata": {},
   "outputs": [
    {
     "data": {
      "text/plain": [
       "True"
      ]
     },
     "execution_count": 66,
     "metadata": {},
     "output_type": "execute_result"
    }
   ],
   "source": [
    "# Contesta antes de correr la celda\n",
    "# Respuesta: True\n",
    "3.0 == 3"
   ]
  },
  {
   "cell_type": "code",
   "execution_count": 67,
   "metadata": {},
   "outputs": [
    {
     "data": {
      "text/plain": [
       "False"
      ]
     },
     "execution_count": 67,
     "metadata": {},
     "output_type": "execute_result"
    }
   ],
   "source": [
    "# Contesta anttes de correr la celda\n",
    "# Respuesta: False\n",
    "4**0.5 != 2"
   ]
  },
  {
   "cell_type": "markdown",
   "metadata": {},
   "source": [
    "Última pregunta: ¿Cuál es el resultado booleano de la celda debajo?"
   ]
  },
  {
   "cell_type": "code",
   "execution_count": 68,
   "metadata": {},
   "outputs": [
    {
     "data": {
      "text/plain": [
       "False"
      ]
     },
     "execution_count": 68,
     "metadata": {},
     "output_type": "execute_result"
    }
   ],
   "source": [
    "# dos listas anidadas\n",
    "l_uno = [1, 2,[3,4]]\n",
    "l_dos = [1,2,{'k1':4}]\n",
    "\n",
    "# True o False?\n",
    "# Respuesta: False\n",
    "l_uno[2][0] >= l_dos[2]['k1']"
   ]
  }
 ],
 "metadata": {
  "kernelspec": {
   "display_name": "Python 3",
   "language": "python",
   "name": "python3"
  },
  "language_info": {
   "codemirror_mode": {
    "name": "ipython",
    "version": 3
   },
   "file_extension": ".py",
   "mimetype": "text/x-python",
   "name": "python",
   "nbconvert_exporter": "python",
   "pygments_lexer": "ipython3",
   "version": "3.6.4"
  }
 },
 "nbformat": 4,
 "nbformat_minor": 2
}
