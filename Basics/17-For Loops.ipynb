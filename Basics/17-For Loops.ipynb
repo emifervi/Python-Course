{
 "cells": [
  {
   "cell_type": "markdown",
   "metadata": {},
   "source": [
    "# For in loops\n",
    "\n",
    "Los for loops son ciclos que nos permiten ejecutar algo un determinado numero de veces en objetos iterables.\n",
    "\n",
    "Un objeto iterable son cosas como listas o strings que contienen múltiples elementos.\n",
    "\n",
    "En el caso de Python, los loops siguen el formato de _for-in_ loops entiendase: \"por cada elemento en\" y usa la siguiente sintáxis:\n",
    "\n",
    "> ## for _item_ in _listaDeItems_:\n",
    "> > ## **ejecuta código**\n",
    "\n",
    "- Ej.-"
   ]
  },
  {
   "cell_type": "code",
   "execution_count": 4,
   "metadata": {},
   "outputs": [
    {
     "name": "stdout",
     "output_type": "stream",
     "text": [
      "1\n",
      "2\n",
      "3\n",
      "4\n",
      "5\n",
      "6\n",
      "7\n",
      "8\n",
      "9\n",
      "10\n"
     ]
    }
   ],
   "source": [
    "numList = [1,2,3,4,5,6,7,8,9,10]\n",
    "\n",
    "for num in numList:\n",
    "    print(num)"
   ]
  },
  {
   "cell_type": "markdown",
   "metadata": {},
   "source": [
    "En el caso anterior imprimimos los elementos de la lista que teníamos sin embargo, no es necesario afuerza trabajar con la variable que recibe los elementos.\n",
    "\n",
    "- Ej.-"
   ]
  },
  {
   "cell_type": "code",
   "execution_count": 5,
   "metadata": {},
   "outputs": [
    {
     "name": "stdout",
     "output_type": "stream",
     "text": [
      "hello\n",
      "hello\n",
      "hello\n",
      "hello\n",
      "hello\n",
      "hello\n",
      "hello\n",
      "hello\n",
      "hello\n",
      "hello\n"
     ]
    }
   ],
   "source": [
    "for num in numList:\n",
    "    print('hello')"
   ]
  },
  {
   "cell_type": "markdown",
   "metadata": {},
   "source": [
    "Inclusive podemos por ejemplo saludar a muchas personas de una lista apoyandonos en lo previamente visto:"
   ]
  },
  {
   "cell_type": "code",
   "execution_count": 7,
   "metadata": {},
   "outputs": [
    {
     "name": "stdout",
     "output_type": "stream",
     "text": [
      "Hola Bob!\n",
      "Hola Roberto!\n",
      "Hola Cuitlahuac!\n",
      "Hola Sucio Dan!\n"
     ]
    }
   ],
   "source": [
    "amigos = ['Bob', 'Roberto', 'Cuitlahuac', 'Sucio Dan']\n",
    "\n",
    "for amigo in amigos:\n",
    "    print(f'Hola {amigo}!')"
   ]
  },
  {
   "cell_type": "markdown",
   "metadata": {},
   "source": [
    "Volviendo a valores numéricos, por ejemplo podríamos poner una condicional que nos imprimiera sólo los números pares de una lista de números."
   ]
  },
  {
   "cell_type": "code",
   "execution_count": 12,
   "metadata": {},
   "outputs": [
    {
     "name": "stdout",
     "output_type": "stream",
     "text": [
      "1 es impar.\n",
      "2 es par.\n",
      "3 es impar.\n",
      "4 es par.\n",
      "5 es impar.\n",
      "6 es par.\n",
      "7 es impar.\n",
      "8 es par.\n",
      "9 es impar.\n",
      "10 es par.\n"
     ]
    }
   ],
   "source": [
    "for num in numList:\n",
    "    # Condicional para que sólo se agarren los pares\n",
    "    if (num % 2 == 0):\n",
    "        print(f'{num} es par.')\n",
    "    else:\n",
    "        print(f'{num} es impar.')"
   ]
  },
  {
   "cell_type": "markdown",
   "metadata": {},
   "source": [
    "Otra cosa que podemos hacer por ejemplo es una sumatoria de todos los números de una lista.\n",
    "\n",
    "- Ej.-"
   ]
  },
  {
   "cell_type": "code",
   "execution_count": 15,
   "metadata": {},
   "outputs": [
    {
     "name": "stdout",
     "output_type": "stream",
     "text": [
      "1\n",
      "3\n",
      "6\n",
      "10\n",
      "15\n",
      "21\n",
      "28\n",
      "36\n",
      "45\n",
      "55\n",
      "Resultado: 55\n"
     ]
    }
   ],
   "source": [
    "result = 0\n",
    "\n",
    "for num in numList:\n",
    "    # 10 + 9 + 8 + 7 + 6 + 5 + 4 + 3 + 2 + 1 = 55\n",
    "    result += num\n",
    "    print(result)\n",
    "\n",
    "print(f'Resultado: {result}')"
   ]
  },
  {
   "cell_type": "markdown",
   "metadata": {},
   "source": [
    "Podemos ver como al dejar el print en la indentación va imprimiendo cada suma que va realizando, y el último print fuera de la identación se ejecuta sólo una vez notificando al usuario el resultado final.\n",
    "\n",
    "Ya vimos como podemos utilizar loops para _iterar_ sobre una lista, ahora veremos como podemos hacer lo mismo pero para un string."
   ]
  },
  {
   "cell_type": "code",
   "execution_count": 21,
   "metadata": {},
   "outputs": [
    {
     "name": "stdout",
     "output_type": "stream",
     "text": [
      "H\n",
      "e\n",
      "l\n",
      "l\n",
      "o\n",
      " \n",
      "W\n",
      "o\n",
      "r\n",
      "l\n",
      "d\n"
     ]
    }
   ],
   "source": [
    "myString = 'Hello World'\n",
    "\n",
    "for letter in myString:\n",
    "    print(letter)"
   ]
  },
  {
   "cell_type": "markdown",
   "metadata": {},
   "source": [
    "De la misma manera nos es posible iterar sobre un tuple, sin embargo en el caso de esta estructura existen diferentes \"técnicas\" o maneras de trabajar con ellas.\n",
    "\n",
    "La primera es la forma común:"
   ]
  },
  {
   "cell_type": "code",
   "execution_count": 22,
   "metadata": {},
   "outputs": [
    {
     "name": "stdout",
     "output_type": "stream",
     "text": [
      "1\n",
      "2\n",
      "3\n"
     ]
    }
   ],
   "source": [
    "myTup = (1,2,3)\n",
    "\n",
    "for item in myTup:\n",
    "    print (item)"
   ]
  },
  {
   "cell_type": "markdown",
   "metadata": {},
   "source": [
    "Por otro lado tenemos el _desempaquetado de tuples_ (tuple unpacking), supongamos que tenemos una lista de tuples.\n",
    "\n",
    "- Ej.-"
   ]
  },
  {
   "cell_type": "code",
   "execution_count": 23,
   "metadata": {},
   "outputs": [],
   "source": [
    "tupList = [(1,2), (3,4), (5,6), (7,8)]"
   ]
  },
  {
   "cell_type": "markdown",
   "metadata": {},
   "source": [
    "Si fuesemos a trabajar con esto de la manera común, al imprimir los elementos en la lista, se imprimirían los pares de datos:"
   ]
  },
  {
   "cell_type": "code",
   "execution_count": 24,
   "metadata": {},
   "outputs": [
    {
     "name": "stdout",
     "output_type": "stream",
     "text": [
      "(1, 2)\n",
      "(3, 4)\n",
      "(5, 6)\n",
      "(7, 8)\n"
     ]
    }
   ],
   "source": [
    "for par in tupList:\n",
    "    print (par)"
   ]
  },
  {
   "cell_type": "markdown",
   "metadata": {},
   "source": [
    "No obstante si quisieramos trabajar con los valores internos de cada tuple podemos hacer lo siguiente:"
   ]
  },
  {
   "cell_type": "code",
   "execution_count": 27,
   "metadata": {},
   "outputs": [
    {
     "name": "stdout",
     "output_type": "stream",
     "text": [
      "1\n",
      "2\n",
      "3\n",
      "4\n",
      "5\n",
      "6\n",
      "7\n",
      "8\n"
     ]
    }
   ],
   "source": [
    "for (a,b) in tupList:\n",
    "    print (a)\n",
    "    print (b)"
   ]
  },
  {
   "cell_type": "markdown",
   "metadata": {},
   "source": [
    "Vemos como en lugar de una variable común, ponemos algo similar a la estructura _tuple_ adentro de nuestra lista y esta nueva estructura recibe los valores adentro del _tuple_ con los cuales podemos trabajar ahora que los tenemos asignados a variables por separado.\n",
    "\n",
    "**NOTA:** Hay que observar que en este caso cada iteración del _forloop_ pasa de par en par los contenidos de los _tuples_."
   ]
  },
  {
   "cell_type": "code",
   "execution_count": 28,
   "metadata": {},
   "outputs": [
    {
     "name": "stdout",
     "output_type": "stream",
     "text": [
      "(1, 2, 3)\n",
      "(4, 5, 6)\n",
      "(7, 8, 9)\n"
     ]
    }
   ],
   "source": [
    "tupList = [(1,2,3), (4,5,6), (7,8,9)]\n",
    "\n",
    "for item in tupList:\n",
    "    print(item)"
   ]
  },
  {
   "cell_type": "code",
   "execution_count": 29,
   "metadata": {},
   "outputs": [
    {
     "name": "stdout",
     "output_type": "stream",
     "text": [
      "1\n",
      "2\n",
      "3\n",
      "4\n",
      "5\n",
      "6\n",
      "7\n",
      "8\n",
      "9\n"
     ]
    }
   ],
   "source": [
    "for a,b,c in tupList: #Nota: el parentesis para las variables a pasar no es necesario\n",
    "    print(a)\n",
    "    print(b)\n",
    "    print(c)"
   ]
  },
  {
   "cell_type": "code",
   "execution_count": 30,
   "metadata": {},
   "outputs": [
    {
     "name": "stdout",
     "output_type": "stream",
     "text": [
      "2\n",
      "5\n",
      "8\n"
     ]
    }
   ],
   "source": [
    "for a,b,c in tupList:\n",
    "    print (b)"
   ]
  },
  {
   "cell_type": "markdown",
   "metadata": {},
   "source": [
    "Aquí podemos ver como al asignarse de por tercias al trabajar sólo con la variable _b_ recibimos sólo el segundo elemento de cada _tuple_ en la lista.\n",
    "\n",
    "Por último veremos cómo iterar sobre in diccionario:"
   ]
  },
  {
   "cell_type": "code",
   "execution_count": 31,
   "metadata": {},
   "outputs": [
    {
     "name": "stdout",
     "output_type": "stream",
     "text": [
      "k1\n",
      "k2\n",
      "k3\n"
     ]
    }
   ],
   "source": [
    "d = {'k1': 1, 'k2': 2, 'k3':3}\n",
    "\n",
    "for item in d:\n",
    "    print(item)"
   ]
  },
  {
   "cell_type": "markdown",
   "metadata": {},
   "source": [
    "Podemos ver como por default se itera sólamente sobre las llaves del diccionario, si quisieramos ver los _items_ dentro del diccionario, es posible hacer lo siguiente:"
   ]
  },
  {
   "cell_type": "code",
   "execution_count": 32,
   "metadata": {},
   "outputs": [
    {
     "name": "stdout",
     "output_type": "stream",
     "text": [
      "('k1', 1)\n",
      "('k2', 2)\n",
      "('k3', 3)\n"
     ]
    }
   ],
   "source": [
    "for item in d.items():\n",
    "    print (item)"
   ]
  },
  {
   "cell_type": "markdown",
   "metadata": {},
   "source": [
    "De esta manera se nos arroja un par de tuples con los pares de llaves y valores asignados. Siendo este el caso, podemos usar la misma estrategia que vimos previamente donde en lugar de una viarable pasamos una pareja de variables para obtener cada elemento."
   ]
  },
  {
   "cell_type": "code",
   "execution_count": 34,
   "metadata": {},
   "outputs": [
    {
     "name": "stdout",
     "output_type": "stream",
     "text": [
      "llave: k1\n",
      "valor: 1\n",
      "llave: k2\n",
      "valor: 2\n",
      "llave: k3\n",
      "valor: 3\n"
     ]
    }
   ],
   "source": [
    "for key, value in d.items():\n",
    "    print (f'llave: {key}')\n",
    "    print (f'valor: {value}')"
   ]
  },
  {
   "cell_type": "markdown",
   "metadata": {},
   "source": [
    "En el caso de que sólo querramos imprimir los valores podríamos hacer lo siguiente:"
   ]
  },
  {
   "cell_type": "code",
   "execution_count": 35,
   "metadata": {},
   "outputs": [
    {
     "name": "stdout",
     "output_type": "stream",
     "text": [
      "1\n",
      "2\n",
      "3\n"
     ]
    }
   ],
   "source": [
    "for value in d.values():\n",
    "    print (value)"
   ]
  },
  {
   "cell_type": "markdown",
   "metadata": {},
   "source": [
    "Hay que recordar que los diccionarios son estructuras sin orden ni índices, en este caso el diccionario es pequeño y por ende nos arroja las cosas en orden. Sin embargo, en el caso de un diccionario largo, es muy probable que las cosas no salgan en el orden que las pusimos originalmente."
   ]
  }
 ],
 "metadata": {
  "kernelspec": {
   "display_name": "Python 3",
   "language": "python",
   "name": "python3"
  },
  "language_info": {
   "codemirror_mode": {
    "name": "ipython",
    "version": 3
   },
   "file_extension": ".py",
   "mimetype": "text/x-python",
   "name": "python",
   "nbconvert_exporter": "python",
   "pygments_lexer": "ipython3",
   "version": "3.6.4"
  }
 },
 "nbformat": 4,
 "nbformat_minor": 2
}
