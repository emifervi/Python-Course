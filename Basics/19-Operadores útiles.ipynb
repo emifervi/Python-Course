{
 "cells": [
  {
   "cell_type": "markdown",
   "metadata": {},
   "source": [
    "# range\n",
    "\n",
    "Debido a lo común que es por ejemplo usar listas con números de un punto a otro Ej.- 1-10 = [1,2,3,4,5,6,7,8,9,10] en Python se creo el operador _range(**args**)_ en el cual sus argumentos funcionan parecido a la notación del corte de strings.\n",
    "\n",
    "> ## range(inicio, final, pasos) #nota: el final es el limite superior pero no se incluye.\n",
    "\n",
    "- Ej.-"
   ]
  },
  {
   "cell_type": "markdown",
   "metadata": {},
   "source": [
    "Lista de 1 - 10"
   ]
  },
  {
   "cell_type": "code",
   "execution_count": 1,
   "metadata": {},
   "outputs": [
    {
     "name": "stdout",
     "output_type": "stream",
     "text": [
      "1\n",
      "2\n",
      "3\n",
      "4\n",
      "5\n",
      "6\n",
      "7\n",
      "8\n",
      "9\n",
      "10\n"
     ]
    }
   ],
   "source": [
    "for num in range(1,11):\n",
    "    print (num)"
   ]
  },
  {
   "cell_type": "markdown",
   "metadata": {},
   "source": [
    "Lista de un intervalo específico (3-5)"
   ]
  },
  {
   "cell_type": "code",
   "execution_count": 2,
   "metadata": {},
   "outputs": [
    {
     "name": "stdout",
     "output_type": "stream",
     "text": [
      "3\n",
      "4\n",
      "5\n"
     ]
    }
   ],
   "source": [
    "for num in range(3,6):\n",
    "    print(num)"
   ]
  },
  {
   "cell_type": "markdown",
   "metadata": {},
   "source": [
    "Lista de números par del 0-10"
   ]
  },
  {
   "cell_type": "code",
   "execution_count": 5,
   "metadata": {},
   "outputs": [
    {
     "name": "stdout",
     "output_type": "stream",
     "text": [
      "0\n",
      "2\n",
      "4\n",
      "6\n",
      "8\n",
      "10\n"
     ]
    }
   ],
   "source": [
    "for num in range(0,11,2):\n",
    "    print(num)"
   ]
  },
  {
   "cell_type": "markdown",
   "metadata": {},
   "source": [
    "Algo que hay que saber es que el operador _range(**args**)_ no crea ni retorna una lista, si nosotros ejecutamos sólo esa función en una celda sucedería lo siguiente:"
   ]
  },
  {
   "cell_type": "code",
   "execution_count": 6,
   "metadata": {},
   "outputs": [
    {
     "data": {
      "text/plain": [
       "range(0, 11)"
      ]
     },
     "execution_count": 6,
     "metadata": {},
     "output_type": "execute_result"
    }
   ],
   "source": [
    "range(0,11)"
   ]
  },
  {
   "cell_type": "markdown",
   "metadata": {},
   "source": [
    "Como podemos ver se retorna a si misma, pero en el caso de que quisieramos que nos regresara una lista, podriamos hacer un _casting_ como con los _sets_ y _lists_\n",
    "\n",
    "- Ej.-"
   ]
  },
  {
   "cell_type": "code",
   "execution_count": 7,
   "metadata": {},
   "outputs": [
    {
     "data": {
      "text/plain": [
       "[0, 1, 2, 3, 4, 5, 6, 7, 8, 9, 10]"
      ]
     },
     "execution_count": 7,
     "metadata": {},
     "output_type": "execute_result"
    }
   ],
   "source": [
    "list(range(0,11))"
   ]
  },
  {
   "cell_type": "markdown",
   "metadata": {},
   "source": [
    "La razón por la cual este tipo de función resulta muy útil es por que al usar este _generator_ el rango de números especificado no se guarda en memoria y de esa manera nuestro programa resulta más eficiente.\n",
    "\n",
    "# enumerate\n",
    "\n",
    "En varias situaciones más adelante, nos veremos en la necesidad de iterar sobre una lista o un string y de querer llevar un conteo del índice en el cuál nos encontramos. Esto lo podriamos manejar de la siguiente manera:"
   ]
  },
  {
   "cell_type": "code",
   "execution_count": 8,
   "metadata": {},
   "outputs": [
    {
     "name": "stdout",
     "output_type": "stream",
     "text": [
      "En el indice 0 está la letra a\n",
      "En el indice 1 está la letra b\n",
      "En el indice 2 está la letra c\n",
      "En el indice 3 está la letra d\n",
      "En el indice 4 está la letra e\n"
     ]
    }
   ],
   "source": [
    "i = 0\n",
    "word = 'abcde'\n",
    "\n",
    "for letter in word:\n",
    "    print(f'En el indice {i} está la letra {letter}')\n",
    "    i += 1"
   ]
  },
  {
   "cell_type": "markdown",
   "metadata": {},
   "source": [
    "Esta notación no tiene nada de malo, sin embargo crear una variable extra para llevar el número de índice gasta un espacio más de memoria, para eso en Python se creo la función _enumerate(**arg**)_ la cual nos arroja como resultado _tuples_ con pares de datos de índice y el contenido en dicha posición:\n",
    "\n",
    "- Ej.-"
   ]
  },
  {
   "cell_type": "code",
   "execution_count": 10,
   "metadata": {},
   "outputs": [
    {
     "name": "stdout",
     "output_type": "stream",
     "text": [
      "(0, 'a')\n",
      "(1, 'b')\n",
      "(2, 'c')\n",
      "(3, 'd')\n",
      "(4, 'e')\n"
     ]
    }
   ],
   "source": [
    "word = 'abcde'\n",
    "\n",
    "for letter in enumerate(word):\n",
    "    print(letter)"
   ]
  },
  {
   "cell_type": "code",
   "execution_count": 14,
   "metadata": {},
   "outputs": [
    {
     "name": "stdout",
     "output_type": "stream",
     "text": [
      "at 0 is a\n",
      "at 1 is b\n",
      "at 2 is c\n",
      "at 3 is d\n",
      "at 4 is e\n"
     ]
    }
   ],
   "source": [
    "# Desempacado de tuples\n",
    "for index,letter in enumerate(word):\n",
    "    print(f'at {index} is {letter}')"
   ]
  },
  {
   "cell_type": "markdown",
   "metadata": {},
   "source": [
    "# zip\n",
    "\n",
    "Sirve para iterar sobre dos o más listas al mismo tiempo, arroja como resultado _tuples_ con pares de datos en la misma posición en cada lista iterada y tiene sintáxis:\n",
    "\n",
    "> ## zip(_lista1_, _lista2_, ...)\n",
    "\n",
    "- Ej.-"
   ]
  },
  {
   "cell_type": "code",
   "execution_count": 15,
   "metadata": {},
   "outputs": [],
   "source": [
    "myList1 = [1, 2, 3]\n",
    "myList2 = ['a', 'b', 'c']"
   ]
  },
  {
   "cell_type": "code",
   "execution_count": 16,
   "metadata": {},
   "outputs": [
    {
     "name": "stdout",
     "output_type": "stream",
     "text": [
      "(1, 'a')\n",
      "(2, 'b')\n",
      "(3, 'c')\n"
     ]
    }
   ],
   "source": [
    "for item in zip(myList1, myList2):\n",
    "    print(item)"
   ]
  },
  {
   "cell_type": "code",
   "execution_count": 19,
   "metadata": {},
   "outputs": [
    {
     "name": "stdout",
     "output_type": "stream",
     "text": [
      "Lista 1: 1, Lista 2: a.\n",
      "Lista 1: 2, Lista 2: b.\n",
      "Lista 1: 3, Lista 2: c.\n"
     ]
    }
   ],
   "source": [
    "# Desempacado de tuples\n",
    "for item1, item2 in zip(myList1, myList2):\n",
    "    print(f'Lista 1: {item1}, Lista 2: {item2}.')"
   ]
  },
  {
   "cell_type": "code",
   "execution_count": 21,
   "metadata": {},
   "outputs": [
    {
     "name": "stdout",
     "output_type": "stream",
     "text": [
      "Lista 1: 1, Lista 2: a, Lista 3: Hugo.\n",
      "Lista 1: 2, Lista 2: b, Lista 3: Paco.\n",
      "Lista 1: 3, Lista 2: c, Lista 3: Luis.\n"
     ]
    }
   ],
   "source": [
    "myList3 = ['Hugo', 'Paco', 'Luis']\n",
    "\n",
    "for item1, item2, item3 in zip(myList1, myList2, myList3):\n",
    "    print(f'Lista 1: {item1}, Lista 2: {item2}, Lista 3: {item3}.')"
   ]
  },
  {
   "cell_type": "markdown",
   "metadata": {},
   "source": [
    "En el caso de que una de las listas contenga más elementos que las otras, la función _zip_ sólo servirá hasta el mayor índice de la lista más pequeña:\n",
    "\n",
    "- Ej.-"
   ]
  },
  {
   "cell_type": "code",
   "execution_count": 24,
   "metadata": {},
   "outputs": [
    {
     "name": "stdout",
     "output_type": "stream",
     "text": [
      "Lista 1: 1, Lista 2: a, Lista 3: Hugo.\n",
      "Lista 1: 2, Lista 2: b, Lista 3: Paco.\n",
      "Lista 1: 3, Lista 2: c, Lista 3: Luis.\n"
     ]
    }
   ],
   "source": [
    "myList1 = [1, 2, 3, 4, 5]\n",
    "myList2 = ['a', 'b', 'c', 'd']\n",
    "myList3 = ['Hugo', 'Paco', 'Luis']\n",
    "\n",
    "for item1, item2, item3 in zip(myList1, myList2, myList3):\n",
    "    print(f'Lista 1: {item1}, Lista 2: {item2}, Lista 3: {item3}.')"
   ]
  },
  {
   "cell_type": "markdown",
   "metadata": {},
   "source": [
    "De la misma manera podemos obtener una lista de tuples usando _casting_ como en las ocaciones pasadas:"
   ]
  },
  {
   "cell_type": "code",
   "execution_count": 25,
   "metadata": {},
   "outputs": [
    {
     "data": {
      "text/plain": [
       "[(1, 'a', 'Hugo'), (2, 'b', 'Paco'), (3, 'c', 'Luis')]"
      ]
     },
     "execution_count": 25,
     "metadata": {},
     "output_type": "execute_result"
    }
   ],
   "source": [
    "list(zip(myList1, myList2, myList3))"
   ]
  },
  {
   "cell_type": "markdown",
   "metadata": {},
   "source": [
    "# in\n",
    "\n",
    "Esta palabra la hemos visto para el uso de los _for loops_ sin embargo, también la podemos usar como un operador booleano para probar si un elemento se encuentra adentro de una lista.\n",
    "\n",
    "- Ej.-"
   ]
  },
  {
   "cell_type": "code",
   "execution_count": 26,
   "metadata": {},
   "outputs": [
    {
     "data": {
      "text/plain": [
       "False"
      ]
     },
     "execution_count": 26,
     "metadata": {},
     "output_type": "execute_result"
    }
   ],
   "source": [
    "'x' in [1, 2, 3]"
   ]
  },
  {
   "cell_type": "code",
   "execution_count": 27,
   "metadata": {},
   "outputs": [
    {
     "data": {
      "text/plain": [
       "False"
      ]
     },
     "execution_count": 27,
     "metadata": {},
     "output_type": "execute_result"
    }
   ],
   "source": [
    "'Jorge' in myList3"
   ]
  },
  {
   "cell_type": "code",
   "execution_count": 28,
   "metadata": {},
   "outputs": [
    {
     "data": {
      "text/plain": [
       "True"
      ]
     },
     "execution_count": 28,
     "metadata": {},
     "output_type": "execute_result"
    }
   ],
   "source": [
    "'Hugo' in myList3"
   ]
  },
  {
   "cell_type": "code",
   "execution_count": 32,
   "metadata": {},
   "outputs": [
    {
     "data": {
      "text/plain": [
       "True"
      ]
     },
     "execution_count": 32,
     "metadata": {},
     "output_type": "execute_result"
    }
   ],
   "source": [
    "'u' in 'Hugo'"
   ]
  },
  {
   "cell_type": "code",
   "execution_count": 34,
   "metadata": {},
   "outputs": [
    {
     "data": {
      "text/plain": [
       "True"
      ]
     },
     "execution_count": 34,
     "metadata": {},
     "output_type": "execute_result"
    }
   ],
   "source": [
    "#diccionarios\n",
    "'k1' in {'k1':10, 'k2':20}"
   ]
  },
  {
   "cell_type": "code",
   "execution_count": 36,
   "metadata": {},
   "outputs": [
    {
     "data": {
      "text/plain": [
       "True"
      ]
     },
     "execution_count": 36,
     "metadata": {},
     "output_type": "execute_result"
    }
   ],
   "source": [
    "d = {'k1':10, 'k2':20}\n",
    "\n",
    "10 in d.values()"
   ]
  },
  {
   "cell_type": "code",
   "execution_count": 37,
   "metadata": {},
   "outputs": [
    {
     "data": {
      "text/plain": [
       "False"
      ]
     },
     "execution_count": 37,
     "metadata": {},
     "output_type": "execute_result"
    }
   ],
   "source": [
    "10 in d.keys()"
   ]
  },
  {
   "cell_type": "markdown",
   "metadata": {},
   "source": [
    "# min, max.\n",
    "\n",
    "En el caso de que tengamos una lista por ejemplo de números y querramos obtener rapidamente el mayor o menor valor en esta lista podemos apoyarnos de las funciones _min(**arg**)_ y _max(**arg**)_.\n",
    "\n",
    "- Ej.-"
   ]
  },
  {
   "cell_type": "code",
   "execution_count": 41,
   "metadata": {},
   "outputs": [
    {
     "name": "stdout",
     "output_type": "stream",
     "text": [
      "Min: 10\n",
      "Max: 100\n"
     ]
    }
   ],
   "source": [
    "numList = [30, 100, 20, 10, 20]\n",
    "\n",
    "print(f'Min: {min(numList)}')\n",
    "print(f'Max: {max(numList)}')"
   ]
  },
  {
   "cell_type": "markdown",
   "metadata": {},
   "source": [
    "Estas funciones también aplican para el caso de los strings, sin embargo en esta situación se evalúa con base en su valor en código ASCII"
   ]
  },
  {
   "cell_type": "code",
   "execution_count": 44,
   "metadata": {},
   "outputs": [
    {
     "name": "stdout",
     "output_type": "stream",
     "text": [
      "g\n",
      "u\n"
     ]
    }
   ],
   "source": [
    "name = 'hugo'\n",
    "print(min(name))\n",
    "print(max(name))"
   ]
  },
  {
   "cell_type": "code",
   "execution_count": 47,
   "metadata": {},
   "outputs": [
    {
     "name": "stdout",
     "output_type": "stream",
     "text": [
      "H\n",
      "u\n"
     ]
    }
   ],
   "source": [
    "name = 'Hugo' \n",
    "print(min(name))\n",
    "print(max(name))\n",
    "\n",
    "# En ASCII las mayúsculas aparecen antes que las minúsculas, por eso H es la menor."
   ]
  },
  {
   "cell_type": "markdown",
   "metadata": {},
   "source": [
    "# random\n",
    "\n",
    "Python viene integrado con su propia librería de funciones random, a continuación trabajaremos con algunas de ellas.\n",
    "\n",
    "## shuffle\n",
    "\n",
    "Esta función arregla de manera aleatoría los elementos dentro de una lista, algo así como cuando uno baraja un mazo de cartas."
   ]
  },
  {
   "cell_type": "code",
   "execution_count": 49,
   "metadata": {},
   "outputs": [],
   "source": [
    "from random import shuffle"
   ]
  },
  {
   "cell_type": "code",
   "execution_count": 50,
   "metadata": {},
   "outputs": [],
   "source": [
    "myList = [1,2,3,4,5,6,7,8,9,10]\n",
    "shuffle(myList)"
   ]
  },
  {
   "cell_type": "code",
   "execution_count": 51,
   "metadata": {},
   "outputs": [
    {
     "data": {
      "text/plain": [
       "[10, 6, 8, 2, 9, 4, 7, 3, 1, 5]"
      ]
     },
     "execution_count": 51,
     "metadata": {},
     "output_type": "execute_result"
    }
   ],
   "source": [
    "myList"
   ]
  },
  {
   "cell_type": "code",
   "execution_count": 55,
   "metadata": {},
   "outputs": [
    {
     "data": {
      "text/plain": [
       "[3, 8, 10, 2, 6, 5, 7, 1, 4, 9]"
      ]
     },
     "execution_count": 55,
     "metadata": {},
     "output_type": "execute_result"
    }
   ],
   "source": [
    "shuffle(myList)\n",
    "myList"
   ]
  },
  {
   "cell_type": "markdown",
   "metadata": {},
   "source": [
    "Como podemos ver desordena de manera aleatoría los elementos de la lista, por otro lado es necesario hacer notar que esta función no retorna nada por lo que hacer algo como:\n",
    "\n",
    "> randList = shuffle(myList)\n",
    "\n",
    "no daría valor alguno a randList"
   ]
  },
  {
   "cell_type": "markdown",
   "metadata": {},
   "source": [
    "# randint\n",
    "\n",
    "Esta función nos permite generar un número entero aleatorio en un rángo de números y tiene sintáxis:\n",
    "\n",
    "> ## randint(_inicio_, _final_)"
   ]
  },
  {
   "cell_type": "code",
   "execution_count": 57,
   "metadata": {},
   "outputs": [],
   "source": [
    "from random import randint"
   ]
  },
  {
   "cell_type": "code",
   "execution_count": 58,
   "metadata": {},
   "outputs": [
    {
     "data": {
      "text/plain": [
       "41"
      ]
     },
     "execution_count": 58,
     "metadata": {},
     "output_type": "execute_result"
    }
   ],
   "source": [
    "randint(0,100)"
   ]
  },
  {
   "cell_type": "code",
   "execution_count": 59,
   "metadata": {},
   "outputs": [
    {
     "data": {
      "text/plain": [
       "78"
      ]
     },
     "execution_count": 59,
     "metadata": {},
     "output_type": "execute_result"
    }
   ],
   "source": [
    "randint(0,100)"
   ]
  },
  {
   "cell_type": "markdown",
   "metadata": {},
   "source": [
    "En este caso, sí es posible guardar el dato aleatorio debido a que esta función sí arroja un dato."
   ]
  },
  {
   "cell_type": "code",
   "execution_count": 60,
   "metadata": {},
   "outputs": [],
   "source": [
    "myNum = randint(0,100)"
   ]
  },
  {
   "cell_type": "code",
   "execution_count": 61,
   "metadata": {},
   "outputs": [
    {
     "data": {
      "text/plain": [
       "31"
      ]
     },
     "execution_count": 61,
     "metadata": {},
     "output_type": "execute_result"
    }
   ],
   "source": [
    "myNum"
   ]
  },
  {
   "cell_type": "code",
   "execution_count": 62,
   "metadata": {},
   "outputs": [
    {
     "data": {
      "text/plain": [
       "31"
      ]
     },
     "execution_count": 62,
     "metadata": {},
     "output_type": "execute_result"
    }
   ],
   "source": [
    "myNum"
   ]
  },
  {
   "cell_type": "markdown",
   "metadata": {},
   "source": [
    "Como podemos ver de esta manera guardamos el primer número random que nos arroja la función con el rango dado.\n",
    "\n",
    "# input\n",
    "\n",
    "Esta función nos permitirá recibir _input_ o valores provistos por el usuario de nuestro programa y tiene sintáxis:\n",
    "\n",
    "> ## input('Texto para pedir variable')\n",
    "\n",
    "- Ej.-"
   ]
  },
  {
   "cell_type": "code",
   "execution_count": 63,
   "metadata": {},
   "outputs": [
    {
     "name": "stdout",
     "output_type": "stream",
     "text": [
      "¿Cómo te llamas?Emilio\n"
     ]
    },
    {
     "data": {
      "text/plain": [
       "'Emilio'"
      ]
     },
     "execution_count": 63,
     "metadata": {},
     "output_type": "execute_result"
    }
   ],
   "source": [
    "input('¿Cómo te llamas?')"
   ]
  },
  {
   "cell_type": "markdown",
   "metadata": {},
   "source": [
    "Como podemos ver esta función nos arroja un dato, generalmente lo que vamos a querer hacer es guardar ese dato para hacer algo con él posteriormente.\n",
    "\n",
    "- Ej.-"
   ]
  },
  {
   "cell_type": "code",
   "execution_count": 67,
   "metadata": {},
   "outputs": [
    {
     "name": "stdout",
     "output_type": "stream",
     "text": [
      "¿Cómo te llamas? Emilio\n",
      "Hola Emilio\n"
     ]
    }
   ],
   "source": [
    "nombre = input('¿Cómo te llamas? ')\n",
    "print(f'Hola {nombre}')"
   ]
  },
  {
   "cell_type": "markdown",
   "metadata": {},
   "source": [
    "Es importante saber que todo lo que la función _input()_ recibe, lo toma como un string:"
   ]
  },
  {
   "cell_type": "code",
   "execution_count": 68,
   "metadata": {},
   "outputs": [
    {
     "data": {
      "text/plain": [
       "str"
      ]
     },
     "execution_count": 68,
     "metadata": {},
     "output_type": "execute_result"
    }
   ],
   "source": [
    "type(nombre)"
   ]
  },
  {
   "cell_type": "code",
   "execution_count": 69,
   "metadata": {},
   "outputs": [
    {
     "name": "stdout",
     "output_type": "stream",
     "text": [
      "¿Cuál es tu número favorito? 5\n"
     ]
    }
   ],
   "source": [
    "num = input('¿Cuál es tu número favorito? ')"
   ]
  },
  {
   "cell_type": "code",
   "execution_count": 70,
   "metadata": {},
   "outputs": [
    {
     "data": {
      "text/plain": [
       "str"
      ]
     },
     "execution_count": 70,
     "metadata": {},
     "output_type": "execute_result"
    }
   ],
   "source": [
    "type(num)"
   ]
  },
  {
   "cell_type": "markdown",
   "metadata": {},
   "source": [
    "Si quisieramos convertir esta variable que recibimos a tipo numérico, nos es posible hacer un _casting_ a _float_ o _int_ dependiendo del tipo de trabajo que realizamos. \n",
    "\n",
    "- Ej.-"
   ]
  },
  {
   "cell_type": "code",
   "execution_count": 71,
   "metadata": {},
   "outputs": [],
   "source": [
    "num = int(num)"
   ]
  },
  {
   "cell_type": "code",
   "execution_count": 72,
   "metadata": {},
   "outputs": [
    {
     "data": {
      "text/plain": [
       "int"
      ]
     },
     "execution_count": 72,
     "metadata": {},
     "output_type": "execute_result"
    }
   ],
   "source": [
    "type(num)"
   ]
  },
  {
   "cell_type": "code",
   "execution_count": 73,
   "metadata": {},
   "outputs": [
    {
     "data": {
      "text/plain": [
       "5"
      ]
     },
     "execution_count": 73,
     "metadata": {},
     "output_type": "execute_result"
    }
   ],
   "source": [
    "num"
   ]
  },
  {
   "cell_type": "markdown",
   "metadata": {},
   "source": [
    "De manera más limpia inclusive si sabemos desde un principio que lo que queremos recibir es un valor numérico y no un string, podemos hacer el _casting_ desde un inicio.\n",
    "\n",
    "- Ej.-"
   ]
  },
  {
   "cell_type": "code",
   "execution_count": 74,
   "metadata": {},
   "outputs": [
    {
     "name": "stdout",
     "output_type": "stream",
     "text": [
      "Número favorito: 6\n"
     ]
    }
   ],
   "source": [
    "favNum = int(input('Número favorito: '))"
   ]
  },
  {
   "cell_type": "code",
   "execution_count": 75,
   "metadata": {},
   "outputs": [
    {
     "data": {
      "text/plain": [
       "int"
      ]
     },
     "execution_count": 75,
     "metadata": {},
     "output_type": "execute_result"
    }
   ],
   "source": [
    "type(favNum)"
   ]
  },
  {
   "cell_type": "code",
   "execution_count": 76,
   "metadata": {},
   "outputs": [
    {
     "data": {
      "text/plain": [
       "6"
      ]
     },
     "execution_count": 76,
     "metadata": {},
     "output_type": "execute_result"
    }
   ],
   "source": [
    "favNum"
   ]
  }
 ],
 "metadata": {
  "kernelspec": {
   "display_name": "Python 3",
   "language": "python",
   "name": "python3"
  },
  "language_info": {
   "codemirror_mode": {
    "name": "ipython",
    "version": 3
   },
   "file_extension": ".py",
   "mimetype": "text/x-python",
   "name": "python",
   "nbconvert_exporter": "python",
   "pygments_lexer": "ipython3",
   "version": "3.6.4"
  }
 },
 "nbformat": 4,
 "nbformat_minor": 2
}
