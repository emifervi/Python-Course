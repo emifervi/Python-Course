{
 "cells": [
  {
   "cell_type": "markdown",
   "metadata": {},
   "source": [
    "# Ejercicios de práctica de funciones\n",
    "\n",
    "Los problemas están organizados en dificultad creciente:\n",
    "\n",
    "- Calentamiento - pueden ser resueltos usando comparadores básicos y métodos.\n",
    "- Nivel 1 - estos pueden involucrar condicionales y métodos simples.\n",
    "- Nivel 2 - estos pueden requerir que se hagan iteraciones sobre secuancias con algún loop.\n",
    "- Retador - estos necesitan algo de creatividad para resolverse.\n",
    "\n",
    "# SECCIÓN DE CALENTAMIENTO:\n",
    "\n",
    "#### EL MENOR DE DOS PARES: Escribe una función que retorne el menor de dos numero dados si ambos son par, pero que retorne el mayor si uno o ambos son nones.\n",
    "\n",
    "> ```lesser_of_two_evens(2,4) --> 2```\n",
    "\n",
    "> ```lesser_of_two_evens(2,5) --> 5```"
   ]
  },
  {
   "cell_type": "code",
   "execution_count": 1,
   "metadata": {},
   "outputs": [],
   "source": [
    "def lesser_of_two_evens(a,b):\n",
    "    if a%2 == 0 and b%2 == 0:\n",
    "        if a < b:\n",
    "            return a\n",
    "        else:\n",
    "            return b\n",
    "    else:\n",
    "        if a > b:\n",
    "            return a\n",
    "        else:\n",
    "            return b"
   ]
  },
  {
   "cell_type": "code",
   "execution_count": 3,
   "metadata": {},
   "outputs": [
    {
     "data": {
      "text/plain": [
       "2"
      ]
     },
     "execution_count": 3,
     "metadata": {},
     "output_type": "execute_result"
    }
   ],
   "source": [
    "# Check\n",
    "lesser_of_two_evens(2,4)"
   ]
  },
  {
   "cell_type": "code",
   "execution_count": 4,
   "metadata": {},
   "outputs": [
    {
     "data": {
      "text/plain": [
       "5"
      ]
     },
     "execution_count": 4,
     "metadata": {},
     "output_type": "execute_result"
    }
   ],
   "source": [
    "# Check\n",
    "lesser_of_two_evens(2,5)"
   ]
  },
  {
   "cell_type": "markdown",
   "metadata": {},
   "source": [
    "#### ANIMAL CRACKERS: Escribe una función que tome un string de dos palabras y retorne Verdadero si ambas palabras inician con la misma letra.\n",
    "\n",
    "> ```animal_crackers('Levelheaded Llama') --> True```\n",
    "\n",
    "> ```animal_crackers('Crazy Kangaroo') --> False```"
   ]
  },
  {
   "cell_type": "code",
   "execution_count": 5,
   "metadata": {},
   "outputs": [],
   "source": [
    "def animal_crackers(text):\n",
    "    return text.split()[0][0] == text.split()[1][0]"
   ]
  },
  {
   "cell_type": "code",
   "execution_count": 6,
   "metadata": {},
   "outputs": [
    {
     "data": {
      "text/plain": [
       "True"
      ]
     },
     "execution_count": 6,
     "metadata": {},
     "output_type": "execute_result"
    }
   ],
   "source": [
    "# Check\n",
    "animal_crackers('Levelheaded Llama')"
   ]
  },
  {
   "cell_type": "code",
   "execution_count": 7,
   "metadata": {},
   "outputs": [
    {
     "data": {
      "text/plain": [
       "False"
      ]
     },
     "execution_count": 7,
     "metadata": {},
     "output_type": "execute_result"
    }
   ],
   "source": [
    "# Check\n",
    "animal_crackers('Crazy Kangaroo')"
   ]
  },
  {
   "cell_type": "markdown",
   "metadata": {},
   "source": [
    "#### MAKES TWENTY: Dados dos números enteros, retorna Verdadero si la suma de los números es 20 o si uno de ellos es 20. Si no retorna Falso.\n",
    "\n",
    "> ```makes_twenty(20,10) --> True```\n",
    "\n",
    "> ```makes_twenty(12,8) --> True```\n",
    "\n",
    "> ```makes_twenty(2,3) --> False```"
   ]
  },
  {
   "cell_type": "code",
   "execution_count": 8,
   "metadata": {},
   "outputs": [],
   "source": [
    "def makes_twenty(n1,n2):\n",
    "    return (n1+n2 == 20 or n1 == 20 or n2 == 20)"
   ]
  },
  {
   "cell_type": "code",
   "execution_count": 9,
   "metadata": {},
   "outputs": [
    {
     "data": {
      "text/plain": [
       "True"
      ]
     },
     "execution_count": 9,
     "metadata": {},
     "output_type": "execute_result"
    }
   ],
   "source": [
    "# Check\n",
    "makes_twenty(20,10)"
   ]
  },
  {
   "cell_type": "code",
   "execution_count": 10,
   "metadata": {},
   "outputs": [
    {
     "data": {
      "text/plain": [
       "True"
      ]
     },
     "execution_count": 10,
     "metadata": {},
     "output_type": "execute_result"
    }
   ],
   "source": [
    "# Check\n",
    "makes_twenty(12,8)"
   ]
  },
  {
   "cell_type": "code",
   "execution_count": 11,
   "metadata": {},
   "outputs": [
    {
     "data": {
      "text/plain": [
       "False"
      ]
     },
     "execution_count": 11,
     "metadata": {},
     "output_type": "execute_result"
    }
   ],
   "source": [
    "# Check\n",
    "makes_twenty(2,3)"
   ]
  },
  {
   "cell_type": "markdown",
   "metadata": {},
   "source": [
    "# PROBLEMAS DE NIVEL 1\n",
    "\n",
    "#### OLD MACDONALD: Escribe una función que convierta en mayusculas la primera y cuarta letras de un nombre.\n",
    "\n",
    "> ```old_macdonald('macdonald') --> MacDonald```\n",
    "\n",
    "Nota: ```'macdonald'.capitalize() retorna 'Macdonald'```"
   ]
  },
  {
   "cell_type": "code",
   "execution_count": 14,
   "metadata": {},
   "outputs": [],
   "source": [
    "def old_macdonald(name):\n",
    "    name = name[0].upper() + name[1:3] + name[3].upper() + name[4:]\n",
    "    return name"
   ]
  },
  {
   "cell_type": "code",
   "execution_count": 15,
   "metadata": {},
   "outputs": [
    {
     "data": {
      "text/plain": [
       "'MacDonald'"
      ]
     },
     "execution_count": 15,
     "metadata": {},
     "output_type": "execute_result"
    }
   ],
   "source": [
    "# Check\n",
    "old_macdonald('macdonald')"
   ]
  },
  {
   "cell_type": "markdown",
   "metadata": {},
   "source": [
    "#### MASTER YODA: Dada una oración, retorna la oración con las palabras al revés.\n",
    "\n",
    "> ```master_yoda('I am home') --> 'home am I'```\n",
    "> ```master_yoda('We are ready') --> 'ready are We```\n",
    "\n",
    "Nota: El método .join() podría ser útil. El método .join() permite juntar string en una lista con un string conector. Por ejemplo uno uso de .join() sería:\n",
    "\n",
    "> \\>>> ```\"--\".join(['a','b','c'])```\n",
    "\n",
    "> \\>>> ```'a--b--c'```\n",
    "\n",
    "Esto significa que si tienes una lista de palabras y las quisieras convertir de nuevo en una oración podrías usar el método .join() con un espacio en blanco:\n",
    "\n",
    "> \\>>> ```\" \".join(['Hello', 'world'])```\n",
    "\n",
    "> \\>>> ```\"Hello world\"```"
   ]
  },
  {
   "cell_type": "code",
   "execution_count": 29,
   "metadata": {},
   "outputs": [],
   "source": [
    "def master_yoda(text):\n",
    "    text = text.split()\n",
    "    text.reverse()\n",
    "    return ' '.join(text)"
   ]
  },
  {
   "cell_type": "code",
   "execution_count": 30,
   "metadata": {},
   "outputs": [
    {
     "data": {
      "text/plain": [
       "'home am I'"
      ]
     },
     "execution_count": 30,
     "metadata": {},
     "output_type": "execute_result"
    }
   ],
   "source": [
    "# Check\n",
    "master_yoda('I am home')"
   ]
  },
  {
   "cell_type": "code",
   "execution_count": 32,
   "metadata": {},
   "outputs": [
    {
     "data": {
      "text/plain": [
       "'ready are We'"
      ]
     },
     "execution_count": 32,
     "metadata": {},
     "output_type": "execute_result"
    }
   ],
   "source": [
    "# Check\n",
    "master_yoda('We are ready')"
   ]
  },
  {
   "cell_type": "markdown",
   "metadata": {},
   "source": [
    "#### CASI AHÍ: dado in número entero n, retorna verdadero si n esta a 10 de distancia de 100 o 200\n",
    "\n",
    "> ```almost_there(90) --> True```\n",
    "\n",
    "> ```almost_there(104) --> True```\n",
    "\n",
    "> ```almost_there(150) --> False```\n",
    "\n",
    "> ```almost_there(209) --> True```\n",
    "\n",
    "NOTA: abs(num) retorna el valor absoluto de un número"
   ]
  },
  {
   "cell_type": "code",
   "execution_count": 34,
   "metadata": {},
   "outputs": [],
   "source": [
    "def almost_there(n):\n",
    "    return (abs(100-n) <= 10 or abs(200-n) <= 10)"
   ]
  },
  {
   "cell_type": "code",
   "execution_count": 35,
   "metadata": {},
   "outputs": [
    {
     "data": {
      "text/plain": [
       "True"
      ]
     },
     "execution_count": 35,
     "metadata": {},
     "output_type": "execute_result"
    }
   ],
   "source": [
    "# Check\n",
    "almost_there(104)"
   ]
  },
  {
   "cell_type": "code",
   "execution_count": 38,
   "metadata": {},
   "outputs": [
    {
     "data": {
      "text/plain": [
       "False"
      ]
     },
     "execution_count": 38,
     "metadata": {},
     "output_type": "execute_result"
    }
   ],
   "source": [
    "# Check\n",
    "almost_there(150)"
   ]
  },
  {
   "cell_type": "code",
   "execution_count": 39,
   "metadata": {},
   "outputs": [
    {
     "data": {
      "text/plain": [
       "True"
      ]
     },
     "execution_count": 39,
     "metadata": {},
     "output_type": "execute_result"
    }
   ],
   "source": [
    "# Check\n",
    "almost_there(209)"
   ]
  },
  {
   "cell_type": "markdown",
   "metadata": {},
   "source": [
    "# PROBLEMAS DE NIVEL 2:\n",
    "\n",
    "#### ENCUENTRA 33:\n",
    "\n",
    "Dada una lista de integros, retorna verdadero si el array contiene un 3 al lado de otro.\n",
    "\n",
    "> ```has_33([1,3,3]) --> True```\n",
    "\n",
    "> ```has_33([1,3,1,3]) --> False```\n",
    "\n",
    "> ```has_33([3,1,3]) --> False```"
   ]
  },
  {
   "cell_type": "code",
   "execution_count": 104,
   "metadata": {},
   "outputs": [],
   "source": [
    "def has_33(nums):\n",
    "    \n",
    "    prev = 0\n",
    "    \n",
    "    for num in nums:\n",
    "        if not(prev == 3 and num == 3):\n",
    "            prev = num\n",
    "        else:\n",
    "            return True\n",
    "    \n",
    "    return False"
   ]
  },
  {
   "cell_type": "code",
   "execution_count": 105,
   "metadata": {},
   "outputs": [
    {
     "data": {
      "text/plain": [
       "True"
      ]
     },
     "execution_count": 105,
     "metadata": {},
     "output_type": "execute_result"
    }
   ],
   "source": [
    "has_33([1,3,3])"
   ]
  },
  {
   "cell_type": "code",
   "execution_count": 106,
   "metadata": {},
   "outputs": [
    {
     "data": {
      "text/plain": [
       "False"
      ]
     },
     "execution_count": 106,
     "metadata": {},
     "output_type": "execute_result"
    }
   ],
   "source": [
    "has_33([1,3,1,3])"
   ]
  },
  {
   "cell_type": "code",
   "execution_count": 107,
   "metadata": {},
   "outputs": [
    {
     "data": {
      "text/plain": [
       "False"
      ]
     },
     "execution_count": 107,
     "metadata": {},
     "output_type": "execute_result"
    }
   ],
   "source": [
    "has_33([3,1,3])"
   ]
  },
  {
   "cell_type": "markdown",
   "metadata": {},
   "source": [
    "#### MUÑECA DE PAPEL: Dado un string retorna un string donde por cada caratér del original haya tres caractéres.\n",
    "\n",
    "> ```paper_doll('Hello') --> 'HHHeeelllooo'```\n",
    "\n",
    "> ```paper_doll('Mississippi') --> 'MMMiiissssssiiissssssiiippppppiii'```"
   ]
  },
  {
   "cell_type": "code",
   "execution_count": 108,
   "metadata": {},
   "outputs": [],
   "source": [
    "def paper_doll(text):\n",
    "    \n",
    "    doll = ''\n",
    "    \n",
    "    for char in text:\n",
    "        doll += char * 3\n",
    "        \n",
    "    return doll"
   ]
  },
  {
   "cell_type": "code",
   "execution_count": 109,
   "metadata": {},
   "outputs": [
    {
     "data": {
      "text/plain": [
       "'HHHeeellllllooo'"
      ]
     },
     "execution_count": 109,
     "metadata": {},
     "output_type": "execute_result"
    }
   ],
   "source": [
    "# Check\n",
    "paper_doll('Hello')"
   ]
  },
  {
   "cell_type": "code",
   "execution_count": 112,
   "metadata": {},
   "outputs": [
    {
     "data": {
      "text/plain": [
       "'MMMiiissssssiiissssssiiippppppiii'"
      ]
     },
     "execution_count": 112,
     "metadata": {},
     "output_type": "execute_result"
    }
   ],
   "source": [
    "# Check\n",
    "paper_doll('Mississippi')"
   ]
  },
  {
   "cell_type": "markdown",
   "metadata": {},
   "source": [
    "#### BLACKJACK: Dados tres número senteros entre 1 y 11, si su suma es menor o igual a 21, retorna su suma. Si su suma excede 21 y hay un 11, reduce la suma total en 10. Finalmente, si la suma (aún después de ajustada excede 21, retorna 'BUST'\n",
    "\n",
    "> ```blackjack(5,6,7) --> 18```\n",
    "\n",
    "> ```blackjack(9,9,9) --> 'BUST'```\n",
    "\n",
    "> ```blackjack(9,9, 11) --> 19```"
   ]
  },
  {
   "cell_type": "code",
   "execution_count": 123,
   "metadata": {},
   "outputs": [],
   "source": [
    "def blackjack(a,b,c):\n",
    "    \n",
    "    result = sum((a,b,c))\n",
    "    \n",
    "    if 11 in  [a,b,c]:\n",
    "        result -= 10\n",
    "    \n",
    "    if result <= 21:\n",
    "        return result\n",
    "    else:\n",
    "        return 'BUST'"
   ]
  },
  {
   "cell_type": "code",
   "execution_count": 124,
   "metadata": {},
   "outputs": [
    {
     "data": {
      "text/plain": [
       "18"
      ]
     },
     "execution_count": 124,
     "metadata": {},
     "output_type": "execute_result"
    }
   ],
   "source": [
    "# Check\n",
    "blackjack(5,6,7)"
   ]
  },
  {
   "cell_type": "code",
   "execution_count": 125,
   "metadata": {},
   "outputs": [
    {
     "data": {
      "text/plain": [
       "'BUST'"
      ]
     },
     "execution_count": 125,
     "metadata": {},
     "output_type": "execute_result"
    }
   ],
   "source": [
    "# Check\n",
    "blackjack(9,9,9)"
   ]
  },
  {
   "cell_type": "code",
   "execution_count": 126,
   "metadata": {},
   "outputs": [
    {
     "data": {
      "text/plain": [
       "19"
      ]
     },
     "execution_count": 126,
     "metadata": {},
     "output_type": "execute_result"
    }
   ],
   "source": [
    "# Check\n",
    "blackjack(9,9,11)"
   ]
  },
  {
   "cell_type": "markdown",
   "metadata": {},
   "source": [
    "#### SUMMER OF '69: retorna la suma the los números en el arreglo, exepto que ignora la ssecciones de números que inician con 6 y extiende hasta el siguiente 9 (cada 6 será seguido por al menos un 0). Retorna 0 si no hay números.\n",
    "\n",
    "> ```summer_69([1,3,5]) --> 9```\n",
    "\n",
    "> ```summer_69([4,5,6,7,8,9]) --> 9```\n",
    "\n",
    "> ```summer_69([2,1,6,9,11]) --> 14```\n"
   ]
  },
  {
   "cell_type": "code",
   "execution_count": 150,
   "metadata": {},
   "outputs": [],
   "source": [
    "def summer_69(arr):\n",
    "    \n",
    "    result = 0\n",
    "    index = 0\n",
    "    support = index\n",
    "    \n",
    "    while index < len(arr):\n",
    "        if arr[index] == 6:\n",
    "            while arr[support] != 9:\n",
    "                support += 1\n",
    "            index = support\n",
    "            \n",
    "        else:\n",
    "            result += arr[index]\n",
    "        \n",
    "        index += 1\n",
    "        support = index\n",
    "    \n",
    "    return result"
   ]
  },
  {
   "cell_type": "code",
   "execution_count": 151,
   "metadata": {},
   "outputs": [
    {
     "data": {
      "text/plain": [
       "9"
      ]
     },
     "execution_count": 151,
     "metadata": {},
     "output_type": "execute_result"
    }
   ],
   "source": [
    "summer_69([1,3,5])"
   ]
  },
  {
   "cell_type": "code",
   "execution_count": 152,
   "metadata": {},
   "outputs": [
    {
     "data": {
      "text/plain": [
       "9"
      ]
     },
     "execution_count": 152,
     "metadata": {},
     "output_type": "execute_result"
    }
   ],
   "source": [
    "summer_69([4,5,6,7,8,9])"
   ]
  },
  {
   "cell_type": "code",
   "execution_count": 153,
   "metadata": {},
   "outputs": [
    {
     "data": {
      "text/plain": [
       "14"
      ]
     },
     "execution_count": 153,
     "metadata": {},
     "output_type": "execute_result"
    }
   ],
   "source": [
    "summer_69([2,1,6,9,11])"
   ]
  },
  {
   "cell_type": "markdown",
   "metadata": {},
   "source": [
    "# PROBLEMAS RETADORES\n",
    "\n",
    "#### JUEGO DEL ESPÍA: Escribe una función que recive una lista de números enteros y retorna Verdadero si contiene 007 en orden.\n",
    "\n",
    "> ```spy_game([1,2,3,0,0,7]) --> True```\n",
    "\n",
    "> ```spy_game([1,0,2,4,0,5,7]) --> True```\n",
    "\n",
    "> ```spy_game([1,7,2,0,4,5,0]) --> False```"
   ]
  },
  {
   "cell_type": "code",
   "execution_count": 157,
   "metadata": {},
   "outputs": [],
   "source": [
    "def spy_game(nums):\n",
    "    i = 0\n",
    "    cero_count = 0\n",
    "    while i < len(nums):\n",
    "        if nums[i] == 0:\n",
    "            cero_index = i\n",
    "            cero_count += 1\n",
    "        elif nums[i] == 7:\n",
    "            seven_index = i\n",
    "        \n",
    "        i += 1\n",
    "    \n",
    "    return(cero_index < seven_index and cero_count >= 2)"
   ]
  },
  {
   "cell_type": "code",
   "execution_count": 161,
   "metadata": {},
   "outputs": [
    {
     "data": {
      "text/plain": [
       "True"
      ]
     },
     "execution_count": 161,
     "metadata": {},
     "output_type": "execute_result"
    }
   ],
   "source": [
    "# Check\n",
    "spy_game([1,2,3,0,0,7])"
   ]
  },
  {
   "cell_type": "code",
   "execution_count": 162,
   "metadata": {},
   "outputs": [
    {
     "data": {
      "text/plain": [
       "True"
      ]
     },
     "execution_count": 162,
     "metadata": {},
     "output_type": "execute_result"
    }
   ],
   "source": [
    "# Check\n",
    "spy_game([1,0,2,4,0,5,7])"
   ]
  },
  {
   "cell_type": "code",
   "execution_count": 163,
   "metadata": {},
   "outputs": [
    {
     "data": {
      "text/plain": [
       "False"
      ]
     },
     "execution_count": 163,
     "metadata": {},
     "output_type": "execute_result"
    }
   ],
   "source": [
    "# Check\n",
    "spy_game([1,7,2,0,4,5,0])"
   ]
  },
  {
   "cell_type": "markdown",
   "metadata": {},
   "source": [
    "#### COUNT PRIMES: Escribe una función que retorne la cantidad de números primos que existen hasta un límite elegído.\n",
    "\n",
    "> ```count_primes(100) --> 25```\n",
    "\n",
    "Por convención, 0 y 1 no son primos."
   ]
  },
  {
   "cell_type": "code",
   "execution_count": 193,
   "metadata": {},
   "outputs": [],
   "source": [
    "def count_primes(num):\n",
    "    \n",
    "    primes = 0\n",
    "    \n",
    "    for number in range(2,num + 1):\n",
    "        is_prime = 0\n",
    "        \n",
    "        for integer in range(1, number+1):\n",
    "            if number % integer == 0:\n",
    "                is_prime += 1\n",
    "\n",
    "        if is_prime == 2:\n",
    "            primes += 1\n",
    "    \n",
    "    return primes"
   ]
  },
  {
   "cell_type": "code",
   "execution_count": 195,
   "metadata": {},
   "outputs": [
    {
     "data": {
      "text/plain": [
       "25"
      ]
     },
     "execution_count": 195,
     "metadata": {},
     "output_type": "execute_result"
    }
   ],
   "source": [
    "# Check\n",
    "count_primes(100)"
   ]
  },
  {
   "cell_type": "markdown",
   "metadata": {},
   "source": [
    "# Sólo por diversión:\n",
    "\n",
    "#### IMPRIMIR EN GRANDE: Escribe una función que toma una letra sencia y retorna una representación de 5x5\n",
    "\n",
    "PISTA: Considera hacer un diccionario con posibles patrones y mapear el alfabeto a convinaciones específicas de 5 lineas.\n",
    "\n",
    "Para propositos de este ejercicio, está bien si tu diccionario termina en \"E\""
   ]
  },
  {
   "cell_type": "code",
   "execution_count": 251,
   "metadata": {},
   "outputs": [],
   "source": [
    "def print_big(letter):\n",
    "    d = {'a':'  *  \\n * * \\n*****\\n*   *\\n*   *',\n",
    "        'b':'**** \\n*   *\\n**** \\n*   *\\n**** ',\n",
    "        'c':' *** \\n*   *\\n*    \\n*   *\\n *** ',\n",
    "        'd':'**** \\n*   *\\n*   *\\n*   *\\n**** ',\n",
    "        'e':'*****\\n*    \\n**** \\n*    \\n*****'}\n",
    "    if letter.lower() in d:\n",
    "        print (d[letter])"
   ]
  },
  {
   "cell_type": "code",
   "execution_count": 252,
   "metadata": {},
   "outputs": [
    {
     "name": "stdout",
     "output_type": "stream",
     "text": [
      "  *  \n",
      " * * \n",
      "*****\n",
      "*   *\n",
      "*   *\n"
     ]
    }
   ],
   "source": [
    "# Check\n",
    "print_big('a')"
   ]
  },
  {
   "cell_type": "code",
   "execution_count": 253,
   "metadata": {},
   "outputs": [
    {
     "name": "stdout",
     "output_type": "stream",
     "text": [
      "**** \n",
      "*   *\n",
      "**** \n",
      "*   *\n",
      "**** \n"
     ]
    }
   ],
   "source": [
    "print_big('b')"
   ]
  },
  {
   "cell_type": "code",
   "execution_count": 254,
   "metadata": {},
   "outputs": [
    {
     "name": "stdout",
     "output_type": "stream",
     "text": [
      " *** \n",
      "*   *\n",
      "*    \n",
      "*   *\n",
      " *** \n"
     ]
    }
   ],
   "source": [
    "print_big('c')"
   ]
  },
  {
   "cell_type": "code",
   "execution_count": 255,
   "metadata": {},
   "outputs": [
    {
     "name": "stdout",
     "output_type": "stream",
     "text": [
      "**** \n",
      "*   *\n",
      "*   *\n",
      "*   *\n",
      "**** \n"
     ]
    }
   ],
   "source": [
    "print_big('d')"
   ]
  },
  {
   "cell_type": "code",
   "execution_count": 250,
   "metadata": {},
   "outputs": [
    {
     "name": "stdout",
     "output_type": "stream",
     "text": [
      "*****\n",
      "*    \n",
      "**** \n",
      "*    \n",
      "*****\n"
     ]
    }
   ],
   "source": [
    "print_big('e')"
   ]
  },
  {
   "cell_type": "markdown",
   "metadata": {},
   "source": [
    "# Buen Trabajo !"
   ]
  }
 ],
 "metadata": {
  "kernelspec": {
   "display_name": "Python 3",
   "language": "python",
   "name": "python3"
  },
  "language_info": {
   "codemirror_mode": {
    "name": "ipython",
    "version": 3
   },
   "file_extension": ".py",
   "mimetype": "text/x-python",
   "name": "python",
   "nbconvert_exporter": "python",
   "pygments_lexer": "ipython3",
   "version": "3.6.4"
  }
 },
 "nbformat": 4,
 "nbformat_minor": 2
}
