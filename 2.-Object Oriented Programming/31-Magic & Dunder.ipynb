{
 "cells": [
  {
   "cell_type": "markdown",
   "metadata": {},
   "source": [
    "# Métodos especiales (Magic/Dunder)\n",
    "\n",
    "Cuando uno crea una clase, existen algunos _métodos especiales_ los cuales son denotados debido a que son aquellos que inician y terminana con dobles guiones bajos. el primero de estos métodos que conocimos fue \\_\\_init()\\_\\_ el cual se llama a si mismo cuando creamos una instancia de una clase.\n",
    "\n",
    "- Ej.-"
   ]
  },
  {
   "cell_type": "code",
   "execution_count": 38,
   "metadata": {},
   "outputs": [],
   "source": [
    "class Muestra():\n",
    "    pass"
   ]
  },
  {
   "cell_type": "markdown",
   "metadata": {},
   "source": [
    "En este caso creamos una clase muestra, ¿qué pasaría si usamos el método _print()_ con un objeto de una clase creada? "
   ]
  },
  {
   "cell_type": "code",
   "execution_count": 39,
   "metadata": {},
   "outputs": [],
   "source": [
    "mimuestra = Muestra()"
   ]
  },
  {
   "cell_type": "code",
   "execution_count": 40,
   "metadata": {},
   "outputs": [
    {
     "name": "stdout",
     "output_type": "stream",
     "text": [
      "<__main__.Muestra object at 0x7fcca061a2b0>\n"
     ]
    }
   ],
   "source": [
    "print(mimuestra)"
   ]
  },
  {
   "cell_type": "markdown",
   "metadata": {},
   "source": [
    "Como podemos ver en este caso nos arroja la información del tipo de objeto y la localización en la memoria. A continuación veremos como funciona esto, para ello probaremos con un objeto de tipo lista."
   ]
  },
  {
   "cell_type": "code",
   "execution_count": 41,
   "metadata": {},
   "outputs": [],
   "source": [
    "milista = [1,2,3]"
   ]
  },
  {
   "cell_type": "code",
   "execution_count": 42,
   "metadata": {},
   "outputs": [
    {
     "name": "stdout",
     "output_type": "stream",
     "text": [
      "[1, 2, 3]\n"
     ]
    }
   ],
   "source": [
    "print(milista)"
   ]
  },
  {
   "cell_type": "code",
   "execution_count": 43,
   "metadata": {},
   "outputs": [
    {
     "data": {
      "text/plain": [
       "'[1, 2, 3]'"
      ]
     },
     "execution_count": 43,
     "metadata": {},
     "output_type": "execute_result"
    }
   ],
   "source": [
    "# Casteamos la lista como string\n",
    "str(milista)"
   ]
  },
  {
   "cell_type": "markdown",
   "metadata": {},
   "source": [
    "Como podemos ver en este caso lo que imprime el método _print()_ es la representación tipo string de la lista. Con un objeto creado por nosotros es lo mismo:"
   ]
  },
  {
   "cell_type": "code",
   "execution_count": 44,
   "metadata": {},
   "outputs": [
    {
     "name": "stdout",
     "output_type": "stream",
     "text": [
      "<__main__.Muestra object at 0x7fcca061a2b0>\n"
     ]
    }
   ],
   "source": [
    "print(mimuestra)"
   ]
  },
  {
   "cell_type": "code",
   "execution_count": 45,
   "metadata": {},
   "outputs": [
    {
     "data": {
      "text/plain": [
       "'<__main__.Muestra object at 0x7fcca061a2b0>'"
      ]
     },
     "execution_count": 45,
     "metadata": {},
     "output_type": "execute_result"
    }
   ],
   "source": [
    "str(mimuestra)"
   ]
  },
  {
   "cell_type": "markdown",
   "metadata": {},
   "source": [
    "Para poder modificar esto, exite un método especial *\\_\\_str\\_\\_* el cual nos permite definir cómo será la representación tipo string de nuestra clase\n",
    "\n",
    "- Ej.-"
   ]
  },
  {
   "cell_type": "code",
   "execution_count": 46,
   "metadata": {},
   "outputs": [],
   "source": [
    "# Clase libro\n",
    "class Libro():\n",
    "    \n",
    "    def __init__(self,titulo,autor,paginas):\n",
    "        self.titulo = titulo\n",
    "        self.autor = autor\n",
    "        self.paginas = paginas\n",
    "    \n",
    "    # Representación tipo string\n",
    "    def __str__(self):\n",
    "        return f'{self.titulo} por {self.autor}'"
   ]
  },
  {
   "cell_type": "code",
   "execution_count": 47,
   "metadata": {},
   "outputs": [],
   "source": [
    "# Instancia de objeto tipo libro\n",
    "milibro = Libro('Harry Potter', 'JK Rowling', 200)"
   ]
  },
  {
   "cell_type": "code",
   "execution_count": 48,
   "metadata": {},
   "outputs": [
    {
     "name": "stdout",
     "output_type": "stream",
     "text": [
      "Harry Potter por JK Rowling\n"
     ]
    }
   ],
   "source": [
    "print(milibro)"
   ]
  },
  {
   "cell_type": "code",
   "execution_count": 49,
   "metadata": {},
   "outputs": [
    {
     "data": {
      "text/plain": [
       "'Harry Potter por JK Rowling'"
      ]
     },
     "execution_count": 49,
     "metadata": {},
     "output_type": "execute_result"
    }
   ],
   "source": [
    "str(milibro)"
   ]
  },
  {
   "cell_type": "markdown",
   "metadata": {},
   "source": [
    "Como podemos ver el método \\_\\_str()\\_\\_ retorna nuestro string con los atributos de nuestro objeto, al utilizar el casteo de string o la función _print()_ se imprime el string que este método retorna.\n",
    "\n",
    "Lo el mismo tipo de error existe por ejemplo para la función _len()_ y de la misma manera existe el método especial *\\_\\_len()\\_\\_* para definir como funcionaría esta función con nuestro objeto. En el caso de nuestra clase libro, podríamos regresar el número de páginas debido a que es la longitud de nuestro libro.\n",
    "\n",
    "- Ej.-"
   ]
  },
  {
   "cell_type": "code",
   "execution_count": 50,
   "metadata": {},
   "outputs": [],
   "source": [
    "# Redefinir clase libro\n",
    "class Libro():\n",
    "    \n",
    "    def __init__(self,titulo,autor,paginas):\n",
    "        self.titulo = titulo\n",
    "        self.autor = autor\n",
    "        self.paginas = paginas\n",
    "    \n",
    "    # Representación tipo string\n",
    "    def __str__(self):\n",
    "        return f'{self.titulo} por {self.autor}'\n",
    "    \n",
    "    # Funcionalidad para len()\n",
    "    def __len__(self):\n",
    "        return self.paginas"
   ]
  },
  {
   "cell_type": "code",
   "execution_count": 51,
   "metadata": {},
   "outputs": [],
   "source": [
    "milibro = Libro('El Señor de los Anillos', 'J.R.R. Tolkien', 1500)"
   ]
  },
  {
   "cell_type": "code",
   "execution_count": 52,
   "metadata": {},
   "outputs": [
    {
     "name": "stdout",
     "output_type": "stream",
     "text": [
      "El Señor de los Anillos por J.R.R. Tolkien\n"
     ]
    }
   ],
   "source": [
    "print(milibro)"
   ]
  },
  {
   "cell_type": "code",
   "execution_count": 53,
   "metadata": {},
   "outputs": [
    {
     "data": {
      "text/plain": [
       "1500"
      ]
     },
     "execution_count": 53,
     "metadata": {},
     "output_type": "execute_result"
    }
   ],
   "source": [
    "len(milibro)"
   ]
  },
  {
   "cell_type": "markdown",
   "metadata": {},
   "source": [
    "Como podemos ver al desarrollar el método \\_\\_len()\\_\\_ nos es posible usar la función len() con nuestros propios objetos.\n",
    "\n",
    "Por último vamos a ver la palabra clave **del** la cual nos sirve para borrar un objeto de la memoria de la computadora.\n",
    "\n",
    "- Ej.-\n",
    "\n",
    "En este caso usamos la función **hex()** y **id()** para obtener la localización en memoria donde se encuentra nuestro objeto libro:"
   ]
  },
  {
   "cell_type": "code",
   "execution_count": 54,
   "metadata": {},
   "outputs": [
    {
     "data": {
      "text/plain": [
       "'0x7fcca061f898'"
      ]
     },
     "execution_count": 54,
     "metadata": {},
     "output_type": "execute_result"
    }
   ],
   "source": [
    "hex(id(milibro))"
   ]
  },
  {
   "cell_type": "code",
   "execution_count": 55,
   "metadata": {},
   "outputs": [],
   "source": [
    "# Borramos el libro\n",
    "\n",
    "del milibro"
   ]
  },
  {
   "cell_type": "code",
   "execution_count": 56,
   "metadata": {},
   "outputs": [
    {
     "ename": "NameError",
     "evalue": "name 'milibro' is not defined",
     "output_type": "error",
     "traceback": [
      "\u001b[0;31m---------------------------------------------------------------------------\u001b[0m",
      "\u001b[0;31mNameError\u001b[0m                                 Traceback (most recent call last)",
      "\u001b[0;32m<ipython-input-56-d3cc5b515700>\u001b[0m in \u001b[0;36m<module>\u001b[0;34m()\u001b[0m\n\u001b[1;32m      1\u001b[0m \u001b[0;31m# Checamos su localizacion de nuevo\u001b[0m\u001b[0;34m\u001b[0m\u001b[0;34m\u001b[0m\u001b[0m\n\u001b[0;32m----> 2\u001b[0;31m \u001b[0mhex\u001b[0m\u001b[0;34m(\u001b[0m\u001b[0mid\u001b[0m\u001b[0;34m(\u001b[0m\u001b[0mmilibro\u001b[0m\u001b[0;34m)\u001b[0m\u001b[0;34m)\u001b[0m\u001b[0;34m\u001b[0m\u001b[0m\n\u001b[0m",
      "\u001b[0;31mNameError\u001b[0m: name 'milibro' is not defined"
     ]
    }
   ],
   "source": [
    "# Checamos su localizacion de nuevo\n",
    "hex(id(milibro))"
   ]
  },
  {
   "cell_type": "markdown",
   "metadata": {},
   "source": [
    "Como podemos ver nos arroja un error y nos dice que 'milibro' no está definido, esto es por que al usar la palabra **del** lo borramos y ya no podemos utilizarlo\n",
    "\n",
    "Al igual que en los otros casos existe un método especial _\\_\\_del()\\_\\__ el cual nos permite hacer algo especial o diferente con la palabra **del**\n",
    "\n",
    "- Ej.-"
   ]
  },
  {
   "cell_type": "code",
   "execution_count": 57,
   "metadata": {},
   "outputs": [],
   "source": [
    "# Redefinir clase libro\n",
    "class Libro():\n",
    "    \n",
    "    def __init__(self,titulo,autor,paginas):\n",
    "        self.titulo = titulo\n",
    "        self.autor = autor\n",
    "        self.paginas = paginas\n",
    "    \n",
    "    # Representación tipo string\n",
    "    def __str__(self):\n",
    "        return f'{self.titulo} por {self.autor}'\n",
    "    \n",
    "    # Funcionalidad para len()\n",
    "    def __len__(self):\n",
    "        return self.paginas\n",
    "    \n",
    "    # Funcionalidad del\n",
    "    def __del__(self):\n",
    "        print('Libro borrado')"
   ]
  },
  {
   "cell_type": "code",
   "execution_count": 58,
   "metadata": {},
   "outputs": [],
   "source": [
    "milibro = Libro('La Neblina', 'Stephen King', 300)"
   ]
  },
  {
   "cell_type": "code",
   "execution_count": 59,
   "metadata": {},
   "outputs": [
    {
     "name": "stdout",
     "output_type": "stream",
     "text": [
      "La Neblina por Stephen King\n"
     ]
    }
   ],
   "source": [
    "print(milibro)"
   ]
  },
  {
   "cell_type": "code",
   "execution_count": 60,
   "metadata": {},
   "outputs": [
    {
     "name": "stdout",
     "output_type": "stream",
     "text": [
      "Libro borrado\n"
     ]
    }
   ],
   "source": [
    "del milibro"
   ]
  },
  {
   "cell_type": "code",
   "execution_count": 61,
   "metadata": {},
   "outputs": [
    {
     "ename": "NameError",
     "evalue": "name 'milibro' is not defined",
     "output_type": "error",
     "traceback": [
      "\u001b[0;31m---------------------------------------------------------------------------\u001b[0m",
      "\u001b[0;31mNameError\u001b[0m                                 Traceback (most recent call last)",
      "\u001b[0;32m<ipython-input-61-3fa9eefe5627>\u001b[0m in \u001b[0;36m<module>\u001b[0;34m()\u001b[0m\n\u001b[0;32m----> 1\u001b[0;31m \u001b[0mlen\u001b[0m\u001b[0;34m(\u001b[0m\u001b[0mmilibro\u001b[0m\u001b[0;34m)\u001b[0m\u001b[0;34m\u001b[0m\u001b[0m\n\u001b[0m",
      "\u001b[0;31mNameError\u001b[0m: name 'milibro' is not defined"
     ]
    }
   ],
   "source": [
    "len(milibro)"
   ]
  },
  {
   "cell_type": "markdown",
   "metadata": {},
   "source": [
    "Como vemos, en este caso se imprimió el mensaje especial y nuestro objeto se borró de la memoria."
   ]
  }
 ],
 "metadata": {
  "kernelspec": {
   "display_name": "Python 3",
   "language": "python",
   "name": "python3"
  },
  "language_info": {
   "codemirror_mode": {
    "name": "ipython",
    "version": 3
   },
   "file_extension": ".py",
   "mimetype": "text/x-python",
   "name": "python",
   "nbconvert_exporter": "python",
   "pygments_lexer": "ipython3",
   "version": "3.6.4"
  }
 },
 "nbformat": 4,
 "nbformat_minor": 2
}
