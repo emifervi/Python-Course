{
 "cells": [
  {
   "cell_type": "markdown",
   "metadata": {},
   "source": [
    "# Manejo de Errores y Excepciones\n",
    "\n",
    "Los errores son algo que eventualmente va a suceder con nuestros programas, especialmente cuando alguien lo usa de una manera inesperada, en un intento de preveer estas situaciones podemos utilizar manejo de errores para posibles futuros errores.\n",
    "\n",
    "Una de las ventajas de usar esta técnica es que a diferencia de la situación actual en la que nuestro script de Python dejaría de funcionar en cuanto se encuentre con un error, ahora podríamos hacer que el programa se ejecute aún cuando el error haya sucedido.\n",
    "\n",
    "Al igual que la mayoría de las cosas que hemos hecho previamente, esta técnica tiene tres palabras clave:\n",
    "\n",
    "- **try**: Aquí va el bloque de código que se va a ejecutar y puede llevar al error\n",
    "\n",
    "- **except**: Aquí va el bloque de código que se va a ejecutar si hay un error en el bloque **try**\n",
    "\n",
    "- **finally**: Este es el bloque de código final que será ejecutado haya o no un error.\n",
    "\n",
    "\n",
    "- Ej.-"
   ]
  },
  {
   "cell_type": "code",
   "execution_count": 1,
   "metadata": {},
   "outputs": [],
   "source": [
    "# Suma dos números provistos\n",
    "def add(n1,n2):\n",
    "    \n",
    "    return n1 + n2"
   ]
  },
  {
   "cell_type": "code",
   "execution_count": 2,
   "metadata": {},
   "outputs": [
    {
     "data": {
      "text/plain": [
       "30"
      ]
     },
     "execution_count": 2,
     "metadata": {},
     "output_type": "execute_result"
    }
   ],
   "source": [
    "# Prueba de función\n",
    "add(10,20)"
   ]
  },
  {
   "cell_type": "code",
   "execution_count": 3,
   "metadata": {},
   "outputs": [],
   "source": [
    "# Definimos una variable\n",
    "number1 = 10"
   ]
  },
  {
   "cell_type": "code",
   "execution_count": 4,
   "metadata": {},
   "outputs": [
    {
     "name": "stdout",
     "output_type": "stream",
     "text": [
      "Please provide a number: \n"
     ]
    }
   ],
   "source": [
    "# Otra variable vamos a recibir valor por el usuario\n",
    "number2 = input('Please provide a number: ') # Nota: Recordar que input() recibe todo como string"
   ]
  },
  {
   "cell_type": "code",
   "execution_count": 5,
   "metadata": {},
   "outputs": [
    {
     "ename": "TypeError",
     "evalue": "unsupported operand type(s) for +: 'int' and 'str'",
     "output_type": "error",
     "traceback": [
      "\u001b[0;31m---------------------------------------------------------------------------\u001b[0m",
      "\u001b[0;31mTypeError\u001b[0m                                 Traceback (most recent call last)",
      "\u001b[0;32m<ipython-input-5-52653f8634d9>\u001b[0m in \u001b[0;36m<module>\u001b[0;34m()\u001b[0m\n\u001b[1;32m      1\u001b[0m \u001b[0;31m# Probamos la función con una variable integer y un string y da error por que no puede sumar un int y str\u001b[0m\u001b[0;34m\u001b[0m\u001b[0;34m\u001b[0m\u001b[0m\n\u001b[0;32m----> 2\u001b[0;31m \u001b[0madd\u001b[0m\u001b[0;34m(\u001b[0m\u001b[0mnumber1\u001b[0m\u001b[0;34m,\u001b[0m \u001b[0mnumber2\u001b[0m\u001b[0;34m)\u001b[0m\u001b[0;34m\u001b[0m\u001b[0m\n\u001b[0m\u001b[1;32m      3\u001b[0m \u001b[0mprint\u001b[0m\u001b[0;34m(\u001b[0m\u001b[0;34m'Por error no sucedo'\u001b[0m\u001b[0;34m)\u001b[0m\u001b[0;34m\u001b[0m\u001b[0m\n",
      "\u001b[0;32m<ipython-input-1-15ba81ba67f9>\u001b[0m in \u001b[0;36madd\u001b[0;34m(n1, n2)\u001b[0m\n\u001b[1;32m      2\u001b[0m \u001b[0;32mdef\u001b[0m \u001b[0madd\u001b[0m\u001b[0;34m(\u001b[0m\u001b[0mn1\u001b[0m\u001b[0;34m,\u001b[0m\u001b[0mn2\u001b[0m\u001b[0;34m)\u001b[0m\u001b[0;34m:\u001b[0m\u001b[0;34m\u001b[0m\u001b[0m\n\u001b[1;32m      3\u001b[0m \u001b[0;34m\u001b[0m\u001b[0m\n\u001b[0;32m----> 4\u001b[0;31m     \u001b[0;32mreturn\u001b[0m \u001b[0mn1\u001b[0m \u001b[0;34m+\u001b[0m \u001b[0mn2\u001b[0m\u001b[0;34m\u001b[0m\u001b[0m\n\u001b[0m",
      "\u001b[0;31mTypeError\u001b[0m: unsupported operand type(s) for +: 'int' and 'str'"
     ]
    }
   ],
   "source": [
    "# Probamos la función con una variable integer y un string y da error por que no puede sumar un int y str\n",
    "add(number1, number2)\n",
    "print('Por error no sucedo')"
   ]
  },
  {
   "cell_type": "markdown",
   "metadata": {},
   "source": [
    "Como podemos ver la función print() no se ejecuta debido a que esta sucede después del error con el cual nos encontramos, Si nosotros implementasemos manejo de errores, sería posible ejecutar el código aún con el error sucediendo.\n",
    "\n",
    "- Ej.-"
   ]
  },
  {
   "cell_type": "code",
   "execution_count": 6,
   "metadata": {},
   "outputs": [
    {
     "name": "stdout",
     "output_type": "stream",
     "text": [
      "add funcionó de manera correcta\n",
      "20\n"
     ]
    }
   ],
   "source": [
    "try:\n",
    "    # Bloque a intentar, pero puede tener un error\n",
    "    result  = 10 + 10\n",
    "\n",
    "except:\n",
    "    # Si hay un error se ejecuta este bloque de código\n",
    "    print('Hey, parece que no estás sumando de manera correcta')\n",
    "    \n",
    "else:\n",
    "    # Si no hay error se ejecuta este bloque de código\n",
    "    print('add funcionó de manera correcta')\n",
    "    print(result)"
   ]
  },
  {
   "cell_type": "code",
   "execution_count": 7,
   "metadata": {},
   "outputs": [
    {
     "data": {
      "text/plain": [
       "20"
      ]
     },
     "execution_count": 7,
     "metadata": {},
     "output_type": "execute_result"
    }
   ],
   "source": [
    "result"
   ]
  },
  {
   "cell_type": "markdown",
   "metadata": {},
   "source": [
    "## Ejemplo Try, Except, Finally\n",
    "\n",
    "En este ejemplo trabajaremos con archivos, veremos como es posible usar la sintáxis:\n",
    "\n",
    "> ### except ErrorEspecifico:\n",
    "\n",
    "Para buscar por tipos de errores específicos, los distintos tipos de errores los podemos buscar en la documentación de Python."
   ]
  },
  {
   "cell_type": "code",
   "execution_count": 8,
   "metadata": {},
   "outputs": [
    {
     "name": "stdout",
     "output_type": "stream",
     "text": [
      "Yo siempre funciono\n"
     ]
    }
   ],
   "source": [
    "try:\n",
    "    f = open('testfile', 'w')\n",
    "    f.write('Escribir lina de prueba')\n",
    "\n",
    "except TypeError: # Error de tipo\n",
    "    print('Hubo un error de tipo')\n",
    "\n",
    "except OSError: # Error por mal manejo de archivos\n",
    "    print('Hey, tienes un error de OS')\n",
    "    \n",
    "finally:\n",
    "    # Bloque de código que se ejecuta haya o no error\n",
    "    print('Yo siempre funciono')"
   ]
  },
  {
   "cell_type": "markdown",
   "metadata": {},
   "source": [
    "En esta primera prueba lo que sucede es que se abre el archivo de prueba con permitos de escritura (w), se escribe la linea de prueba y por ende no sucede ningún error. Nuestro bloque _finally_ siempre se ejecuta haya o no un error por eso se hace el print.\n",
    "\n",
    "Ahora veamos lo que pasa si se abre nada más con premisos de lectura (r)."
   ]
  },
  {
   "cell_type": "code",
   "execution_count": 9,
   "metadata": {},
   "outputs": [
    {
     "name": "stdout",
     "output_type": "stream",
     "text": [
      "Hey, tienes un error de OS\n",
      "Yo siempre funciono\n"
     ]
    }
   ],
   "source": [
    "try:\n",
    "    f = open('testfile', 'r')\n",
    "    f.write('Escribir lina de prueba')\n",
    "\n",
    "except TypeError: # Error de tipo\n",
    "    print('Hubo un error de tipo')\n",
    "\n",
    "except OSError: # Error por mal manejo de archivos\n",
    "    print('Hey, tienes un error de OS')\n",
    "    \n",
    "finally:\n",
    "    # Bloque de código que se ejecuta haya o no error\n",
    "    print('Yo siempre funciono')"
   ]
  },
  {
   "cell_type": "markdown",
   "metadata": {},
   "source": [
    "Como podemos ver ahora nos arroja el mensaje del error de OS, debido a que se intentó escribir algo en un archivo que sólo se abrió para leer. Vale la pena hacer notar que como podemos ver en este ejemplo es posible alinear varios _except_ para poder imprimir mensajes específicos para cada error. Sin embargo, en el caso de poner un _except_ sin tipo de error posterior, sería un mensaje para cualquier otra excepción no espcificada.\n",
    "\n",
    "- Ej.-"
   ]
  },
  {
   "cell_type": "code",
   "execution_count": 10,
   "metadata": {},
   "outputs": [
    {
     "name": "stdout",
     "output_type": "stream",
     "text": [
      "Hey, tienes algún tipo de error\n",
      "Yo siempre funciono\n"
     ]
    }
   ],
   "source": [
    "try:\n",
    "    f = open('testfile', 'r')\n",
    "    f.write('Escribir lina de prueba')\n",
    "\n",
    "except TypeError: # Error de tipo\n",
    "    print('Hubo un error de tipo')\n",
    "\n",
    "except: # Error general\n",
    "    print('Hey, tienes algún tipo de error')\n",
    "    \n",
    "finally:\n",
    "    # Bloque de código que se ejecuta haya o no error\n",
    "    print('Yo siempre funciono')"
   ]
  },
  {
   "cell_type": "markdown",
   "metadata": {},
   "source": [
    "Este código es el mismo de la celda pasada, no obstante se removió el _OSError_ para dejarlo de forma general y probar lo dicho previamente.\n",
    "\n",
    "Ahora veremos como usar este tipo de formato para los momentos en los que queremos recibir un tipo de dato específico de un usuario (por ejemplo pedimos un texto y nos dan un valor numérico)."
   ]
  },
  {
   "cell_type": "code",
   "execution_count": 11,
   "metadata": {},
   "outputs": [],
   "source": [
    "def get_int():\n",
    "    try:\n",
    "        result = int(input('Favor de proveer un número: '))\n",
    "    \n",
    "    except:\n",
    "        print('Whoops! Ese no es un numero')\n",
    "    \n",
    "    finally:\n",
    "        print('Fin de try/except/ finally')"
   ]
  },
  {
   "cell_type": "code",
   "execution_count": 13,
   "metadata": {},
   "outputs": [
    {
     "name": "stdout",
     "output_type": "stream",
     "text": [
      "Favor de proveer un número: 20\n",
      "Fin de try/except/ finally\n"
     ]
    }
   ],
   "source": [
    "get_int() # Caso correcto"
   ]
  },
  {
   "cell_type": "code",
   "execution_count": 14,
   "metadata": {},
   "outputs": [
    {
     "name": "stdout",
     "output_type": "stream",
     "text": [
      "Favor de proveer un número: emilio\n",
      "Whoops! Ese no es un numero\n",
      "Fin de try/except/ finally\n"
     ]
    }
   ],
   "source": [
    "get_int() # Caso de error"
   ]
  },
  {
   "cell_type": "code",
   "execution_count": 16,
   "metadata": {},
   "outputs": [],
   "source": [
    "def get_int():\n",
    "    \n",
    "    while True:\n",
    "        try:\n",
    "            result = int(input('Favor de introducir un número: '))\n",
    "        \n",
    "        except:\n",
    "            print('Error, ese no es un número')\n",
    "            continue\n",
    "        \n",
    "        else:\n",
    "            print('Gracias')\n",
    "            break\n",
    "        \n",
    "        finally:\n",
    "            print('Fin de try/except/finally \\n')"
   ]
  },
  {
   "cell_type": "code",
   "execution_count": 17,
   "metadata": {},
   "outputs": [
    {
     "name": "stdout",
     "output_type": "stream",
     "text": [
      "Favor de introducir un número: 20\n",
      "Gracias\n",
      "Fin de try/except/finally \n",
      "\n"
     ]
    }
   ],
   "source": [
    "get_int()"
   ]
  },
  {
   "cell_type": "code",
   "execution_count": 18,
   "metadata": {},
   "outputs": [
    {
     "name": "stdout",
     "output_type": "stream",
     "text": [
      "Favor de introducir un número: q\n",
      "Error, ese no es un número\n",
      "Fin de try/except/finally \n",
      "\n",
      "Favor de introducir un número: Emilio\n",
      "Error, ese no es un número\n",
      "Fin de try/except/finally \n",
      "\n",
      "Favor de introducir un número: 15\n",
      "Gracias\n",
      "Fin de try/except/finally \n",
      "\n"
     ]
    }
   ],
   "source": [
    "get_int()"
   ]
  },
  {
   "cell_type": "markdown",
   "metadata": {},
   "source": [
    "Como podemos ver en esta última implementación, el _while_ loop que tenemos dentro de la función, continúa pidiendo un input, hasta que éste sea numérico, cuando no lo es imprime el error y vuelve a pedir input, cuando sí lo es imprime un mensaje de gracias y rompe el ciclo.\n",
    "\n",
    "Por último el bloque _finally_ siempre se ejecuta."
   ]
  }
 ],
 "metadata": {
  "kernelspec": {
   "display_name": "Python 3",
   "language": "python",
   "name": "python3"
  },
  "language_info": {
   "codemirror_mode": {
    "name": "ipython",
    "version": 3
   },
   "file_extension": ".py",
   "mimetype": "text/x-python",
   "name": "python",
   "nbconvert_exporter": "python",
   "pygments_lexer": "ipython3",
   "version": "3.6.4"
  }
 },
 "nbformat": 4,
 "nbformat_minor": 2
}
