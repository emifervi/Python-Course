{
 "cells": [
  {
   "cell_type": "markdown",
   "metadata": {},
   "source": [
    "# Tarea de Errores y Excepciones\n",
    "\n",
    "### Problema 1\n",
    "\n",
    "Maneja la excepción lanzada por el código debajo usando bloques de ```try``` y ```except``` "
   ]
  },
  {
   "cell_type": "code",
   "execution_count": 3,
   "metadata": {},
   "outputs": [
    {
     "name": "stdout",
     "output_type": "stream",
     "text": [
      "El tipo de dato no puede usarse en una operación\n"
     ]
    }
   ],
   "source": [
    "try:\n",
    "    for i in ['a','b','c']:\n",
    "        print (i ** 2)\n",
    "\n",
    "except:\n",
    "    print('El tipo de dato no puede usarse en una operación')"
   ]
  },
  {
   "cell_type": "markdown",
   "metadata": {},
   "source": [
    "### Problema 2\n",
    "\n",
    "Maneja la excepción que arroja el código debajo usando bloques ```try``` y ```except```. Después usa un bloque ```finally``` para imprimir 'Todo Hecho.'"
   ]
  },
  {
   "cell_type": "code",
   "execution_count": 4,
   "metadata": {},
   "outputs": [
    {
     "name": "stdout",
     "output_type": "stream",
     "text": [
      "Divisor es 0\n",
      "All Done\n"
     ]
    }
   ],
   "source": [
    "x = 5\n",
    "y = 0\n",
    "\n",
    "try:\n",
    "    z = x/y\n",
    "\n",
    "except:\n",
    "    print('Divisor es 0')\n",
    "\n",
    "finally:\n",
    "    print('All Done')"
   ]
  },
  {
   "cell_type": "markdown",
   "metadata": {},
   "source": [
    "### Problema 3\n",
    "\n",
    "Escribe una función que le pida al usuario un integro e imprima el cuadrado del mismo. Usa un ```while``` loop con bloques ```try, except, else``` para tomar encuenta los input incorrectos."
   ]
  },
  {
   "cell_type": "code",
   "execution_count": 5,
   "metadata": {},
   "outputs": [],
   "source": [
    "def ask():\n",
    "    while True:\n",
    "        try:\n",
    "            result = int(input('Favor de introducir un número entero: '))\n",
    "        \n",
    "        except:\n",
    "            print('Valor inválido favor de volver a intentar\\n')\n",
    "            continue\n",
    "            \n",
    "        else:\n",
    "            print(f'Resultado: {result ** 2}')\n",
    "            break"
   ]
  },
  {
   "cell_type": "code",
   "execution_count": 6,
   "metadata": {},
   "outputs": [
    {
     "name": "stdout",
     "output_type": "stream",
     "text": [
      "Favor de introducir un número entero: p\n",
      "Valor inválido favor de volver a intentar\n",
      "\n",
      "Favor de introducir un número entero: 2\n",
      "Resultado: 4\n"
     ]
    }
   ],
   "source": [
    "ask()"
   ]
  },
  {
   "cell_type": "markdown",
   "metadata": {},
   "source": [
    "# Buen Trabajo!"
   ]
  }
 ],
 "metadata": {
  "kernelspec": {
   "display_name": "Python 3",
   "language": "python",
   "name": "python3"
  },
  "language_info": {
   "codemirror_mode": {
    "name": "ipython",
    "version": 3
   },
   "file_extension": ".py",
   "mimetype": "text/x-python",
   "name": "python",
   "nbconvert_exporter": "python",
   "pygments_lexer": "ipython3",
   "version": "3.6.4"
  }
 },
 "nbformat": 4,
 "nbformat_minor": 2
}
