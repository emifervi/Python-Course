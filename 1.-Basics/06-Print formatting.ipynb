{
 "cells": [
  {
   "cell_type": "markdown",
   "metadata": {},
   "source": [
    "# Print formatting\n",
    "\n",
    "A la hora de imprimir con la función _print()_ existen varias maneras en las que podemos hacer las cosas, por ejemplo apoyandonos en concatenación de strings que se vió en la lección pasada. \n",
    "\n",
    "Sin embargo, idealmente eso no es lo que quiseramos hacer debido a los problemas que se pudiesen presentar con base en los tipos de datos utilizados.\n",
    "\n",
    "Para esto tenemos otras opciones, una de ellas es usar la función _.format()_ la cual tiene un sintaxis de formato:\n",
    "\n",
    "### \"Algo {} y también\".format(\"cosa1\", \"cosa2\")\n",
    "\n",
    "- Ej.-"
   ]
  },
  {
   "cell_type": "code",
   "execution_count": 1,
   "metadata": {},
   "outputs": [
    {
     "name": "stdout",
     "output_type": "stream",
     "text": [
      "Esto es un string INSERTADO\n"
     ]
    }
   ],
   "source": [
    "print(\"Esto es un string {}\".format(\"INSERTADO\"))"
   ]
  },
  {
   "cell_type": "markdown",
   "metadata": {},
   "source": [
    "Podemos ver como la palabra _INSERTADO_ tomó el lugar de los _{}_ en el string que nos encontrabamos imprimiendo\n",
    "\n",
    "Otra posibilidad que tenemos a la hora de insertar strings en nuestro print es que podemos colocar varias en la lista y que se inserten en sus respectivas posiciones."
   ]
  },
  {
   "cell_type": "code",
   "execution_count": 3,
   "metadata": {},
   "outputs": [
    {
     "name": "stdout",
     "output_type": "stream",
     "text": [
      "El rápido café y zorro\n"
     ]
    }
   ],
   "source": [
    "print(\"El {} {} y {}\".format(\"rápido\", \"café\", \"zorro\" ))"
   ]
  },
  {
   "cell_type": "markdown",
   "metadata": {},
   "source": [
    "Por ejemplo en este caso el orden de la lista no nos ayuda a construir una oración con sentido, por lo que podemos apoyarnos en el índice (posición) de las palabras en la lista del _format()_ para especificar en qué lugar va cada una.\n",
    "\n",
    "- Ej.-"
   ]
  },
  {
   "cell_type": "code",
   "execution_count": 7,
   "metadata": {},
   "outputs": [
    {
     "name": "stdout",
     "output_type": "stream",
     "text": [
      "El zorro rápido y café\n"
     ]
    }
   ],
   "source": [
    "print(\"El {2} {0} y {1}\".format(\"rápido\", \"café\", \"zorro\"))"
   ]
  },
  {
   "cell_type": "markdown",
   "metadata": {},
   "source": [
    "Este tipo de referencia es útil pero algo confusa debido a que sólo nos apoyamos en el número de posición en el que se encuentran las palabras, pero podemos hacer un truco para que este texto sea más leible de manera natural asignandoles variables de apoyo a las palabras y pasandolas como _argumento_ dentro de los _{}_"
   ]
  },
  {
   "cell_type": "code",
   "execution_count": 8,
   "metadata": {},
   "outputs": [
    {
     "name": "stdout",
     "output_type": "stream",
     "text": [
      "El zorro rápido y café\n"
     ]
    }
   ],
   "source": [
    "print(\"El {z} {r} y {c}\".format(r = \"rápido\", c = \"café\", z = \"zorro\"))"
   ]
  },
  {
   "cell_type": "markdown",
   "metadata": {},
   "source": [
    "## Formato para punto flotante\n",
    "\n",
    "En el caso de que fuesemos a imprimir números de punto flotante, es posible para nosotros ajustar el espaciado entre los números, así como la precisión (número de decimales que vamos a utilizar) con la que queremos imprimir nuestro número con la sintaxis:\n",
    "\n",
    "> ### \"{valor:espaciado.precision f}\"\n",
    "\n",
    "- Ej.-"
   ]
  },
  {
   "cell_type": "code",
   "execution_count": 9,
   "metadata": {},
   "outputs": [],
   "source": [
    "resultado = 100/777"
   ]
  },
  {
   "cell_type": "code",
   "execution_count": 10,
   "metadata": {},
   "outputs": [
    {
     "data": {
      "text/plain": [
       "0.1287001287001287"
      ]
     },
     "execution_count": 10,
     "metadata": {},
     "output_type": "execute_result"
    }
   ],
   "source": [
    "resultado"
   ]
  },
  {
   "cell_type": "markdown",
   "metadata": {},
   "source": [
    "Esto imprimiría nuestro resultado sin ningún ajuste a su espaciado o precisión"
   ]
  },
  {
   "cell_type": "code",
   "execution_count": 12,
   "metadata": {},
   "outputs": [
    {
     "name": "stdout",
     "output_type": "stream",
     "text": [
      "El resultado fue: 0.1287001287001287\n"
     ]
    }
   ],
   "source": [
    "print(\"El resultado fue: {}\".format(resultado))"
   ]
  },
  {
   "cell_type": "markdown",
   "metadata": {},
   "source": [
    "Pero si quiseramos por ejemplo que tuviera nada más 3 decimales de precisión haríamos lo siguiente."
   ]
  },
  {
   "cell_type": "code",
   "execution_count": 23,
   "metadata": {},
   "outputs": [
    {
     "name": "stdout",
     "output_type": "stream",
     "text": [
      "El resultado fue: 0.129\n"
     ]
    }
   ],
   "source": [
    "#Nota: la sintaxis en las notas de arriba muestra la f por separado \n",
    "#Sin embargo, en el codigo es necesario no poner espacio\n",
    "print(\"El resultado fue: {r:1.3f}\".format(r = resultado))"
   ]
  },
  {
   "cell_type": "markdown",
   "metadata": {},
   "source": [
    "Como podemos ver en la linea superior, la función instantaneamente redondea los decimales a las cifras significativas deseadas.\n",
    "\n",
    "Por otro lado el valor del espaciado simplemente agrega algo de espacio en blanco antes del valor a imprimir como lo podemos ver debajo"
   ]
  },
  {
   "cell_type": "code",
   "execution_count": 25,
   "metadata": {},
   "outputs": [
    {
     "name": "stdout",
     "output_type": "stream",
     "text": [
      "El resultado fue:     0.1287\n"
     ]
    }
   ],
   "source": [
    "print(\"El resultado fue: {r:10.4f}\".format(r = resultado))"
   ]
  },
  {
   "cell_type": "markdown",
   "metadata": {},
   "source": [
    "# Formato de String Literals\n",
    "\n",
    "Así como tenemos la opción de usar _.format()_ para insertar variables en los espacios donde colocamos los _{}_, a partir de Python 3.6 se incluyó la opción de usar _Formatted String Literals_ que resulta más nativo para gente que viene de otros lenguajes.\n",
    "\n",
    "Este formato usa la siguiente sintaxis:\n",
    "\n",
    "> # print(f'Texto {variable')\n",
    "\n",
    "- Ej.-"
   ]
  },
  {
   "cell_type": "code",
   "execution_count": 26,
   "metadata": {},
   "outputs": [],
   "source": [
    "nombre = \"José\""
   ]
  },
  {
   "cell_type": "code",
   "execution_count": 28,
   "metadata": {},
   "outputs": [
    {
     "name": "stdout",
     "output_type": "stream",
     "text": [
      "Hola José\n"
     ]
    }
   ],
   "source": [
    "print(f'Hola {nombre}')"
   ]
  },
  {
   "cell_type": "markdown",
   "metadata": {},
   "source": [
    "Al igual que con el formato pasado, podemos utilizar multiples variables al mismo tiempo en nuestras strings.\n",
    "\n",
    "- Ej.-"
   ]
  },
  {
   "cell_type": "code",
   "execution_count": 29,
   "metadata": {},
   "outputs": [],
   "source": [
    "edad = 32"
   ]
  },
  {
   "cell_type": "code",
   "execution_count": 31,
   "metadata": {},
   "outputs": [
    {
     "name": "stdout",
     "output_type": "stream",
     "text": [
      "José tiene 32 años\n"
     ]
    }
   ],
   "source": [
    "print(f'{nombre} tiene {edad} años')"
   ]
  },
  {
   "cell_type": "markdown",
   "metadata": {},
   "source": [
    "Por último, tambien es posible utilizar el formato para precisión y espaciado para imprimir numeros de punto flotante."
   ]
  },
  {
   "cell_type": "code",
   "execution_count": 32,
   "metadata": {},
   "outputs": [
    {
     "name": "stdout",
     "output_type": "stream",
     "text": [
      "Resultado: 0.1287\n"
     ]
    }
   ],
   "source": [
    "print(f'Resultado: {resultado:1.4f}')"
   ]
  }
 ],
 "metadata": {
  "kernelspec": {
   "display_name": "Python 3",
   "language": "python",
   "name": "python3"
  },
  "language_info": {
   "codemirror_mode": {
    "name": "ipython",
    "version": 3
   },
   "file_extension": ".py",
   "mimetype": "text/x-python",
   "name": "python",
   "nbconvert_exporter": "python",
   "pygments_lexer": "ipython3",
   "version": "3.6.4"
  }
 },
 "nbformat": 4,
 "nbformat_minor": 2
}
