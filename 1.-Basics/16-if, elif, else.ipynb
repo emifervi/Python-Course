{
 "cells": [
  {
   "cell_type": "markdown",
   "metadata": {},
   "source": [
    "# Control de flujo\n",
    "\n",
    "En esta lección veremos como manejar el flujo de un programa para eso nos apoyaremos en el uso de condicionales para las cuales usaremos las siguientes _keywords_:\n",
    "\n",
    "> - if\n",
    "> - elif\n",
    "> - else\n",
    "\n",
    "Éstas nos permitirán escribir código que sólo se ejecutara si se cumple con una condición. Es necesario hacer notar que en Python, estas condicionales sintacticamente hablando funcionan con base en el espacio (indentación), esto le dice al progama qué forma parte de la condicional y qué es código fuera de la misma.\n",
    "\n",
    "## Sintaxis:\n",
    "\n",
    "> ### if _una condición:_\n",
    "> > ### **ejecuta codigo**\n",
    "\n",
    "En el caso de que tengamos una especie de bifurcación (supongamos que en caso de que nuestra condición no suceda querramos que se ejecute un código diferente) podemos usar un _if/else_:\n",
    "> ### if _una condición:_\n",
    "> > ### ** ejecuta código**\n",
    "\n",
    "> ### else:\n",
    "> > ### **ejecuta algo diferente**\n",
    "\n",
    "Por último si quisiesemos checar múltiples condiciones podemos usar los _elif_ entre el _if_ y el _else_:\n",
    "\n",
    "> ### if _una condición:_\n",
    "> > ### ** ejecuta código**\n",
    "\n",
    "\n",
    "> ### elif _otra condicion:_\n",
    "> > ### ** ejecuta codigo diferente**\n",
    "\n",
    "> ### else:\n",
    "> > ### **ejecuta algo diferente**"
   ]
  },
  {
   "cell_type": "code",
   "execution_count": 3,
   "metadata": {},
   "outputs": [
    {
     "name": "stdout",
     "output_type": "stream",
     "text": [
      "Alimentame\n"
     ]
    }
   ],
   "source": [
    "hambre = True\n",
    "\n",
    "if hambre:\n",
    "    print('Alimentame')"
   ]
  },
  {
   "cell_type": "code",
   "execution_count": 4,
   "metadata": {},
   "outputs": [],
   "source": [
    "hambre = False\n",
    "\n",
    "if hambre:\n",
    "    print('Alimentame')"
   ]
  },
  {
   "cell_type": "markdown",
   "metadata": {},
   "source": [
    "Como podemos ver en el segundo caso la condicional es falsa y por ende no se imprime el mensaje. Para ello podemos hacer lo siguiente."
   ]
  },
  {
   "cell_type": "code",
   "execution_count": 6,
   "metadata": {},
   "outputs": [
    {
     "name": "stdout",
     "output_type": "stream",
     "text": [
      "Ahorita no tengo hambre\n"
     ]
    }
   ],
   "source": [
    "hambre = False\n",
    "\n",
    "if hambre:\n",
    "    print('Alimentame')\n",
    "else:\n",
    "    print('Ahorita no tengo hambre')"
   ]
  },
  {
   "cell_type": "markdown",
   "metadata": {},
   "source": [
    "Vemos como al haber un código a ejecutar en caso de que no se cumpla la condición se imprime el segundo mensaje.\n",
    "\n",
    "Ahora veremos un caso diferente en el que nuestra variable no es de tipo booleano."
   ]
  },
  {
   "cell_type": "code",
   "execution_count": 8,
   "metadata": {},
   "outputs": [
    {
     "name": "stdout",
     "output_type": "stream",
     "text": [
      "Payday !\n"
     ]
    }
   ],
   "source": [
    "localizacion = 'Banco'\n",
    "\n",
    "if localizacion == 'Autozone':\n",
    "    print('Los carros son cool!')\n",
    "elif localizacion == 'Escuela':\n",
    "    print('Estoy estudiando mucho')\n",
    "elif localizacion == 'Banco':\n",
    "    print('Payday !')\n",
    "else:\n",
    "    print('Estoy perdido')"
   ]
  },
  {
   "cell_type": "markdown",
   "metadata": {},
   "source": [
    "Como podemos ver nos podemos apoyar en los comparadores previamente vistos para poder hacer nuestras condicionales."
   ]
  },
  {
   "cell_type": "code",
   "execution_count": 10,
   "metadata": {},
   "outputs": [
    {
     "name": "stdout",
     "output_type": "stream",
     "text": [
      "¿Cómo te llamas?\n"
     ]
    }
   ],
   "source": [
    "name = 'Emilio'\n",
    "\n",
    "if name == 'Roberto':\n",
    "    print('Hola Roberto')\n",
    "elif name == 'Bob':\n",
    "    print ('Hola Bob')\n",
    "else:\n",
    "    print ('¿Cómo te llamas?')"
   ]
  },
  {
   "cell_type": "markdown",
   "metadata": {},
   "source": [
    "Hay que prestar atención a como los _if_, _elif_ y _else_ están todos alineados y el código que le corresponde a cada uno se encuentra intentado por debajo de la respectiva condicional.\n",
    "\n",
    "Si nosotros pusieramos un _elif_ indentado debajo del _if_, sería una condicional anidada adentro de otra."
   ]
  }
 ],
 "metadata": {
  "kernelspec": {
   "display_name": "Python 3",
   "language": "python",
   "name": "python3"
  },
  "language_info": {
   "codemirror_mode": {
    "name": "ipython",
    "version": 3
   },
   "file_extension": ".py",
   "mimetype": "text/x-python",
   "name": "python",
   "nbconvert_exporter": "python",
   "pygments_lexer": "ipython3",
   "version": "3.6.4"
  }
 },
 "nbformat": 4,
 "nbformat_minor": 2
}
