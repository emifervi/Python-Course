{
 "cells": [
  {
   "cell_type": "markdown",
   "metadata": {},
   "source": [
    "# Tarea de funciones y métodos:\n",
    "\n",
    "Completa las siguientres preguntas.\n",
    "\n",
    "---\n",
    "\n",
    "**Escribe una función que calcule el volumen de una esfera dado un radio.\n",
    "\n",
    "El volumen de una esfera es definido por:\n",
    "\n",
    "<center>4/3π * r³</center>"
   ]
  },
  {
   "cell_type": "code",
   "execution_count": 11,
   "metadata": {},
   "outputs": [],
   "source": [
    "def vol(rad):\n",
    "    return 4/3 * 3.14 * rad ** 3"
   ]
  },
  {
   "cell_type": "code",
   "execution_count": 12,
   "metadata": {},
   "outputs": [
    {
     "data": {
      "text/plain": [
       "33.49333333333333"
      ]
     },
     "execution_count": 12,
     "metadata": {},
     "output_type": "execute_result"
    }
   ],
   "source": [
    "# Check\n",
    "vol(2)"
   ]
  },
  {
   "cell_type": "markdown",
   "metadata": {},
   "source": [
    "---\n",
    "\n",
    "**Escribe una función que revise si un número dado está en un rango dado (incluyendo el alto y bajo)"
   ]
  },
  {
   "cell_type": "code",
   "execution_count": 18,
   "metadata": {},
   "outputs": [],
   "source": [
    "def ran_check(num,low,high):\n",
    "    if num in range(low, high + 1):\n",
    "        print(num, ' is in the range between ', low, ' and ', high)\n",
    "    else:\n",
    "        print(num, ' is not in range between ', low, ' and ', high)"
   ]
  },
  {
   "cell_type": "code",
   "execution_count": 19,
   "metadata": {},
   "outputs": [
    {
     "name": "stdout",
     "output_type": "stream",
     "text": [
      "5  is in the range between  2  and  7\n"
     ]
    }
   ],
   "source": [
    "# Check\n",
    "ran_check(5,2,7)"
   ]
  },
  {
   "cell_type": "code",
   "execution_count": 20,
   "metadata": {},
   "outputs": [
    {
     "name": "stdout",
     "output_type": "stream",
     "text": [
      "1  is not in range between  2  and  7\n"
     ]
    }
   ],
   "source": [
    "# Check\n",
    "ran_check(1,2,7)"
   ]
  },
  {
   "cell_type": "markdown",
   "metadata": {},
   "source": [
    "Si quisieras retornar un booleano"
   ]
  },
  {
   "cell_type": "code",
   "execution_count": 23,
   "metadata": {},
   "outputs": [],
   "source": [
    "def ran_bool(num,low,high):\n",
    "    return num in range(low, high+1)"
   ]
  },
  {
   "cell_type": "code",
   "execution_count": 24,
   "metadata": {},
   "outputs": [
    {
     "data": {
      "text/plain": [
       "True"
      ]
     },
     "execution_count": 24,
     "metadata": {},
     "output_type": "execute_result"
    }
   ],
   "source": [
    "# Check\n",
    "ran_bool(3,1,10)"
   ]
  },
  {
   "cell_type": "code",
   "execution_count": 25,
   "metadata": {},
   "outputs": [
    {
     "data": {
      "text/plain": [
       "False"
      ]
     },
     "execution_count": 25,
     "metadata": {},
     "output_type": "execute_result"
    }
   ],
   "source": [
    "# Check\n",
    "ran_bool(-1,1,10)"
   ]
  },
  {
   "cell_type": "markdown",
   "metadata": {},
   "source": [
    "---\n",
    "\n",
    "**Escribe una función en Python que tome un string y calcule el número de letras en mayuscula y letras en minúscula**\n",
    "\n",
    "> ```String Muestra: 'Hello Mr. Rogers, how are you this fine Tuesday?'```\n",
    "\n",
    "> ```Resultado esperado: ```\n",
    "\n",
    "> ```No. de letras mayúsculas: 4```\n",
    "\n",
    "> ```No. de letras minúsuclas: 33```\n",
    "\n",
    "PISTA: Dos métodos que pueden resultar útiles: **.isupper()** y **.islower()**\n",
    "\n",
    "Si te sientes ambicioso, explora el modulo de Collecciones para resolver este problema!"
   ]
  },
  {
   "cell_type": "code",
   "execution_count": 42,
   "metadata": {},
   "outputs": [],
   "source": [
    "def up_low(s):\n",
    "    \n",
    "    up = 0\n",
    "    low = 0\n",
    "    \n",
    "    for char in s:\n",
    "        if char.isupper():\n",
    "            up += 1\n",
    "        elif char.islower():\n",
    "            low +=1\n",
    "            \n",
    "    print('String original: ', s)\n",
    "    print('No. de letras mayúsculas: ', up)\n",
    "    print('No. de letras minúsculas: ', low)\n",
    "        "
   ]
  },
  {
   "cell_type": "code",
   "execution_count": 47,
   "metadata": {},
   "outputs": [
    {
     "name": "stdout",
     "output_type": "stream",
     "text": [
      "String original:  Hello Mr. Rogers, how are you this fine Tuesday?\n",
      "No. de letras mayúsculas:  4\n",
      "No. de letras minúsculas:  33\n"
     ]
    }
   ],
   "source": [
    "# Check\n",
    "s = 'Hello Mr. Rogers, how are you this fine Tuesday?'\n",
    "up_low(s)"
   ]
  },
  {
   "cell_type": "markdown",
   "metadata": {},
   "source": [
    "---\n",
    "\n",
    "**Escribe una función en python que tome una lista y retorne una nueva lista con elementos únicos de la primera.**\n",
    "\n",
    "> ```Lista de muestra: [1,1,1,1,2,2,3,3,3,3,4,5]```\n",
    "\n",
    "> ```Lista única: [1,2,3,4,5]```"
   ]
  },
  {
   "cell_type": "code",
   "execution_count": 48,
   "metadata": {},
   "outputs": [],
   "source": [
    "def unique_list(lst):\n",
    "    return list(set(lst))"
   ]
  },
  {
   "cell_type": "code",
   "execution_count": 46,
   "metadata": {},
   "outputs": [
    {
     "data": {
      "text/plain": [
       "[1, 2, 3, 4, 5]"
      ]
     },
     "execution_count": 46,
     "metadata": {},
     "output_type": "execute_result"
    }
   ],
   "source": [
    "# Check\n",
    "unique_list([1,1,1,1,2,2,3,3,3,3,4,5])"
   ]
  },
  {
   "cell_type": "markdown",
   "metadata": {},
   "source": [
    "---\n",
    "\n",
    "**Escribe una función en Python que multiplique todos los número en una lista**\n",
    "\n",
    "> ```Lista muestra: [1,2,3,-4]```\n",
    "\n",
    "> ```Resultado esperado: -24```"
   ]
  },
  {
   "cell_type": "code",
   "execution_count": 49,
   "metadata": {},
   "outputs": [],
   "source": [
    "def multiply(numbers):\n",
    "    result = 1\n",
    "    \n",
    "    for number in numbers:\n",
    "        result *= number\n",
    "    \n",
    "    return result"
   ]
  },
  {
   "cell_type": "code",
   "execution_count": 50,
   "metadata": {},
   "outputs": [
    {
     "data": {
      "text/plain": [
       "-24"
      ]
     },
     "execution_count": 50,
     "metadata": {},
     "output_type": "execute_result"
    }
   ],
   "source": [
    "# Check\n",
    "multiply([1,2,3,-4])"
   ]
  },
  {
   "cell_type": "markdown",
   "metadata": {},
   "source": [
    "---\n",
    "\n",
    "**Escribe una función en Python, que revice si un string es un palindromo o no***\n",
    "\n",
    "Nota: un palindromo es una frase o secuencia que se lee de la misma manera de adelante a atras y vice versa: ej.- madam o nurses run."
   ]
  },
  {
   "cell_type": "code",
   "execution_count": 72,
   "metadata": {},
   "outputs": [],
   "source": [
    "def palindrome(s):\n",
    "    \n",
    "    # Si el string tiene más de una palabra lo convierte en una sóla palabra \n",
    "    if(len(s.split()) >= 2):\n",
    "        s = ''.join(s.split())\n",
    "    \n",
    "    return s == s[::-1]"
   ]
  },
  {
   "cell_type": "code",
   "execution_count": 73,
   "metadata": {},
   "outputs": [
    {
     "data": {
      "text/plain": [
       "True"
      ]
     },
     "execution_count": 73,
     "metadata": {},
     "output_type": "execute_result"
    }
   ],
   "source": [
    "# Check\n",
    "palindrome('madam')"
   ]
  },
  {
   "cell_type": "code",
   "execution_count": 75,
   "metadata": {},
   "outputs": [
    {
     "data": {
      "text/plain": [
       "True"
      ]
     },
     "execution_count": 75,
     "metadata": {},
     "output_type": "execute_result"
    }
   ],
   "source": [
    "# Check\n",
    "palindrome('anita lava la tina')"
   ]
  },
  {
   "cell_type": "code",
   "execution_count": 77,
   "metadata": {},
   "outputs": [
    {
     "data": {
      "text/plain": [
       "True"
      ]
     },
     "execution_count": 77,
     "metadata": {},
     "output_type": "execute_result"
    }
   ],
   "source": [
    "# Check\n",
    "palindrome('nurses run')"
   ]
  },
  {
   "cell_type": "markdown",
   "metadata": {},
   "source": [
    "---\n",
    "**Difícil:**\n",
    "\n",
    "**Escribe una función en Python que revise si un string es un pangrama o no**\n",
    "\n",
    "> ```Nota: Pangramas son palabras u oraciones que contienen cada letra del alfabeto almenos una vez```\n",
    "\n",
    "> ```Por ejemplo: \"The quick brown fox jumps over the lazy dog\"```\n",
    "\n",
    "Hint: look at the string module"
   ]
  },
  {
   "cell_type": "code",
   "execution_count": 2,
   "metadata": {},
   "outputs": [],
   "source": [
    "import string\n",
    "\n",
    "def ispangram(str1, alphabet=string.ascii_lowercase):\n",
    "    mylist = []\n",
    "    \n",
    "    for char in str1:\n",
    "        if (char.lower() in alphabet) and (not(char.lower() in mylist)):\n",
    "            mylist.append(char.lower())\n",
    "            \n",
    "    return len(mylist) == len(alphabet)"
   ]
  },
  {
   "cell_type": "code",
   "execution_count": 3,
   "metadata": {},
   "outputs": [
    {
     "data": {
      "text/plain": [
       "True"
      ]
     },
     "execution_count": 3,
     "metadata": {},
     "output_type": "execute_result"
    }
   ],
   "source": [
    "# Check\n",
    "ispangram(\"The quick brown fox jumps over the lazy dog\")"
   ]
  },
  {
   "cell_type": "code",
   "execution_count": 12,
   "metadata": {},
   "outputs": [
    {
     "name": "stdout",
     "output_type": "stream",
     "text": [
      "Chose your next position (1-9): 0\n",
      "Chose your next position (1-9): 1\n"
     ]
    }
   ],
   "source": [
    "board = ['#',' ',' ',' ',' ',' ',' ',' ',' ',' ']\n",
    "\n",
    "def space_check(board, position):\n",
    "    return board[position] == ' '\n",
    "\n",
    "def player_choice(board):\n",
    "\n",
    "    choice = 0\n",
    "\n",
    "    while not(choice in range(1,10)):\n",
    "        choice = int(input('Chose your next position (1-9): '))\n",
    "   \n",
    "    if space_check(board, choice):\n",
    "        return choice\n",
    "\n",
    "while type(movement) != int:\n",
    "    movement = player_choice(board)"
   ]
  },
  {
   "cell_type": "markdown",
   "metadata": {},
   "source": [
    "**Buen Trabajo !**"
   ]
  }
 ],
 "metadata": {
  "kernelspec": {
   "display_name": "Python 3",
   "language": "python",
   "name": "python3"
  },
  "language_info": {
   "codemirror_mode": {
    "name": "ipython",
    "version": 3
   },
   "file_extension": ".py",
   "mimetype": "text/x-python",
   "name": "python",
   "nbconvert_exporter": "python",
   "pygments_lexer": "ipython3",
   "version": "3.6.4"
  }
 },
 "nbformat": 4,
 "nbformat_minor": 2
}
