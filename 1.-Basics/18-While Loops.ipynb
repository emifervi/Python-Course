{
 "cells": [
  {
   "cell_type": "markdown",
   "metadata": {},
   "source": [
    "# While Loops\n",
    "\n",
    "Este tipo de ciclos se encargan de ejecutar un bloque de código, mientras cierta condición se cumpla. Un ejemplo que podríamos tomar de la vida real sería \"Mientras (While) la jarra no esté llena, seguir echando agua.\"\n",
    "\n",
    "Estos loop en Python poseen la siguiente sintaxis:\n",
    "\n",
    "> ## while _cierta condición:_\n",
    "> > ## #ejecuta código\n",
    "\n",
    "En el caso de Python, además de un _while loop_ podemos agregar un _else_ posterior al loop para que en caso de que la condicionar no se cumpla y querramos que se ejecute algo diferente, lo podemos hacer de esa manera como en un _if/else_.\n",
    "\n",
    "- Ej.-\n",
    "\n",
    "> ## while _cierta_condición:_\n",
    "> > ## #ejecuta código\n",
    "\n",
    "> ## else:\n",
    "> > ## #ejecuta algo diferente\n",
    "\n",
    "Es importante recordar que la condición que es necesario crear siempre una manera de romper la condición que hace que se ejecute el ciclo, de otra manera este se puede ejecutar infinitamente y hacer errar a nuestro programa."
   ]
  },
  {
   "cell_type": "code",
   "execution_count": 5,
   "metadata": {},
   "outputs": [
    {
     "name": "stdout",
     "output_type": "stream",
     "text": [
      "Valor de x = 0\n",
      "Valor de x = 1\n",
      "Valor de x = 2\n",
      "Valor de x = 3\n",
      "Valor de x = 4\n",
      "X no es menor a 5\n"
     ]
    }
   ],
   "source": [
    "x = 0\n",
    "while x < 5:\n",
    "    print(f'Valor de x = {x}')\n",
    "    x += 1 # es lo mismo que x = x + 1, pero compactado\n",
    "else:\n",
    "    print('X no es menor a 5')"
   ]
  },
  {
   "cell_type": "markdown",
   "metadata": {},
   "source": [
    "A continuación veremos como usar estos _loops_ con contadores nos pueden servir en el uso de indexaciones con strings o incluso para recorrer listas."
   ]
  },
  {
   "cell_type": "code",
   "execution_count": 6,
   "metadata": {},
   "outputs": [
    {
     "name": "stdout",
     "output_type": "stream",
     "text": [
      "H\n",
      "e\n",
      "l\n",
      "l\n",
      "o\n",
      " \n",
      "W\n",
      "o\n",
      "r\n",
      "l\n",
      "d\n"
     ]
    }
   ],
   "source": [
    "myString = 'Hello World'\n",
    "\n",
    "x = 0\n",
    "while x < len(myString):\n",
    "    print(myString[x])\n",
    "    x += 1"
   ]
  },
  {
   "cell_type": "code",
   "execution_count": 9,
   "metadata": {},
   "outputs": [
    {
     "name": "stdout",
     "output_type": "stream",
     "text": [
      "1\n",
      "2\n",
      "3\n",
      "4\n",
      "5\n"
     ]
    }
   ],
   "source": [
    "myList = [1,2,3,4,5]\n",
    "\n",
    "x = 0\n",
    "while x < len(myList):\n",
    "    print(myList[x])\n",
    "    x+=1"
   ]
  },
  {
   "cell_type": "markdown",
   "metadata": {},
   "source": [
    "## break, continue, pass\n",
    "\n",
    "Estas tres palabras son palabras clave que nos permiten agregarle aun más funcionalidad a nuestros loops y funcionan de la siguiente manera:\n",
    "\n",
    "- break: rompe el loop adentro del cual se encuentra encerrado.\n",
    "- continue: regresa a la cabecera del loop en el que se encuentra encerrado.\n",
    "- pass: literalmente no hace nada.\n",
    "\n",
    "\n",
    "- Ej.-\n",
    "\n",
    "En este primer caso utilizamos la palabra _pass_ para que se ejecute el loop pero no se ejecute nada adentro de él, en caso de no utilizarla, causaría un error de compilación y nuestro programa no se podría ejecutar."
   ]
  },
  {
   "cell_type": "code",
   "execution_count": 11,
   "metadata": {},
   "outputs": [
    {
     "name": "stdout",
     "output_type": "stream",
     "text": [
      "No pasa nada\n"
     ]
    }
   ],
   "source": [
    "myList = [1, 2, 3, 4, 5, 6, 8, 9]\n",
    "\n",
    "for num in myList:\n",
    "    pass\n",
    "\n",
    "print('No pasa nada')"
   ]
  },
  {
   "cell_type": "markdown",
   "metadata": {},
   "source": [
    "Para este segundo caso utilizaremos la palabra _continue_ para imprimir sólo los números impares dentro de la lista."
   ]
  },
  {
   "cell_type": "code",
   "execution_count": 14,
   "metadata": {},
   "outputs": [
    {
     "name": "stdout",
     "output_type": "stream",
     "text": [
      "1\n",
      "3\n",
      "5\n",
      "9\n"
     ]
    }
   ],
   "source": [
    "for num in myList:\n",
    "    if num % 2 == 0:\n",
    "        continue\n",
    "    print(num)"
   ]
  },
  {
   "cell_type": "markdown",
   "metadata": {},
   "source": [
    "Por último, utilizaremos la palabra _break_ para romper el loop una vez que lleguemos al número 5"
   ]
  },
  {
   "cell_type": "code",
   "execution_count": 13,
   "metadata": {},
   "outputs": [
    {
     "name": "stdout",
     "output_type": "stream",
     "text": [
      "1\n",
      "2\n",
      "3\n",
      "4\n"
     ]
    }
   ],
   "source": [
    "for num in myList:\n",
    "    if num == 5:\n",
    "        break\n",
    "    print(num)"
   ]
  },
  {
   "cell_type": "markdown",
   "metadata": {},
   "source": [
    "En estos ejemplos se utilizaron _for loops_ para propositos de demostración sin embargo también es posible usar estas palabras para controlar _while loops_"
   ]
  },
  {
   "cell_type": "code",
   "execution_count": 16,
   "metadata": {},
   "outputs": [
    {
     "name": "stdout",
     "output_type": "stream",
     "text": [
      "No pasa nada\n"
     ]
    }
   ],
   "source": [
    "i = 0\n",
    "\n",
    "while i < len(myList):\n",
    "    pass\n",
    "    i += 1\n",
    "\n",
    "print('No pasa nada')"
   ]
  },
  {
   "cell_type": "code",
   "execution_count": 20,
   "metadata": {},
   "outputs": [
    {
     "name": "stdout",
     "output_type": "stream",
     "text": [
      "1\n",
      "3\n",
      "5\n",
      "9\n"
     ]
    }
   ],
   "source": [
    "i = 0\n",
    "\n",
    "while i < len(myList):\n",
    "    if myList[i] % 2 == 0:\n",
    "        i += 1 #necesario actualizar en la condicional continua el loop infinitamente\n",
    "        continue\n",
    "        \n",
    "    print(myList[i])\n",
    "    i += 1"
   ]
  },
  {
   "cell_type": "code",
   "execution_count": 21,
   "metadata": {},
   "outputs": [
    {
     "name": "stdout",
     "output_type": "stream",
     "text": [
      "1\n",
      "2\n",
      "3\n",
      "4\n"
     ]
    }
   ],
   "source": [
    "i = 0\n",
    "\n",
    "while i < len(myList):\n",
    "    if myList[i] == 5:\n",
    "        break\n",
    "    print(myList[i])\n",
    "    i += 1"
   ]
  }
 ],
 "metadata": {
  "kernelspec": {
   "display_name": "Python 3",
   "language": "python",
   "name": "python3"
  },
  "language_info": {
   "codemirror_mode": {
    "name": "ipython",
    "version": 3
   },
   "file_extension": ".py",
   "mimetype": "text/x-python",
   "name": "python",
   "nbconvert_exporter": "python",
   "pygments_lexer": "ipython3",
   "version": "3.6.4"
  }
 },
 "nbformat": 4,
 "nbformat_minor": 2
}
