{
 "cells": [
  {
   "cell_type": "markdown",
   "metadata": {},
   "source": [
    "# Declaraciones anidadas y scope.\n",
    "\n",
    "Cuando uno define una variable a la hora de programar, existe algo conocido como el _scope_ o alcance de dice definición. Es decir si uno de la cierto valor a una variable y después hace una declaración de variables con el mismo nombre en otro lugar este alcance puede o no modficar el valor de la variable previamente establecida. Veamos esto más a detalle:"
   ]
  },
  {
   "cell_type": "code",
   "execution_count": 7,
   "metadata": {},
   "outputs": [],
   "source": [
    "x = 25 # Primera declaración\n",
    "\n",
    "def func():\n",
    "    x = 50 # Segunda declaración.\n",
    "    return x"
   ]
  },
  {
   "cell_type": "code",
   "execution_count": 8,
   "metadata": {},
   "outputs": [
    {
     "name": "stdout",
     "output_type": "stream",
     "text": [
      "25\n"
     ]
    }
   ],
   "source": [
    "print(x)"
   ]
  },
  {
   "cell_type": "code",
   "execution_count": 9,
   "metadata": {},
   "outputs": [
    {
     "name": "stdout",
     "output_type": "stream",
     "text": [
      "50\n"
     ]
    }
   ],
   "source": [
    "print(func())"
   ]
  },
  {
   "cell_type": "code",
   "execution_count": 11,
   "metadata": {},
   "outputs": [
    {
     "name": "stdout",
     "output_type": "stream",
     "text": [
      "25\n"
     ]
    }
   ],
   "source": [
    "print(x)"
   ]
  },
  {
   "cell_type": "markdown",
   "metadata": {},
   "source": [
    "Como podemos ver en el ejemplo de arriba, la variable _x_ ha sido declarada dos veces en la celda, sin embargo aún después de ejecutar la función al imprimir _x_ siempre imprime 25, esto sucede debido al alcance previamente mencionado.\n",
    "\n",
    "En Python, el alcance de la definición de una variable está en el siguiente orden:\n",
    "\n",
    "- local\n",
    "\n",
    "- enclosing functions (funciones anidadas)\n",
    "\n",
    "- globales\n",
    "\n",
    "- built-in (variable que forman parte del lenguaje)\n",
    "\n",
    "Este orden es conocido como la regla LEGB:\n",
    "\n",
    "L:Local -- Los nombres asignados de alguna manera en una función (def o lambda) y no declarados globales en la función\n",
    "\n",
    "E:Enclosing function locals -- Nombres en el alcance local de todas las funciones (def o lambda) que encierran la función (de adentro a afuera)\n",
    "\n",
    "G:Global(module) -- Nombres asignados al inicio de de un archivo modular o declarada global en una def dentro de un archivo\n",
    "\n",
    "B:Built-in(Python) -- Nombres preassignados en el modulo de nombres construidos: open, range, SyntaxError,...\n",
    "\n",
    "## Ejemplos rápidos de LEGB\n",
    "\n",
    "### Local"
   ]
  },
  {
   "cell_type": "code",
   "execution_count": 12,
   "metadata": {},
   "outputs": [],
   "source": [
    "# x aquí es local:\n",
    "f = lambda x:x**2"
   ]
  },
  {
   "cell_type": "markdown",
   "metadata": {},
   "source": [
    "### Enclosign function locals\n",
    "\n",
    "Esto ocurre cuando tenemos una función adentro de una función (funciones anidadas)"
   ]
  },
  {
   "cell_type": "code",
   "execution_count": 13,
   "metadata": {},
   "outputs": [
    {
     "name": "stdout",
     "output_type": "stream",
     "text": [
      "Hello Yanny\n"
     ]
    }
   ],
   "source": [
    "name = 'Este es un nombre global'\n",
    "\n",
    "def greet():\n",
    "    # Función externa\n",
    "    name = 'Yanny'\n",
    "    \n",
    "    def hello():\n",
    "        print('Hello '+name)\n",
    "    \n",
    "    hello()\n",
    "    \n",
    "greet()"
   ]
  },
  {
   "cell_type": "markdown",
   "metadata": {},
   "source": [
    "Hay que observar como 'Yanny' fue el valor utilizado por que la función _hello()_ estaba encerrada dentro de la función _greet()_ \n",
    "\n",
    "### Global\n",
    "\n",
    "Afortunadamente en Jupyter una manera rápida de probar si una variable es global es ver si otra celda la reconoce:"
   ]
  },
  {
   "cell_type": "code",
   "execution_count": 14,
   "metadata": {},
   "outputs": [
    {
     "name": "stdout",
     "output_type": "stream",
     "text": [
      "Este es un nombre global\n"
     ]
    }
   ],
   "source": [
    "print(name)"
   ]
  },
  {
   "cell_type": "markdown",
   "metadata": {},
   "source": [
    "### Built-in\n",
    "\n",
    "Estas variables son nombres que vienen predefinidos en Python (no sobre escribas estas definiciones !)"
   ]
  },
  {
   "cell_type": "code",
   "execution_count": 15,
   "metadata": {},
   "outputs": [
    {
     "data": {
      "text/plain": [
       "<function len>"
      ]
     },
     "execution_count": 15,
     "metadata": {},
     "output_type": "execute_result"
    }
   ],
   "source": [
    "len"
   ]
  },
  {
   "cell_type": "markdown",
   "metadata": {},
   "source": [
    "## Variables Locales\n",
    "\n",
    "Cuando declaras variables adentro de la definición de una función, estas no están relacionadas de ninguna manera con otras variables que tengan el mismo nombre que se utilicen afuera de esta función. Entiendase que los nombres de las variables son locales a la función. Esto es parte también del alcance o _scope_ de las variables. Todas las variables tienen alcance del bloque en el que son declaradas iniciando desde el punto en el que se declaran.\n",
    "\n",
    "- Ej.-"
   ]
  },
  {
   "cell_type": "code",
   "execution_count": 16,
   "metadata": {},
   "outputs": [
    {
     "name": "stdout",
     "output_type": "stream",
     "text": [
      "x is 50\n",
      "Changed local x to 2\n",
      "x is still 50\n"
     ]
    }
   ],
   "source": [
    "x = 50\n",
    "\n",
    "def func(x):\n",
    "    print('x is', x)\n",
    "    x = 2\n",
    "    print('Changed local x to', x)\n",
    "    \n",
    "func(x)\n",
    "print('x is still', x)"
   ]
  },
  {
   "cell_type": "markdown",
   "metadata": {},
   "source": [
    "En esta situación el primer print imprime el valor que tiene la _x_ creada localmente a la hora de recibir la x global como argumento, después la _x_ local cambia a dos y en la segunda impresión se hace notar. Sin embargo, el valor de nuestra x global no ha cambiado.\n",
    "\n",
    "## Declaración ```global``` \n",
    "\n",
    "Si quieres asginar un nombre de manera no local, sino global, dentro de la definición de una función entonces es necesario utilizar la palabra ```global```, esto nos permitirá modificar las variables globales en un scope local debido a que estamos avisandole previamente a nuestro programa con cuál variable queremos trabajar. No obstante, aun cuando el lenguaje nos prermite hacer esto, no es recomendable debido a que se vuelve más dificil leer un programa con este tipo de declaraciones.\n",
    "\n",
    "- Ej.-"
   ]
  },
  {
   "cell_type": "code",
   "execution_count": 17,
   "metadata": {},
   "outputs": [
    {
     "name": "stdout",
     "output_type": "stream",
     "text": [
      "Antes de llamar func(), x es:  50\n",
      "Esta función ahora usa la x global !\n",
      "Debido a x global x vale:  50\n",
      "Una vez corrida func(), x global cambió a:  2\n",
      "Valor de x fuera de func() es:  2\n"
     ]
    }
   ],
   "source": [
    "x = 50\n",
    "\n",
    "def func():\n",
    "    global x\n",
    "    print('Esta función ahora usa la x global !')\n",
    "    print('Debido a x global x vale: ', x)\n",
    "    x = 2\n",
    "    print('Una vez corrida func(), x global cambió a: ', x)\n",
    "    \n",
    "print('Antes de llamar func(), x es: ', x)\n",
    "func()\n",
    "print('Valor de x fuera de func() es: ', x)"
   ]
  },
  {
   "cell_type": "markdown",
   "metadata": {},
   "source": [
    "Una manera más limpia y tradicional de hacer esto sería utilizar un retorno."
   ]
  },
  {
   "cell_type": "code",
   "execution_count": 18,
   "metadata": {},
   "outputs": [
    {
     "name": "stdout",
     "output_type": "stream",
     "text": [
      "Antes de llamar func(), x es:  50\n",
      "Después de llamar a func(), x es:  2\n"
     ]
    }
   ],
   "source": [
    "x = 50\n",
    "\n",
    "def func(x):\n",
    "    x = 2\n",
    "    return x\n",
    "\n",
    "print('Antes de llamar func(), x es: ', x)\n",
    "x = func(x)\n",
    "print('Después de llamar a func(), x es: ', x)"
   ]
  }
 ],
 "metadata": {
  "kernelspec": {
   "display_name": "Python 3",
   "language": "python",
   "name": "python3"
  },
  "language_info": {
   "codemirror_mode": {
    "name": "ipython",
    "version": 3
   },
   "file_extension": ".py",
   "mimetype": "text/x-python",
   "name": "python",
   "nbconvert_exporter": "python",
   "pygments_lexer": "ipython3",
   "version": "3.6.4"
  }
 },
 "nbformat": 4,
 "nbformat_minor": 2
}
