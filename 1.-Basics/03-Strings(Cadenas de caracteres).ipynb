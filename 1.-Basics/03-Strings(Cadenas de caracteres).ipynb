{
 "cells": [
  {
   "cell_type": "markdown",
   "metadata": {},
   "source": [
    "# **Strings**\n",
    "\n",
    "Los textos a la hora de programar se conocen como el tipo de dato _string_ o _cadena de caracteres_ estos se pueden representar de dos maneras diferentes."
   ]
  },
  {
   "cell_type": "code",
   "execution_count": 1,
   "metadata": {},
   "outputs": [
    {
     "data": {
      "text/plain": [
       "'hello'"
      ]
     },
     "execution_count": 1,
     "metadata": {},
     "output_type": "execute_result"
    }
   ],
   "source": [
    "'hello'"
   ]
  },
  {
   "cell_type": "code",
   "execution_count": 2,
   "metadata": {},
   "outputs": [
    {
     "data": {
      "text/plain": [
       "'world'"
      ]
     },
     "execution_count": 2,
     "metadata": {},
     "output_type": "execute_result"
    }
   ],
   "source": [
    "\"world\""
   ]
  },
  {
   "cell_type": "code",
   "execution_count": 3,
   "metadata": {},
   "outputs": [
    {
     "data": {
      "text/plain": [
       "'este es un string'"
      ]
     },
     "execution_count": 3,
     "metadata": {},
     "output_type": "execute_result"
    }
   ],
   "source": [
    "'este es un string'"
   ]
  },
  {
   "cell_type": "markdown",
   "metadata": {},
   "source": [
    "La ventaja que tiene que el lenguaje de programacion nos permita hacer esto viene por ejemplo en ingles cuando queremos usar una palabra comprimida con un apostrofe por ejemplo _I'm_ en otros lenguajes la el apostrofe cortaria el texto, sin embargo en Python podemos hacer algo como:"
   ]
  },
  {
   "cell_type": "code",
   "execution_count": 5,
   "metadata": {},
   "outputs": [
    {
     "data": {
      "text/plain": [
       "\"I'm programming\""
      ]
     },
     "execution_count": 5,
     "metadata": {},
     "output_type": "execute_result"
    }
   ],
   "source": [
    "\"I'm programming\""
   ]
  },
  {
   "cell_type": "markdown",
   "metadata": {},
   "source": [
    "y nuestro string no se veria cortado por el apostrofe."
   ]
  },
  {
   "cell_type": "markdown",
   "metadata": {},
   "source": [
    "Hasta este punto solo hemos hecho que Python nos retorne el valor de los strings que se han estado utilizando, es por eso que en la parte de los _Out_ de cada linea podemos observar las comillas que encierran a nuestro string. \n",
    "\n",
    "Si nosotros quisieramos imprimir el texto del string lo que hariamos seria:"
   ]
  },
  {
   "cell_type": "code",
   "execution_count": 6,
   "metadata": {},
   "outputs": [
    {
     "name": "stdout",
     "output_type": "stream",
     "text": [
      "Este es un string\n"
     ]
    }
   ],
   "source": [
    "print(\"Este es un string\")"
   ]
  },
  {
   "cell_type": "markdown",
   "metadata": {},
   "source": [
    "Como podemos ver, las comillas que encierran al string en la funcion _print()_ han desaparecido asi como la notacion de _Out_ al lado de la celda.\n",
    "\n",
    "Para el uso de Jupyter Notebooks, es necesario hacer notar que la notacion entre usar _print()_ y no usarlo es importante como podemos ver a continuacion:"
   ]
  },
  {
   "cell_type": "code",
   "execution_count": 8,
   "metadata": {},
   "outputs": [
    {
     "data": {
      "text/plain": [
       "'Hello world two'"
      ]
     },
     "execution_count": 8,
     "metadata": {},
     "output_type": "execute_result"
    }
   ],
   "source": [
    "\"Hello world one\"\n",
    "\"Hello world two\""
   ]
  },
  {
   "cell_type": "markdown",
   "metadata": {},
   "source": [
    "El programa retorna solamente la segunda linea, pero si usamos la funcion _print()_"
   ]
  },
  {
   "cell_type": "code",
   "execution_count": 9,
   "metadata": {},
   "outputs": [
    {
     "name": "stdout",
     "output_type": "stream",
     "text": [
      "Hello word one\n",
      "Hello world two\n"
     ]
    }
   ],
   "source": [
    "print(\"Hello word one\")\n",
    "print(\"Hello world two\")"
   ]
  },
  {
   "cell_type": "markdown",
   "metadata": {},
   "source": [
    "Podemos observar como el programa imprime ambos strings."
   ]
  },
  {
   "cell_type": "markdown",
   "metadata": {},
   "source": [
    "La funcion print en el idioma Python tambien nos permite utilizar caracteres especiales como en otros lenguajes como pueden ser:\n",
    "\n",
    "> - \\n (inicia una nueva linea)\n",
    "> - \\t (hace una sangria o indentacion)\n",
    "\n",
    "Ej.-"
   ]
  },
  {
   "cell_type": "code",
   "execution_count": 10,
   "metadata": {},
   "outputs": [
    {
     "name": "stdout",
     "output_type": "stream",
     "text": [
      "Hello \n",
      "world\n"
     ]
    }
   ],
   "source": [
    "print(\"Hello \\nworld\")"
   ]
  },
  {
   "cell_type": "code",
   "execution_count": 12,
   "metadata": {},
   "outputs": [
    {
     "name": "stdout",
     "output_type": "stream",
     "text": [
      "Hello\tworld\n"
     ]
    }
   ],
   "source": [
    "print(\"Hello\\tworld\")"
   ]
  },
  {
   "cell_type": "markdown",
   "metadata": {},
   "source": [
    "Por ultimo en esta leccion existe una funcion mas a la hora de trabajar con strings que nos puede resultar util en algunas situaciones.\n",
    "\n",
    "Esta funcion es la funcion: _len()_\n",
    "\n",
    "El proposito o uso de dicha funcion es que retorna el valor numerico de la cantidad de caracteres (incluidos los espacios) que tiene nuestro string.\n",
    "\n",
    "Ej.-"
   ]
  },
  {
   "cell_type": "code",
   "execution_count": 13,
   "metadata": {},
   "outputs": [
    {
     "data": {
      "text/plain": [
       "5"
      ]
     },
     "execution_count": 13,
     "metadata": {},
     "output_type": "execute_result"
    }
   ],
   "source": [
    "len(\"Hello\")"
   ]
  },
  {
   "cell_type": "code",
   "execution_count": 14,
   "metadata": {},
   "outputs": [
    {
     "data": {
      "text/plain": [
       "6"
      ]
     },
     "execution_count": 14,
     "metadata": {},
     "output_type": "execute_result"
    }
   ],
   "source": [
    "len(\"yo soy\")"
   ]
  }
 ],
 "metadata": {
  "kernelspec": {
   "display_name": "Python 3",
   "language": "python",
   "name": "python3"
  },
  "language_info": {
   "codemirror_mode": {
    "name": "ipython",
    "version": 3
   },
   "file_extension": ".py",
   "mimetype": "text/x-python",
   "name": "python",
   "nbconvert_exporter": "python",
   "pygments_lexer": "ipython3",
   "version": "3.6.4"
  }
 },
 "nbformat": 4,
 "nbformat_minor": 2
}
